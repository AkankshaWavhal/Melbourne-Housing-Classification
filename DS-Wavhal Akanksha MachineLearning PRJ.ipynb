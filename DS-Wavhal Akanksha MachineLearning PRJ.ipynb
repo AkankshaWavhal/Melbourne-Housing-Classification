{
 "cells": [
  {
   "cell_type": "code",
   "execution_count": 17,
   "id": "42be88d8-1be5-4e17-8e51-912861c659e2",
   "metadata": {},
   "outputs": [
    {
     "data": {
      "text/html": [
       "<div>\n",
       "<style scoped>\n",
       "    .dataframe tbody tr th:only-of-type {\n",
       "        vertical-align: middle;\n",
       "    }\n",
       "\n",
       "    .dataframe tbody tr th {\n",
       "        vertical-align: top;\n",
       "    }\n",
       "\n",
       "    .dataframe thead th {\n",
       "        text-align: right;\n",
       "    }\n",
       "</style>\n",
       "<table border=\"1\" class=\"dataframe\">\n",
       "  <thead>\n",
       "    <tr style=\"text-align: right;\">\n",
       "      <th></th>\n",
       "      <th>Suburb</th>\n",
       "      <th>Address</th>\n",
       "      <th>Rooms</th>\n",
       "      <th>Type</th>\n",
       "      <th>Method</th>\n",
       "      <th>SellerG</th>\n",
       "      <th>Date</th>\n",
       "      <th>Distance</th>\n",
       "      <th>Postcode</th>\n",
       "      <th>Bedroom</th>\n",
       "      <th>...</th>\n",
       "      <th>Landsize</th>\n",
       "      <th>BuildingArea</th>\n",
       "      <th>YearBuilt</th>\n",
       "      <th>CouncilArea</th>\n",
       "      <th>Latitude</th>\n",
       "      <th>Longtitude</th>\n",
       "      <th>Regionname</th>\n",
       "      <th>Propertycount</th>\n",
       "      <th>ParkingArea</th>\n",
       "      <th>Price</th>\n",
       "    </tr>\n",
       "  </thead>\n",
       "  <tbody>\n",
       "    <tr>\n",
       "      <th>0</th>\n",
       "      <td>Abbotsford</td>\n",
       "      <td>68 Studley St</td>\n",
       "      <td>2</td>\n",
       "      <td>h</td>\n",
       "      <td>SS</td>\n",
       "      <td>Jellis</td>\n",
       "      <td>3/9/2016</td>\n",
       "      <td>2.5</td>\n",
       "      <td>3067.0</td>\n",
       "      <td>2.0</td>\n",
       "      <td>...</td>\n",
       "      <td>126.0</td>\n",
       "      <td>inf</td>\n",
       "      <td>NaN</td>\n",
       "      <td>Yarra City Council</td>\n",
       "      <td>-37.80140</td>\n",
       "      <td>144.99580</td>\n",
       "      <td>Northern Metropolitan</td>\n",
       "      <td>4019.0</td>\n",
       "      <td>Carport</td>\n",
       "      <td>NaN</td>\n",
       "    </tr>\n",
       "    <tr>\n",
       "      <th>1</th>\n",
       "      <td>Airport West</td>\n",
       "      <td>154 Halsey Rd</td>\n",
       "      <td>3</td>\n",
       "      <td>t</td>\n",
       "      <td>PI</td>\n",
       "      <td>Nelson</td>\n",
       "      <td>3/9/2016</td>\n",
       "      <td>13.5</td>\n",
       "      <td>3042.0</td>\n",
       "      <td>3.0</td>\n",
       "      <td>...</td>\n",
       "      <td>303.0</td>\n",
       "      <td>225</td>\n",
       "      <td>2016.0</td>\n",
       "      <td>Moonee Valley City Council</td>\n",
       "      <td>-37.71800</td>\n",
       "      <td>144.87800</td>\n",
       "      <td>Western Metropolitan</td>\n",
       "      <td>3464.0</td>\n",
       "      <td>Detached Garage</td>\n",
       "      <td>840000.0</td>\n",
       "    </tr>\n",
       "    <tr>\n",
       "      <th>2</th>\n",
       "      <td>Albert Park</td>\n",
       "      <td>105 Kerferd Rd</td>\n",
       "      <td>2</td>\n",
       "      <td>h</td>\n",
       "      <td>S</td>\n",
       "      <td>hockingstuart</td>\n",
       "      <td>3/9/2016</td>\n",
       "      <td>3.3</td>\n",
       "      <td>3206.0</td>\n",
       "      <td>2.0</td>\n",
       "      <td>...</td>\n",
       "      <td>120.0</td>\n",
       "      <td>82</td>\n",
       "      <td>1900.0</td>\n",
       "      <td>Port Phillip City Council</td>\n",
       "      <td>-37.84590</td>\n",
       "      <td>144.95550</td>\n",
       "      <td>Southern Metropolitan</td>\n",
       "      <td>3280.0</td>\n",
       "      <td>Attached Garage</td>\n",
       "      <td>1275000.0</td>\n",
       "    </tr>\n",
       "    <tr>\n",
       "      <th>3</th>\n",
       "      <td>Albert Park</td>\n",
       "      <td>85 Richardson St</td>\n",
       "      <td>2</td>\n",
       "      <td>h</td>\n",
       "      <td>S</td>\n",
       "      <td>Thomson</td>\n",
       "      <td>3/9/2016</td>\n",
       "      <td>3.3</td>\n",
       "      <td>3206.0</td>\n",
       "      <td>2.0</td>\n",
       "      <td>...</td>\n",
       "      <td>159.0</td>\n",
       "      <td>inf</td>\n",
       "      <td>NaN</td>\n",
       "      <td>Port Phillip City Council</td>\n",
       "      <td>-37.84500</td>\n",
       "      <td>144.95380</td>\n",
       "      <td>Southern Metropolitan</td>\n",
       "      <td>3280.0</td>\n",
       "      <td>Indoor</td>\n",
       "      <td>1455000.0</td>\n",
       "    </tr>\n",
       "    <tr>\n",
       "      <th>4</th>\n",
       "      <td>Alphington</td>\n",
       "      <td>30 Austin St</td>\n",
       "      <td>3</td>\n",
       "      <td>h</td>\n",
       "      <td>SN</td>\n",
       "      <td>McGrath</td>\n",
       "      <td>3/9/2016</td>\n",
       "      <td>6.4</td>\n",
       "      <td>3078.0</td>\n",
       "      <td>3.0</td>\n",
       "      <td>...</td>\n",
       "      <td>174.0</td>\n",
       "      <td>122</td>\n",
       "      <td>2003.0</td>\n",
       "      <td>Darebin City Council</td>\n",
       "      <td>-37.78180</td>\n",
       "      <td>145.01980</td>\n",
       "      <td>Northern Metropolitan</td>\n",
       "      <td>2211.0</td>\n",
       "      <td>Parkade</td>\n",
       "      <td>NaN</td>\n",
       "    </tr>\n",
       "    <tr>\n",
       "      <th>...</th>\n",
       "      <td>...</td>\n",
       "      <td>...</td>\n",
       "      <td>...</td>\n",
       "      <td>...</td>\n",
       "      <td>...</td>\n",
       "      <td>...</td>\n",
       "      <td>...</td>\n",
       "      <td>...</td>\n",
       "      <td>...</td>\n",
       "      <td>...</td>\n",
       "      <td>...</td>\n",
       "      <td>...</td>\n",
       "      <td>...</td>\n",
       "      <td>...</td>\n",
       "      <td>...</td>\n",
       "      <td>...</td>\n",
       "      <td>...</td>\n",
       "      <td>...</td>\n",
       "      <td>...</td>\n",
       "      <td>...</td>\n",
       "      <td>...</td>\n",
       "    </tr>\n",
       "    <tr>\n",
       "      <th>34852</th>\n",
       "      <td>Reservoir</td>\n",
       "      <td>18 Elinda Pl</td>\n",
       "      <td>3</td>\n",
       "      <td>u</td>\n",
       "      <td>SP</td>\n",
       "      <td>RW</td>\n",
       "      <td>30/09/2017</td>\n",
       "      <td>12.0</td>\n",
       "      <td>3073.0</td>\n",
       "      <td>3.0</td>\n",
       "      <td>...</td>\n",
       "      <td>NaN</td>\n",
       "      <td>105.0</td>\n",
       "      <td>1990.0</td>\n",
       "      <td>Darebin City Council</td>\n",
       "      <td>-37.69769</td>\n",
       "      <td>145.02332</td>\n",
       "      <td>Northern Metropolitan</td>\n",
       "      <td>21650.0</td>\n",
       "      <td>Parkade</td>\n",
       "      <td>475000.0</td>\n",
       "    </tr>\n",
       "    <tr>\n",
       "      <th>34853</th>\n",
       "      <td>Roxburgh Park</td>\n",
       "      <td>14 Stainsby Cr</td>\n",
       "      <td>4</td>\n",
       "      <td>h</td>\n",
       "      <td>S</td>\n",
       "      <td>Raine</td>\n",
       "      <td>30/09/2017</td>\n",
       "      <td>20.6</td>\n",
       "      <td>3064.0</td>\n",
       "      <td>4.0</td>\n",
       "      <td>...</td>\n",
       "      <td>NaN</td>\n",
       "      <td>225.0</td>\n",
       "      <td>1995.0</td>\n",
       "      <td>Hume City Council</td>\n",
       "      <td>-37.63665</td>\n",
       "      <td>144.92976</td>\n",
       "      <td>Northern Metropolitan</td>\n",
       "      <td>5833.0</td>\n",
       "      <td>Underground</td>\n",
       "      <td>591000.0</td>\n",
       "    </tr>\n",
       "    <tr>\n",
       "      <th>34854</th>\n",
       "      <td>Springvale South</td>\n",
       "      <td>8 Bellbird Ct</td>\n",
       "      <td>4</td>\n",
       "      <td>h</td>\n",
       "      <td>PI</td>\n",
       "      <td>Barry</td>\n",
       "      <td>30/09/2017</td>\n",
       "      <td>22.2</td>\n",
       "      <td>3172.0</td>\n",
       "      <td>4.0</td>\n",
       "      <td>...</td>\n",
       "      <td>534.0</td>\n",
       "      <td>152.0</td>\n",
       "      <td>1970.0</td>\n",
       "      <td>Greater Dandenong City Council</td>\n",
       "      <td>-37.97037</td>\n",
       "      <td>145.15449</td>\n",
       "      <td>South-Eastern Metropolitan</td>\n",
       "      <td>4054.0</td>\n",
       "      <td>Carport</td>\n",
       "      <td>NaN</td>\n",
       "    </tr>\n",
       "    <tr>\n",
       "      <th>34855</th>\n",
       "      <td>Springvale South</td>\n",
       "      <td>30 Waddington Cr</td>\n",
       "      <td>3</td>\n",
       "      <td>h</td>\n",
       "      <td>S</td>\n",
       "      <td>Harcourts</td>\n",
       "      <td>30/09/2017</td>\n",
       "      <td>22.2</td>\n",
       "      <td>3172.0</td>\n",
       "      <td>3.0</td>\n",
       "      <td>...</td>\n",
       "      <td>544.0</td>\n",
       "      <td>NaN</td>\n",
       "      <td>NaN</td>\n",
       "      <td>Greater Dandenong City Council</td>\n",
       "      <td>-37.97751</td>\n",
       "      <td>145.14813</td>\n",
       "      <td>South-Eastern Metropolitan</td>\n",
       "      <td>4054.0</td>\n",
       "      <td>Detached Garage</td>\n",
       "      <td>780500.0</td>\n",
       "    </tr>\n",
       "    <tr>\n",
       "      <th>34856</th>\n",
       "      <td>Westmeadows</td>\n",
       "      <td>42 Pascoe St</td>\n",
       "      <td>4</td>\n",
       "      <td>h</td>\n",
       "      <td>S</td>\n",
       "      <td>Barry</td>\n",
       "      <td>30/09/2017</td>\n",
       "      <td>16.5</td>\n",
       "      <td>3049.0</td>\n",
       "      <td>4.0</td>\n",
       "      <td>...</td>\n",
       "      <td>813.0</td>\n",
       "      <td>140.0</td>\n",
       "      <td>1960.0</td>\n",
       "      <td>Hume City Council</td>\n",
       "      <td>-37.67631</td>\n",
       "      <td>144.89409</td>\n",
       "      <td>Northern Metropolitan</td>\n",
       "      <td>2474.0</td>\n",
       "      <td>Attached Garage</td>\n",
       "      <td>791000.0</td>\n",
       "    </tr>\n",
       "  </tbody>\n",
       "</table>\n",
       "<p>34857 rows × 22 columns</p>\n",
       "</div>"
      ],
      "text/plain": [
       "                 Suburb           Address  Rooms Type Method        SellerG  \\\n",
       "0            Abbotsford     68 Studley St      2    h     SS         Jellis   \n",
       "1          Airport West     154 Halsey Rd      3    t     PI         Nelson   \n",
       "2           Albert Park    105 Kerferd Rd      2    h      S  hockingstuart   \n",
       "3           Albert Park  85 Richardson St      2    h      S        Thomson   \n",
       "4            Alphington      30 Austin St      3    h     SN        McGrath   \n",
       "...                 ...               ...    ...  ...    ...            ...   \n",
       "34852         Reservoir      18 Elinda Pl      3    u     SP             RW   \n",
       "34853     Roxburgh Park    14 Stainsby Cr      4    h      S          Raine   \n",
       "34854  Springvale South     8 Bellbird Ct      4    h     PI          Barry   \n",
       "34855  Springvale South  30 Waddington Cr      3    h      S      Harcourts   \n",
       "34856       Westmeadows      42 Pascoe St      4    h      S          Barry   \n",
       "\n",
       "             Date  Distance  Postcode  Bedroom  ...  Landsize  BuildingArea  \\\n",
       "0        3/9/2016       2.5    3067.0      2.0  ...     126.0           inf   \n",
       "1        3/9/2016      13.5    3042.0      3.0  ...     303.0           225   \n",
       "2        3/9/2016       3.3    3206.0      2.0  ...     120.0            82   \n",
       "3        3/9/2016       3.3    3206.0      2.0  ...     159.0           inf   \n",
       "4        3/9/2016       6.4    3078.0      3.0  ...     174.0           122   \n",
       "...           ...       ...       ...      ...  ...       ...           ...   \n",
       "34852  30/09/2017      12.0    3073.0      3.0  ...       NaN         105.0   \n",
       "34853  30/09/2017      20.6    3064.0      4.0  ...       NaN         225.0   \n",
       "34854  30/09/2017      22.2    3172.0      4.0  ...     534.0         152.0   \n",
       "34855  30/09/2017      22.2    3172.0      3.0  ...     544.0           NaN   \n",
       "34856  30/09/2017      16.5    3049.0      4.0  ...     813.0         140.0   \n",
       "\n",
       "       YearBuilt                     CouncilArea  Latitude Longtitude  \\\n",
       "0            NaN              Yarra City Council -37.80140  144.99580   \n",
       "1         2016.0      Moonee Valley City Council -37.71800  144.87800   \n",
       "2         1900.0       Port Phillip City Council -37.84590  144.95550   \n",
       "3            NaN       Port Phillip City Council -37.84500  144.95380   \n",
       "4         2003.0            Darebin City Council -37.78180  145.01980   \n",
       "...          ...                             ...       ...        ...   \n",
       "34852     1990.0            Darebin City Council -37.69769  145.02332   \n",
       "34853     1995.0               Hume City Council -37.63665  144.92976   \n",
       "34854     1970.0  Greater Dandenong City Council -37.97037  145.15449   \n",
       "34855        NaN  Greater Dandenong City Council -37.97751  145.14813   \n",
       "34856     1960.0               Hume City Council -37.67631  144.89409   \n",
       "\n",
       "                       Regionname  Propertycount      ParkingArea      Price  \n",
       "0           Northern Metropolitan         4019.0          Carport        NaN  \n",
       "1            Western Metropolitan         3464.0  Detached Garage   840000.0  \n",
       "2           Southern Metropolitan         3280.0  Attached Garage  1275000.0  \n",
       "3           Southern Metropolitan         3280.0           Indoor  1455000.0  \n",
       "4           Northern Metropolitan         2211.0          Parkade        NaN  \n",
       "...                           ...            ...              ...        ...  \n",
       "34852       Northern Metropolitan        21650.0          Parkade   475000.0  \n",
       "34853       Northern Metropolitan         5833.0      Underground   591000.0  \n",
       "34854  South-Eastern Metropolitan         4054.0          Carport        NaN  \n",
       "34855  South-Eastern Metropolitan         4054.0  Detached Garage   780500.0  \n",
       "34856       Northern Metropolitan         2474.0  Attached Garage   791000.0  \n",
       "\n",
       "[34857 rows x 22 columns]"
      ]
     },
     "execution_count": 17,
     "metadata": {},
     "output_type": "execute_result"
    }
   ],
   "source": [
    "df = pd.read_csv(\"Melbourne_Housing_Full.csv\")\n",
    "df"
   ]
  },
  {
   "cell_type": "code",
   "execution_count": 16,
   "id": "5b4902dd-4436-4e98-ba6c-6956719af50d",
   "metadata": {},
   "outputs": [],
   "source": [
    "import numpy as np\n",
    "import pandas as pd\n",
    "import seaborn as sns\n",
    "import matplotlib.pyplot as plt\n",
    "\n",
    "from sklearn.linear_model import LogisticRegression\n",
    "\n",
    "from sklearn.model_selection import train_test_split\n",
    "\n",
    "from sklearn.preprocessing import MinMaxScaler, StandardScaler\n",
    "\n",
    "from sklearn.metrics import classification_report,confusion_matrix,accuracy_score\n",
    "\n",
    "from sklearn.linear_model import LinearRegression\n",
    "from sklearn.metrics import mean_squared_error, mean_absolute_error, r2_score,accuracy_score\n",
    "\n",
    "from sklearn.tree import DecisionTreeRegressor\n",
    "\n",
    "from sklearn.model_selection import GridSearchCV\n",
    "\n",
    "from sklearn.neighbors import KNeighborsRegressor\n",
    "\n",
    "from sklearn.ensemble import RandomForestRegressor\n",
    "from sklearn.model_selection import RandomizedSearchCV\n",
    "\n",
    "\n",
    "import warnings \n",
    "warnings.filterwarnings (\"ignore\")"
   ]
  },
  {
   "cell_type": "code",
   "execution_count": 18,
   "id": "2c0dbdbf-e494-4639-8504-afef8e937108",
   "metadata": {},
   "outputs": [
    {
     "data": {
      "text/html": [
       "<div>\n",
       "<style scoped>\n",
       "    .dataframe tbody tr th:only-of-type {\n",
       "        vertical-align: middle;\n",
       "    }\n",
       "\n",
       "    .dataframe tbody tr th {\n",
       "        vertical-align: top;\n",
       "    }\n",
       "\n",
       "    .dataframe thead th {\n",
       "        text-align: right;\n",
       "    }\n",
       "</style>\n",
       "<table border=\"1\" class=\"dataframe\">\n",
       "  <thead>\n",
       "    <tr style=\"text-align: right;\">\n",
       "      <th></th>\n",
       "      <th>Suburb</th>\n",
       "      <th>Address</th>\n",
       "      <th>Rooms</th>\n",
       "      <th>Type</th>\n",
       "      <th>Method</th>\n",
       "      <th>SellerG</th>\n",
       "      <th>Date</th>\n",
       "      <th>Distance</th>\n",
       "      <th>Postcode</th>\n",
       "      <th>Bedroom</th>\n",
       "      <th>...</th>\n",
       "      <th>Landsize</th>\n",
       "      <th>BuildingArea</th>\n",
       "      <th>YearBuilt</th>\n",
       "      <th>CouncilArea</th>\n",
       "      <th>Latitude</th>\n",
       "      <th>Longtitude</th>\n",
       "      <th>Regionname</th>\n",
       "      <th>Propertycount</th>\n",
       "      <th>ParkingArea</th>\n",
       "      <th>Price</th>\n",
       "    </tr>\n",
       "  </thead>\n",
       "  <tbody>\n",
       "    <tr>\n",
       "      <th>0</th>\n",
       "      <td>Abbotsford</td>\n",
       "      <td>68 Studley St</td>\n",
       "      <td>2</td>\n",
       "      <td>h</td>\n",
       "      <td>SS</td>\n",
       "      <td>Jellis</td>\n",
       "      <td>3/9/2016</td>\n",
       "      <td>2.5</td>\n",
       "      <td>3067.0</td>\n",
       "      <td>2.0</td>\n",
       "      <td>...</td>\n",
       "      <td>126.0</td>\n",
       "      <td>inf</td>\n",
       "      <td>NaN</td>\n",
       "      <td>Yarra City Council</td>\n",
       "      <td>-37.8014</td>\n",
       "      <td>144.9958</td>\n",
       "      <td>Northern Metropolitan</td>\n",
       "      <td>4019.0</td>\n",
       "      <td>Carport</td>\n",
       "      <td>NaN</td>\n",
       "    </tr>\n",
       "    <tr>\n",
       "      <th>1</th>\n",
       "      <td>Airport West</td>\n",
       "      <td>154 Halsey Rd</td>\n",
       "      <td>3</td>\n",
       "      <td>t</td>\n",
       "      <td>PI</td>\n",
       "      <td>Nelson</td>\n",
       "      <td>3/9/2016</td>\n",
       "      <td>13.5</td>\n",
       "      <td>3042.0</td>\n",
       "      <td>3.0</td>\n",
       "      <td>...</td>\n",
       "      <td>303.0</td>\n",
       "      <td>225</td>\n",
       "      <td>2016.0</td>\n",
       "      <td>Moonee Valley City Council</td>\n",
       "      <td>-37.7180</td>\n",
       "      <td>144.8780</td>\n",
       "      <td>Western Metropolitan</td>\n",
       "      <td>3464.0</td>\n",
       "      <td>Detached Garage</td>\n",
       "      <td>840000.0</td>\n",
       "    </tr>\n",
       "    <tr>\n",
       "      <th>2</th>\n",
       "      <td>Albert Park</td>\n",
       "      <td>105 Kerferd Rd</td>\n",
       "      <td>2</td>\n",
       "      <td>h</td>\n",
       "      <td>S</td>\n",
       "      <td>hockingstuart</td>\n",
       "      <td>3/9/2016</td>\n",
       "      <td>3.3</td>\n",
       "      <td>3206.0</td>\n",
       "      <td>2.0</td>\n",
       "      <td>...</td>\n",
       "      <td>120.0</td>\n",
       "      <td>82</td>\n",
       "      <td>1900.0</td>\n",
       "      <td>Port Phillip City Council</td>\n",
       "      <td>-37.8459</td>\n",
       "      <td>144.9555</td>\n",
       "      <td>Southern Metropolitan</td>\n",
       "      <td>3280.0</td>\n",
       "      <td>Attached Garage</td>\n",
       "      <td>1275000.0</td>\n",
       "    </tr>\n",
       "    <tr>\n",
       "      <th>3</th>\n",
       "      <td>Albert Park</td>\n",
       "      <td>85 Richardson St</td>\n",
       "      <td>2</td>\n",
       "      <td>h</td>\n",
       "      <td>S</td>\n",
       "      <td>Thomson</td>\n",
       "      <td>3/9/2016</td>\n",
       "      <td>3.3</td>\n",
       "      <td>3206.0</td>\n",
       "      <td>2.0</td>\n",
       "      <td>...</td>\n",
       "      <td>159.0</td>\n",
       "      <td>inf</td>\n",
       "      <td>NaN</td>\n",
       "      <td>Port Phillip City Council</td>\n",
       "      <td>-37.8450</td>\n",
       "      <td>144.9538</td>\n",
       "      <td>Southern Metropolitan</td>\n",
       "      <td>3280.0</td>\n",
       "      <td>Indoor</td>\n",
       "      <td>1455000.0</td>\n",
       "    </tr>\n",
       "    <tr>\n",
       "      <th>4</th>\n",
       "      <td>Alphington</td>\n",
       "      <td>30 Austin St</td>\n",
       "      <td>3</td>\n",
       "      <td>h</td>\n",
       "      <td>SN</td>\n",
       "      <td>McGrath</td>\n",
       "      <td>3/9/2016</td>\n",
       "      <td>6.4</td>\n",
       "      <td>3078.0</td>\n",
       "      <td>3.0</td>\n",
       "      <td>...</td>\n",
       "      <td>174.0</td>\n",
       "      <td>122</td>\n",
       "      <td>2003.0</td>\n",
       "      <td>Darebin City Council</td>\n",
       "      <td>-37.7818</td>\n",
       "      <td>145.0198</td>\n",
       "      <td>Northern Metropolitan</td>\n",
       "      <td>2211.0</td>\n",
       "      <td>Parkade</td>\n",
       "      <td>NaN</td>\n",
       "    </tr>\n",
       "  </tbody>\n",
       "</table>\n",
       "<p>5 rows × 22 columns</p>\n",
       "</div>"
      ],
      "text/plain": [
       "         Suburb           Address  Rooms Type Method        SellerG      Date  \\\n",
       "0    Abbotsford     68 Studley St      2    h     SS         Jellis  3/9/2016   \n",
       "1  Airport West     154 Halsey Rd      3    t     PI         Nelson  3/9/2016   \n",
       "2   Albert Park    105 Kerferd Rd      2    h      S  hockingstuart  3/9/2016   \n",
       "3   Albert Park  85 Richardson St      2    h      S        Thomson  3/9/2016   \n",
       "4    Alphington      30 Austin St      3    h     SN        McGrath  3/9/2016   \n",
       "\n",
       "   Distance  Postcode  Bedroom  ...  Landsize  BuildingArea  YearBuilt  \\\n",
       "0       2.5    3067.0      2.0  ...     126.0           inf        NaN   \n",
       "1      13.5    3042.0      3.0  ...     303.0           225     2016.0   \n",
       "2       3.3    3206.0      2.0  ...     120.0            82     1900.0   \n",
       "3       3.3    3206.0      2.0  ...     159.0           inf        NaN   \n",
       "4       6.4    3078.0      3.0  ...     174.0           122     2003.0   \n",
       "\n",
       "                  CouncilArea  Latitude Longtitude             Regionname  \\\n",
       "0          Yarra City Council  -37.8014   144.9958  Northern Metropolitan   \n",
       "1  Moonee Valley City Council  -37.7180   144.8780   Western Metropolitan   \n",
       "2   Port Phillip City Council  -37.8459   144.9555  Southern Metropolitan   \n",
       "3   Port Phillip City Council  -37.8450   144.9538  Southern Metropolitan   \n",
       "4        Darebin City Council  -37.7818   145.0198  Northern Metropolitan   \n",
       "\n",
       "   Propertycount      ParkingArea      Price  \n",
       "0         4019.0          Carport        NaN  \n",
       "1         3464.0  Detached Garage   840000.0  \n",
       "2         3280.0  Attached Garage  1275000.0  \n",
       "3         3280.0           Indoor  1455000.0  \n",
       "4         2211.0          Parkade        NaN  \n",
       "\n",
       "[5 rows x 22 columns]"
      ]
     },
     "execution_count": 18,
     "metadata": {},
     "output_type": "execute_result"
    }
   ],
   "source": [
    "df.head()"
   ]
  },
  {
   "cell_type": "code",
   "execution_count": 19,
   "id": "74bb2786-f301-4a25-8ecb-26db2290cc68",
   "metadata": {},
   "outputs": [
    {
     "data": {
      "text/html": [
       "<div>\n",
       "<style scoped>\n",
       "    .dataframe tbody tr th:only-of-type {\n",
       "        vertical-align: middle;\n",
       "    }\n",
       "\n",
       "    .dataframe tbody tr th {\n",
       "        vertical-align: top;\n",
       "    }\n",
       "\n",
       "    .dataframe thead th {\n",
       "        text-align: right;\n",
       "    }\n",
       "</style>\n",
       "<table border=\"1\" class=\"dataframe\">\n",
       "  <thead>\n",
       "    <tr style=\"text-align: right;\">\n",
       "      <th></th>\n",
       "      <th>Suburb</th>\n",
       "      <th>Address</th>\n",
       "      <th>Rooms</th>\n",
       "      <th>Type</th>\n",
       "      <th>Method</th>\n",
       "      <th>SellerG</th>\n",
       "      <th>Date</th>\n",
       "      <th>Distance</th>\n",
       "      <th>Postcode</th>\n",
       "      <th>Bedroom</th>\n",
       "      <th>...</th>\n",
       "      <th>Landsize</th>\n",
       "      <th>BuildingArea</th>\n",
       "      <th>YearBuilt</th>\n",
       "      <th>CouncilArea</th>\n",
       "      <th>Latitude</th>\n",
       "      <th>Longtitude</th>\n",
       "      <th>Regionname</th>\n",
       "      <th>Propertycount</th>\n",
       "      <th>ParkingArea</th>\n",
       "      <th>Price</th>\n",
       "    </tr>\n",
       "  </thead>\n",
       "  <tbody>\n",
       "    <tr>\n",
       "      <th>34852</th>\n",
       "      <td>Reservoir</td>\n",
       "      <td>18 Elinda Pl</td>\n",
       "      <td>3</td>\n",
       "      <td>u</td>\n",
       "      <td>SP</td>\n",
       "      <td>RW</td>\n",
       "      <td>30/09/2017</td>\n",
       "      <td>12.0</td>\n",
       "      <td>3073.0</td>\n",
       "      <td>3.0</td>\n",
       "      <td>...</td>\n",
       "      <td>NaN</td>\n",
       "      <td>105.0</td>\n",
       "      <td>1990.0</td>\n",
       "      <td>Darebin City Council</td>\n",
       "      <td>-37.69769</td>\n",
       "      <td>145.02332</td>\n",
       "      <td>Northern Metropolitan</td>\n",
       "      <td>21650.0</td>\n",
       "      <td>Parkade</td>\n",
       "      <td>475000.0</td>\n",
       "    </tr>\n",
       "    <tr>\n",
       "      <th>34853</th>\n",
       "      <td>Roxburgh Park</td>\n",
       "      <td>14 Stainsby Cr</td>\n",
       "      <td>4</td>\n",
       "      <td>h</td>\n",
       "      <td>S</td>\n",
       "      <td>Raine</td>\n",
       "      <td>30/09/2017</td>\n",
       "      <td>20.6</td>\n",
       "      <td>3064.0</td>\n",
       "      <td>4.0</td>\n",
       "      <td>...</td>\n",
       "      <td>NaN</td>\n",
       "      <td>225.0</td>\n",
       "      <td>1995.0</td>\n",
       "      <td>Hume City Council</td>\n",
       "      <td>-37.63665</td>\n",
       "      <td>144.92976</td>\n",
       "      <td>Northern Metropolitan</td>\n",
       "      <td>5833.0</td>\n",
       "      <td>Underground</td>\n",
       "      <td>591000.0</td>\n",
       "    </tr>\n",
       "    <tr>\n",
       "      <th>34854</th>\n",
       "      <td>Springvale South</td>\n",
       "      <td>8 Bellbird Ct</td>\n",
       "      <td>4</td>\n",
       "      <td>h</td>\n",
       "      <td>PI</td>\n",
       "      <td>Barry</td>\n",
       "      <td>30/09/2017</td>\n",
       "      <td>22.2</td>\n",
       "      <td>3172.0</td>\n",
       "      <td>4.0</td>\n",
       "      <td>...</td>\n",
       "      <td>534.0</td>\n",
       "      <td>152.0</td>\n",
       "      <td>1970.0</td>\n",
       "      <td>Greater Dandenong City Council</td>\n",
       "      <td>-37.97037</td>\n",
       "      <td>145.15449</td>\n",
       "      <td>South-Eastern Metropolitan</td>\n",
       "      <td>4054.0</td>\n",
       "      <td>Carport</td>\n",
       "      <td>NaN</td>\n",
       "    </tr>\n",
       "    <tr>\n",
       "      <th>34855</th>\n",
       "      <td>Springvale South</td>\n",
       "      <td>30 Waddington Cr</td>\n",
       "      <td>3</td>\n",
       "      <td>h</td>\n",
       "      <td>S</td>\n",
       "      <td>Harcourts</td>\n",
       "      <td>30/09/2017</td>\n",
       "      <td>22.2</td>\n",
       "      <td>3172.0</td>\n",
       "      <td>3.0</td>\n",
       "      <td>...</td>\n",
       "      <td>544.0</td>\n",
       "      <td>NaN</td>\n",
       "      <td>NaN</td>\n",
       "      <td>Greater Dandenong City Council</td>\n",
       "      <td>-37.97751</td>\n",
       "      <td>145.14813</td>\n",
       "      <td>South-Eastern Metropolitan</td>\n",
       "      <td>4054.0</td>\n",
       "      <td>Detached Garage</td>\n",
       "      <td>780500.0</td>\n",
       "    </tr>\n",
       "    <tr>\n",
       "      <th>34856</th>\n",
       "      <td>Westmeadows</td>\n",
       "      <td>42 Pascoe St</td>\n",
       "      <td>4</td>\n",
       "      <td>h</td>\n",
       "      <td>S</td>\n",
       "      <td>Barry</td>\n",
       "      <td>30/09/2017</td>\n",
       "      <td>16.5</td>\n",
       "      <td>3049.0</td>\n",
       "      <td>4.0</td>\n",
       "      <td>...</td>\n",
       "      <td>813.0</td>\n",
       "      <td>140.0</td>\n",
       "      <td>1960.0</td>\n",
       "      <td>Hume City Council</td>\n",
       "      <td>-37.67631</td>\n",
       "      <td>144.89409</td>\n",
       "      <td>Northern Metropolitan</td>\n",
       "      <td>2474.0</td>\n",
       "      <td>Attached Garage</td>\n",
       "      <td>791000.0</td>\n",
       "    </tr>\n",
       "  </tbody>\n",
       "</table>\n",
       "<p>5 rows × 22 columns</p>\n",
       "</div>"
      ],
      "text/plain": [
       "                 Suburb           Address  Rooms Type Method    SellerG  \\\n",
       "34852         Reservoir      18 Elinda Pl      3    u     SP         RW   \n",
       "34853     Roxburgh Park    14 Stainsby Cr      4    h      S      Raine   \n",
       "34854  Springvale South     8 Bellbird Ct      4    h     PI      Barry   \n",
       "34855  Springvale South  30 Waddington Cr      3    h      S  Harcourts   \n",
       "34856       Westmeadows      42 Pascoe St      4    h      S      Barry   \n",
       "\n",
       "             Date  Distance  Postcode  Bedroom  ...  Landsize  BuildingArea  \\\n",
       "34852  30/09/2017      12.0    3073.0      3.0  ...       NaN         105.0   \n",
       "34853  30/09/2017      20.6    3064.0      4.0  ...       NaN         225.0   \n",
       "34854  30/09/2017      22.2    3172.0      4.0  ...     534.0         152.0   \n",
       "34855  30/09/2017      22.2    3172.0      3.0  ...     544.0           NaN   \n",
       "34856  30/09/2017      16.5    3049.0      4.0  ...     813.0         140.0   \n",
       "\n",
       "       YearBuilt                     CouncilArea  Latitude Longtitude  \\\n",
       "34852     1990.0            Darebin City Council -37.69769  145.02332   \n",
       "34853     1995.0               Hume City Council -37.63665  144.92976   \n",
       "34854     1970.0  Greater Dandenong City Council -37.97037  145.15449   \n",
       "34855        NaN  Greater Dandenong City Council -37.97751  145.14813   \n",
       "34856     1960.0               Hume City Council -37.67631  144.89409   \n",
       "\n",
       "                       Regionname  Propertycount      ParkingArea     Price  \n",
       "34852       Northern Metropolitan        21650.0          Parkade  475000.0  \n",
       "34853       Northern Metropolitan         5833.0      Underground  591000.0  \n",
       "34854  South-Eastern Metropolitan         4054.0          Carport       NaN  \n",
       "34855  South-Eastern Metropolitan         4054.0  Detached Garage  780500.0  \n",
       "34856       Northern Metropolitan         2474.0  Attached Garage  791000.0  \n",
       "\n",
       "[5 rows x 22 columns]"
      ]
     },
     "execution_count": 19,
     "metadata": {},
     "output_type": "execute_result"
    }
   ],
   "source": [
    "df.tail()"
   ]
  },
  {
   "cell_type": "code",
   "execution_count": 20,
   "id": "825c30b5-38db-435f-a645-ff4d63fbab23",
   "metadata": {},
   "outputs": [
    {
     "name": "stdout",
     "output_type": "stream",
     "text": [
      "<class 'pandas.core.frame.DataFrame'>\n",
      "RangeIndex: 34857 entries, 0 to 34856\n",
      "Data columns (total 22 columns):\n",
      " #   Column         Non-Null Count  Dtype  \n",
      "---  ------         --------------  -----  \n",
      " 0   Suburb         34857 non-null  object \n",
      " 1   Address        34857 non-null  object \n",
      " 2   Rooms          34857 non-null  int64  \n",
      " 3   Type           34857 non-null  object \n",
      " 4   Method         34857 non-null  object \n",
      " 5   SellerG        34857 non-null  object \n",
      " 6   Date           34857 non-null  object \n",
      " 7   Distance       34856 non-null  float64\n",
      " 8   Postcode       34856 non-null  float64\n",
      " 9   Bedroom        26640 non-null  float64\n",
      " 10  Bathroom       26631 non-null  float64\n",
      " 11  Car            26129 non-null  float64\n",
      " 12  Landsize       23047 non-null  float64\n",
      " 13  BuildingArea   13760 non-null  object \n",
      " 14  YearBuilt      15551 non-null  float64\n",
      " 15  CouncilArea    34854 non-null  object \n",
      " 16  Latitude       26881 non-null  float64\n",
      " 17  Longtitude     26881 non-null  float64\n",
      " 18  Regionname     34857 non-null  object \n",
      " 19  Propertycount  34854 non-null  float64\n",
      " 20  ParkingArea    34857 non-null  object \n",
      " 21  Price          27247 non-null  float64\n",
      "dtypes: float64(11), int64(1), object(10)\n",
      "memory usage: 5.9+ MB\n"
     ]
    }
   ],
   "source": [
    "df.info()"
   ]
  },
  {
   "cell_type": "code",
   "execution_count": 21,
   "id": "6e8cab54-6c86-457c-af07-9030d1f66830",
   "metadata": {},
   "outputs": [
    {
     "data": {
      "text/plain": [
       "<matplotlib.collections.PathCollection at 0x1bc7a1391d0>"
      ]
     },
     "execution_count": 21,
     "metadata": {},
     "output_type": "execute_result"
    },
    {
     "data": {
      "image/png": "[encoded data removed]",
      "text/plain": [
       "<Figure size 640x480 with 1 Axes>"
      ]
     },
     "metadata": {},
     "output_type": "display_data"
    }
   ],
   "source": [
    "%matplotlib inline\n",
    "plt.xlabel('Price')\n",
    "plt.ylabel('ParkingArea')\n",
    "plt.scatter(df.ParkingArea,df.Price,color='Red')"
   ]
  },
  {
   "cell_type": "markdown",
   "id": "6d3c111d-c336-46d8-a8ce-055f102d5b08",
   "metadata": {},
   "source": [
    "#Data Gathering"
   ]
  },
  {
   "cell_type": "code",
   "execution_count": 22,
   "id": "7c72e9f8-5c80-4d68-bce7-11d9f0f28063",
   "metadata": {},
   "outputs": [
    {
     "data": {
      "text/plain": [
       "Suburb               0\n",
       "Address              0\n",
       "Rooms                0\n",
       "Type                 0\n",
       "Method               0\n",
       "SellerG              0\n",
       "Date                 0\n",
       "Distance             1\n",
       "Postcode             1\n",
       "Bedroom           8217\n",
       "Bathroom          8226\n",
       "Car               8728\n",
       "Landsize         11810\n",
       "BuildingArea     21097\n",
       "YearBuilt        19306\n",
       "CouncilArea          3\n",
       "Latitude          7976\n",
       "Longtitude        7976\n",
       "Regionname           0\n",
       "Propertycount        3\n",
       "ParkingArea          0\n",
       "Price             7610\n",
       "dtype: int64"
      ]
     },
     "execution_count": 22,
     "metadata": {},
     "output_type": "execute_result"
    }
   ],
   "source": [
    "df.isnull().sum()"
   ]
  },
  {
   "cell_type": "code",
   "execution_count": 23,
   "id": "74997a5e-ea6a-4926-a87c-37e2451bcd05",
   "metadata": {},
   "outputs": [
    {
     "data": {
      "text/plain": [
       "array([ 2.5, 13.5,  3.3,  6.4, 13.8, 11.1,  6.3,  5.9, 11. , 12.2, 10.5,\n",
       "        6.6,  9.7,  9.2, 13. , 13.9, 13.1, 10.8, 11.2, 10.7,  5.2, 11.8,\n",
       "       11.7,  7.8,  9. ,  3.2, 11.4,  8.9,  8.1,  9.3, 13.6,  3.4,  1.6,\n",
       "       10.3,  8.5,  7.7,  8. ,  9.4,  5.8,  3.5,  4.4, 12.1, 13.7, 14.5,\n",
       "        4.6,  7.9, 15. , 12.8,  4.2,  5.6,  7.5,  6.2,  7.4,  8.7,  2.8,\n",
       "        4.1,  6.9, 14.6,  8.4,  2.3,  5.5, 11.5, 14.7,  2.6,  9.9,  3.8,\n",
       "        4.5,  8.8,  2.1,  1.2,  6.1, 12.6, 13.3,  6.5, 14.9,  1.9,  5.1,\n",
       "        7. ,  9.1,  9.5,  1.8,  1.5,  9.8, 12.4, 10.6,  8.2, 10.4, 14. ,\n",
       "       12.5,  5.3, 12.7, 10.9,  3. ,  5.7, 15.5,  4.3, 10.2, 16.5, 23.2,\n",
       "       17.3, 35.2, 13.4, 25. , 16.1,  4. , 14.8, 10.1, 17.9, 17.5, 16.7,\n",
       "        3.6, 43.4,  6.7, 20.6, 34.7, 23. , 24.7, 21.8, 22.2, 14.3, 25.9,\n",
       "        1.3, 27. , 18. ,  7.2, 36.9, 19.6, 28.8, 24.8, 15.4, 38. , 45.9,\n",
       "       12.9,  7.3, 20.4, 32.3, 45.2, 21.3, 16. , 18.4, 12.3,  5.4, 25.2,\n",
       "       16.3, 33.8, 31.7, 29.8, 20. , 17.2, 16.2, 21.5, 14.2, 18.8, 34.1,\n",
       "       22.7, 12. ,  2.4, 19.9, 23.8, 23.5, 15.2, 35.4, 20.5,  2.7, 20.8,\n",
       "        5. , 30.4, 15.3,  3.1, 17.6, 25.5, 27.2,  8.6, 31.2,  2. ,  1.4,\n",
       "        0. , 26.5, 47.3,  0.7, 21.1, 23.6,  6.8, 17.4, 28.5, 26. , 41. ,\n",
       "       48.1, 27.7, 44.2,  3.7, 37.5, 16.6, 27.1, 23.3, 29.9, 31.6, 43.3,\n",
       "       34.9, 33.3, 39. , 26.1, 35.5, 29.5, 18.7, 47.4,  nan, 29.3, 30.6,\n",
       "       22.9, 33. , 20.1, 31.4, 39.8, 32.6, 34.6])"
      ]
     },
     "execution_count": 23,
     "metadata": {},
     "output_type": "execute_result"
    }
   ],
   "source": [
    "df['Distance'].unique()"
   ]
  },
  {
   "cell_type": "code",
   "execution_count": 24,
   "id": "d2b13cf6-184d-4f4d-bf31-cdefd682c7fa",
   "metadata": {},
   "outputs": [
    {
     "data": {
      "text/plain": [
       "11.18492942391554"
      ]
     },
     "execution_count": 24,
     "metadata": {},
     "output_type": "execute_result"
    }
   ],
   "source": [
    "df['Distance'].mean()"
   ]
  },
  {
   "cell_type": "code",
   "execution_count": 25,
   "id": "0bf19d5f-8170-42b5-98ad-e28f27170c52",
   "metadata": {},
   "outputs": [],
   "source": [
    "df['Distance'].fillna(df['Distance'].mean() , inplace=True)"
   ]
  },
  {
   "cell_type": "code",
   "execution_count": 26,
   "id": "87fa0791-37aa-4c9b-a830-29234b2bef57",
   "metadata": {},
   "outputs": [
    {
     "data": {
      "text/plain": [
       "0"
      ]
     },
     "execution_count": 26,
     "metadata": {},
     "output_type": "execute_result"
    }
   ],
   "source": [
    "df['Distance'].isnull().sum()"
   ]
  },
  {
   "cell_type": "code",
   "execution_count": 27,
   "id": "958b1d31-c4c5-4363-990a-30bb5f3c302b",
   "metadata": {},
   "outputs": [
    {
     "data": {
      "text/plain": [
       "array([3067., 3042., 3206., 3078., 3018., 3025., 3143., 3032., 3147.,\n",
       "       3034., 3183., 3103., 3104., 3204., 3165., 3128., 3019., 3186.,\n",
       "       3187., 3056., 3055., 3105., 3125., 3124., 3126., 3054., 3163.,\n",
       "       3162., 3161., 3148., 3068., 3058., 3066., 3108., 3084., 3185.,\n",
       "       3184., 3040., 3041., 3065., 3031., 3011., 3146., 3046., 3043.,\n",
       "       3188., 3122., 3081., 3166., 3079., 3021., 3033., 3101., 3102.,\n",
       "       3144., 3012., 3145., 3000., 3127., 3039., 3189., 3015., 3051.,\n",
       "       3070., 3167., 3052., 3044., 3207., 3181., 3072., 3073., 3121.,\n",
       "       3205., 3141., 3006., 3182., 3020., 3107., 3071., 3142., 3087.,\n",
       "       3003., 3016., 3085., 3013., 3057., 3061., 3053., 3002., 3060.,\n",
       "       3123., 3047., 3083., 3008., 3028., 3022., 3049., 3153., 3193.,\n",
       "       3806., 3130., 3155., 3088., 3023., 3151., 3192., 3169., 3168.,\n",
       "       3978., 3064., 3977., 3136., 3175., 3089., 3172., 3109., 3111.,\n",
       "       3754., 3196., 3095., 3782., 3076., 3177., 3156., 3131., 3199.,\n",
       "       3200., 3437., 3150., 3059., 3803., 3777., 3135., 3190., 3037.,\n",
       "       3029., 3038., 3173., 3075., 3093., 3975., 3337., 3338., 3194.,\n",
       "       3082., 3132., 3094., 3765., 3195., 3149., 3170., 3805., 3174.,\n",
       "       3030., 3134., 3335., 3178., 3191., 3198., 3752., 3171., 3429.,\n",
       "       3160., 3106., 3154., 3074., 3133., 3152., 3027., 3750., 3024.,\n",
       "       3197., 3138., 3810., 3179., 3113., 3096., 3048., 3802., 3137.,\n",
       "       3910., 3438., 3427., 3756., 3340., 3116., 3180., 3140., 3796.,\n",
       "       3809., 3201., 3976., 3036., 3807., 3099., 3757., 3115., 3786.,\n",
       "       3202., 3431., 3139.,   nan, 3158., 3788., 3428., 3770., 3090.,\n",
       "       3775., 3808., 3159., 3795., 3793.])"
      ]
     },
     "execution_count": 27,
     "metadata": {},
     "output_type": "execute_result"
    }
   ],
   "source": [
    "df['Postcode'].unique()"
   ]
  },
  {
   "cell_type": "code",
   "execution_count": 28,
   "id": "be0a2c7d-4a5d-424c-8a3c-c0a2cc09aa41",
   "metadata": {},
   "outputs": [],
   "source": [
    "df['Postcode'] = df['Postcode'].fillna(3073.0)"
   ]
  },
  {
   "cell_type": "code",
   "execution_count": 29,
   "id": "f691be82-4fe6-444c-a1ef-74825565f471",
   "metadata": {},
   "outputs": [
    {
     "data": {
      "text/plain": [
       "Postcode\n",
       "3073.0    845\n",
       "3046.0    638\n",
       "3020.0    617\n",
       "3121.0    612\n",
       "3165.0    583\n",
       "         ... \n",
       "3770.0      1\n",
       "3428.0      1\n",
       "3139.0      1\n",
       "3786.0      1\n",
       "3793.0      1\n",
       "Name: count, Length: 211, dtype: int64"
      ]
     },
     "execution_count": 29,
     "metadata": {},
     "output_type": "execute_result"
    }
   ],
   "source": [
    "df['Postcode'].value_counts()"
   ]
  },
  {
   "cell_type": "code",
   "execution_count": 30,
   "id": "bf36d501-9638-4173-8cd9-0ca1aa2c4d27",
   "metadata": {},
   "outputs": [
    {
     "data": {
      "text/plain": [
       "0"
      ]
     },
     "execution_count": 30,
     "metadata": {},
     "output_type": "execute_result"
    }
   ],
   "source": [
    "df['Postcode'].isnull().sum()"
   ]
  },
  {
   "cell_type": "code",
   "execution_count": 31,
   "id": "cf4c86d1-4460-4ebc-952a-042a7c415f4d",
   "metadata": {},
   "outputs": [
    {
     "data": {
      "text/plain": [
       "array([ 4019.,  3464.,  3280.,  2211.,  5301.,  5132.,  4836.,  6567.,\n",
       "        3052.,  2894.,  4502.,  2952.,  5682.,  7809.,  6795., 10969.,\n",
       "        4605.,  3589., 10579.,  6938., 11918.,  7082.,  4480.,  5678.,\n",
       "        8920.,  3265.,  3106.,  7822.,  2379.,  6923.,  5051.,  3582.,\n",
       "        2954., 11204.,  3445.,  4553.,  9028.,  1651.,  4898.,  8989.,\n",
       "        9264.,  1308.,  2970.,  5825.,  6244.,  3593.,  7570., 10412.,\n",
       "        8870.,  1071.,  2606.,  5454.,  2356., 11308.,  2947.,  2674.,\n",
       "        3145.,  5549.,  1202.,  5629.,  5263., 10331.,  2671.,   394.,\n",
       "        3873.,  4675.,  8801.,  4918., 17496.,  2019.,  2079.,  6232.,\n",
       "        2555.,  5498.,  2291.,  6821., 11364.,  2651.,  3692.,  2309.,\n",
       "        7485.,  8648.,  7717., 14577., 21650., 14949.,  3540.,  2417.,\n",
       "        5943., 14887.,  8400.,  1223., 13240.,  3284.,  3755.,  4217.,\n",
       "        6763.,  5457.,  5420.,  7217.,  2698.,  2329.,  2230.,  6380.,\n",
       "         802.,  4380.,  1369.,  6543.,  1543.,   790.,  5533.,   438.,\n",
       "        1889.,  6786.,  3040.,   588.,  5070.,  6482.,  2890.,  1554.,\n",
       "         851.,  1414.,  1808.,  4442.,  3578.,  5058.,  2185.,  2403.,\n",
       "        3224.,  1123.,  4707.,   984.,   389.,  1052.,   608.,   852.,\n",
       "         962.,   821.,  1119.,  7630.,  1281.,  1130.,  5030.,  3598.,\n",
       "        5366., 17093.,  5713.,  4387.,  9704.,  1390.,  4294., 10175.,\n",
       "        1686.,  4048.,  7719.,  9758.,  2727.,  5837.,  2987., 15510.,\n",
       "        7680., 11925.,  1705.,  2985., 10894.,  8322.,  4258.,  3940.,\n",
       "       10999.,  4790.,  7254.,  2546.,  6990.,  2346.,  2259., 10926.,\n",
       "         845., 10788.,  4385., 17055.,  2500.,  7566.,  3376.,  3285.,\n",
       "       15321.,  8524.,  4864.,  3728.,  3307.,  3794.,  4794.,  5556.,\n",
       "       13830.,   768.,  3656.,   570.,  8459.,  2878.,  8279.,  1624.,\n",
       "        2322.,  4168.,  3600.,  4718.,  6065.,  6162.,  5812.,  1158.,\n",
       "       10529.,  6871.,  3891.,  2493.,  3650., 13366.,  7113.,  9376.,\n",
       "       11806.,  4973.,  2547.,  5087., 15542.,  1008.,  7785.,  4407.,\n",
       "         538., 11667.,  5833.,  4497.,  1793.,  8077.,  2756.,  7969.,\n",
       "        7412.,  4054., 14042.,   915., 14092.,  3640., 10160.,  4242.,\n",
       "        5336.,   869.,  6202.,  1690.,  7955.,  5811.,  3296.,  4181.,\n",
       "        4280.,  5424., 16166.,  2474.,  1999.,  2940.,  5262.,  2824.,\n",
       "        2866.,  2867.,  2887.,  1989.,  3906.,  4734.,  2246.,  2898.,\n",
       "        3533.,  2397.,  8280., 17384.,  3619.,  2206.,  2003.,  1442.,\n",
       "         642.,  7392.,  1899.,  1607.,  2076.,  1124.,  2276.,  8443.,\n",
       "        4654.,  8743.,  4704.,   849.,   902.,  1863.,  1184.,  3988.,\n",
       "         709.,  2871.,  3789.,  6388.,  2949.,  2004.,  6732.,  3532.,\n",
       "        2768.,  1490.,  1595.,   534.,  8060.,  6464.,  8256.,  2339.,\n",
       "        2243.,   129.,  1345.,  1058.,  4939.,   892.,  2170.,   249.,\n",
       "          nan,  3553.,  1328.,   604.,  1048.,  1475.,   938.,  1721.,\n",
       "        2591.,  2126.,   335.,    83.,   794.,  3351.,   121.,  1588.,\n",
       "        5462.,  1240.,   271.,   810.,   242.,  3122.,   777.,  2332.,\n",
       "        1160.,   973.,   342.,  2992.,   457.,   290.,  1424.])"
      ]
     },
     "execution_count": 31,
     "metadata": {},
     "output_type": "execute_result"
    }
   ],
   "source": [
    "df['Propertycount'].unique()"
   ]
  },
  {
   "cell_type": "code",
   "execution_count": 32,
   "id": "d89f1ef0-2324-4bca-96da-f71a9585adc9",
   "metadata": {},
   "outputs": [
    {
     "data": {
      "text/plain": [
       "array([ 4019.,  3464.,  3280.,  2211.,  5301.,  5132.,  4836.,  6567.,\n",
       "        3052.,  2894.,  4502.,  2952.,  5682.,  7809.,  6795., 10969.,\n",
       "        4605.,  3589., 10579.,  6938., 11918.,  7082.,  4480.,  5678.,\n",
       "        8920.,  3265.,  3106.,  7822.,  2379.,  6923.,  5051.,  3582.,\n",
       "        2954., 11204.,  3445.,  4553.,  9028.,  1651.,  4898.,  8989.,\n",
       "        9264.,  1308.,  2970.,  5825.,  6244.,  3593.,  7570., 10412.,\n",
       "        8870.,  1071.,  2606.,  5454.,  2356., 11308.,  2947.,  2674.,\n",
       "        3145.,  5549.,  1202.,  5629.,  5263., 10331.,  2671.,   394.,\n",
       "        3873.,  4675.,  8801.,  4918., 17496.,  2019.,  2079.,  6232.,\n",
       "        2555.,  5498.,  2291.,  6821., 11364.,  2651.,  3692.,  2309.,\n",
       "        7485.,  8648.,  7717., 14577., 21650., 14949.,  3540.,  2417.,\n",
       "        5943., 14887.,  8400.,  1223., 13240.,  3284.,  3755.,  4217.,\n",
       "        6763.,  5457.,  5420.,  7217.,  2698.,  2329.,  2230.,  6380.,\n",
       "         802.,  4380.,  1369.,  6543.,  1543.,   790.,  5533.,   438.,\n",
       "        1889.,  6786.,  3040.,   588.,  5070.,  6482.,  2890.,  1554.,\n",
       "         851.,  1414.,  1808.,  4442.,  3578.,  5058.,  2185.,  2403.,\n",
       "        3224.,  1123.,  4707.,   984.,   389.,  1052.,   608.,   852.,\n",
       "         962.,   821.,  1119.,  7630.,  1281.,  1130.,  5030.,  3598.,\n",
       "        5366., 17093.,  5713.,  4387.,  9704.,  1390.,  4294., 10175.,\n",
       "        1686.,  4048.,  7719.,  9758.,  2727.,  5837.,  2987., 15510.,\n",
       "        7680., 11925.,  1705.,  2985., 10894.,  8322.,  4258.,  3940.,\n",
       "       10999.,  4790.,  7254.,  2546.,  6990.,  2346.,  2259., 10926.,\n",
       "         845., 10788.,  4385., 17055.,  2500.,  7566.,  3376.,  3285.,\n",
       "       15321.,  8524.,  4864.,  3728.,  3307.,  3794.,  4794.,  5556.,\n",
       "       13830.,   768.,  3656.,   570.,  8459.,  2878.,  8279.,  1624.,\n",
       "        2322.,  4168.,  3600.,  4718.,  6065.,  6162.,  5812.,  1158.,\n",
       "       10529.,  6871.,  3891.,  2493.,  3650., 13366.,  7113.,  9376.,\n",
       "       11806.,  4973.,  2547.,  5087., 15542.,  1008.,  7785.,  4407.,\n",
       "         538., 11667.,  5833.,  4497.,  1793.,  8077.,  2756.,  7969.,\n",
       "        7412.,  4054., 14042.,   915., 14092.,  3640., 10160.,  4242.,\n",
       "        5336.,   869.,  6202.,  1690.,  7955.,  5811.,  3296.,  4181.,\n",
       "        4280.,  5424., 16166.,  2474.,  1999.,  2940.,  5262.,  2824.,\n",
       "        2866.,  2867.,  2887.,  1989.,  3906.,  4734.,  2246.,  2898.,\n",
       "        3533.,  2397.,  8280., 17384.,  3619.,  2206.,  2003.,  1442.,\n",
       "         642.,  7392.,  1899.,  1607.,  2076.,  1124.,  2276.,  8443.,\n",
       "        4654.,  8743.,  4704.,   849.,   902.,  1863.,  1184.,  3988.,\n",
       "         709.,  2871.,  3789.,  6388.,  2949.,  2004.,  6732.,  3532.,\n",
       "        2768.,  1490.,  1595.,   534.,  8060.,  6464.,  8256.,  2339.,\n",
       "        2243.,   129.,  1345.,  1058.,  4939.,   892.,  2170.,   249.,\n",
       "          nan,  3553.,  1328.,   604.,  1048.,  1475.,   938.,  1721.,\n",
       "        2591.,  2126.,   335.,    83.,   794.,  3351.,   121.,  1588.,\n",
       "        5462.,  1240.,   271.,   810.,   242.,  3122.,   777.,  2332.,\n",
       "        1160.,   973.,   342.,  2992.,   457.,   290.,  1424.])"
      ]
     },
     "execution_count": 32,
     "metadata": {},
     "output_type": "execute_result"
    }
   ],
   "source": [
    "df['Propertycount'].unique()"
   ]
  },
  {
   "cell_type": "code",
   "execution_count": 33,
   "id": "154159a1-0b40-4add-8394-2f3f912fd4e6",
   "metadata": {},
   "outputs": [
    {
     "data": {
      "text/plain": [
       "array([ 4019.,  3464.,  3280.,  2211.,  5301.,  5132.,  4836.,  6567.,\n",
       "        3052.,  2894.,  4502.,  2952.,  5682.,  7809.,  6795., 10969.,\n",
       "        4605.,  3589., 10579.,  6938., 11918.,  7082.,  4480.,  5678.,\n",
       "        8920.,  3265.,  3106.,  7822.,  2379.,  6923.,  5051.,  3582.,\n",
       "        2954., 11204.,  3445.,  4553.,  9028.,  1651.,  4898.,  8989.,\n",
       "        9264.,  1308.,  2970.,  5825.,  6244.,  3593.,  7570., 10412.,\n",
       "        8870.,  1071.,  2606.,  5454.,  2356., 11308.,  2947.,  2674.,\n",
       "        3145.,  5549.,  1202.,  5629.,  5263., 10331.,  2671.,   394.,\n",
       "        3873.,  4675.,  8801.,  4918., 17496.,  2019.,  2079.,  6232.,\n",
       "        2555.,  5498.,  2291.,  6821., 11364.,  2651.,  3692.,  2309.,\n",
       "        7485.,  8648.,  7717., 14577., 21650., 14949.,  3540.,  2417.,\n",
       "        5943., 14887.,  8400.,  1223., 13240.,  3284.,  3755.,  4217.,\n",
       "        6763.,  5457.,  5420.,  7217.,  2698.,  2329.,  2230.,  6380.,\n",
       "         802.,  4380.,  1369.,  6543.,  1543.,   790.,  5533.,   438.,\n",
       "        1889.,  6786.,  3040.,   588.,  5070.,  6482.,  2890.,  1554.,\n",
       "         851.,  1414.,  1808.,  4442.,  3578.,  5058.,  2185.,  2403.,\n",
       "        3224.,  1123.,  4707.,   984.,   389.,  1052.,   608.,   852.,\n",
       "         962.,   821.,  1119.,  7630.,  1281.,  1130.,  5030.,  3598.,\n",
       "        5366., 17093.,  5713.,  4387.,  9704.,  1390.,  4294., 10175.,\n",
       "        1686.,  4048.,  7719.,  9758.,  2727.,  5837.,  2987., 15510.,\n",
       "        7680., 11925.,  1705.,  2985., 10894.,  8322.,  4258.,  3940.,\n",
       "       10999.,  4790.,  7254.,  2546.,  6990.,  2346.,  2259., 10926.,\n",
       "         845., 10788.,  4385., 17055.,  2500.,  7566.,  3376.,  3285.,\n",
       "       15321.,  8524.,  4864.,  3728.,  3307.,  3794.,  4794.,  5556.,\n",
       "       13830.,   768.,  3656.,   570.,  8459.,  2878.,  8279.,  1624.,\n",
       "        2322.,  4168.,  3600.,  4718.,  6065.,  6162.,  5812.,  1158.,\n",
       "       10529.,  6871.,  3891.,  2493.,  3650., 13366.,  7113.,  9376.,\n",
       "       11806.,  4973.,  2547.,  5087., 15542.,  1008.,  7785.,  4407.,\n",
       "         538., 11667.,  5833.,  4497.,  1793.,  8077.,  2756.,  7969.,\n",
       "        7412.,  4054., 14042.,   915., 14092.,  3640., 10160.,  4242.,\n",
       "        5336.,   869.,  6202.,  1690.,  7955.,  5811.,  3296.,  4181.,\n",
       "        4280.,  5424., 16166.,  2474.,  1999.,  2940.,  5262.,  2824.,\n",
       "        2866.,  2867.,  2887.,  1989.,  3906.,  4734.,  2246.,  2898.,\n",
       "        3533.,  2397.,  8280., 17384.,  3619.,  2206.,  2003.,  1442.,\n",
       "         642.,  7392.,  1899.,  1607.,  2076.,  1124.,  2276.,  8443.,\n",
       "        4654.,  8743.,  4704.,   849.,   902.,  1863.,  1184.,  3988.,\n",
       "         709.,  2871.,  3789.,  6388.,  2949.,  2004.,  6732.,  3532.,\n",
       "        2768.,  1490.,  1595.,   534.,  8060.,  6464.,  8256.,  2339.,\n",
       "        2243.,   129.,  1345.,  1058.,  4939.,   892.,  2170.,   249.,\n",
       "          nan,  3553.,  1328.,   604.,  1048.,  1475.,   938.,  1721.,\n",
       "        2591.,  2126.,   335.,    83.,   794.,  3351.,   121.,  1588.,\n",
       "        5462.,  1240.,   271.,   810.,   242.,  3122.,   777.,  2332.,\n",
       "        1160.,   973.,   342.,  2992.,   457.,   290.,  1424.])"
      ]
     },
     "execution_count": 33,
     "metadata": {},
     "output_type": "execute_result"
    }
   ],
   "source": [
    "df['Propertycount'].unique()"
   ]
  },
  {
   "cell_type": "code",
   "execution_count": 34,
   "id": "f06051a7-5376-459e-977d-5ebc9f556aa3",
   "metadata": {},
   "outputs": [
    {
     "data": {
      "text/plain": [
       "7572.8883055029555"
      ]
     },
     "execution_count": 34,
     "metadata": {},
     "output_type": "execute_result"
    }
   ],
   "source": [
    "df['Propertycount'].mean()"
   ]
  },
  {
   "cell_type": "code",
   "execution_count": 35,
   "id": "394c2973-a529-4f23-a6a1-4b3dcd9306db",
   "metadata": {},
   "outputs": [],
   "source": [
    "df['Propertycount'].fillna(df['Propertycount'].mean(), inplace=True)"
   ]
  },
  {
   "cell_type": "code",
   "execution_count": 36,
   "id": "0a7f6261-742e-4378-a62e-28055c7e833e",
   "metadata": {},
   "outputs": [
    {
     "data": {
      "text/plain": [
       "0"
      ]
     },
     "execution_count": 36,
     "metadata": {},
     "output_type": "execute_result"
    }
   ],
   "source": [
    "df['Propertycount'].isnull().sum()"
   ]
  },
  {
   "cell_type": "code",
   "execution_count": 37,
   "id": "1c1f6824-ff81-4be5-8219-f3d0fb566605",
   "metadata": {},
   "outputs": [
    {
     "data": {
      "text/plain": [
       "Suburb               0\n",
       "Address              0\n",
       "Rooms                0\n",
       "Type                 0\n",
       "Method               0\n",
       "SellerG              0\n",
       "Date                 0\n",
       "Distance             0\n",
       "Postcode             0\n",
       "Bedroom           8217\n",
       "Bathroom          8226\n",
       "Car               8728\n",
       "Landsize         11810\n",
       "BuildingArea     21097\n",
       "YearBuilt        19306\n",
       "CouncilArea          3\n",
       "Latitude          7976\n",
       "Longtitude        7976\n",
       "Regionname           0\n",
       "Propertycount        0\n",
       "ParkingArea          0\n",
       "Price             7610\n",
       "dtype: int64"
      ]
     },
     "execution_count": 37,
     "metadata": {},
     "output_type": "execute_result"
    }
   ],
   "source": [
    "df.isnull().sum()"
   ]
  },
  {
   "cell_type": "code",
   "execution_count": 38,
   "id": "b66b9e6a-a042-4bf8-b063-2dee4fba81bd",
   "metadata": {},
   "outputs": [
    {
     "data": {
      "text/plain": [
       "array(['Yarra City Council', 'Moonee Valley City Council',\n",
       "       'Port Phillip City Council', 'Darebin City Council',\n",
       "       'Hobsons Bay City Council', 'Stonnington City Council',\n",
       "       'Boroondara City Council', 'Monash City Council',\n",
       "       'Glen Eira City Council', 'Whitehorse City Council',\n",
       "       'Maribyrnong City Council', 'Bayside City Council',\n",
       "       'Moreland City Council', 'Manningham City Council',\n",
       "       'Melbourne City Council', 'Banyule City Council',\n",
       "       'Brimbank City Council', 'Kingston City Council',\n",
       "       'Hume City Council', 'Knox City Council', 'Maroondah City Council',\n",
       "       'Casey City Council', 'Melton City Council',\n",
       "       'Greater Dandenong City Council', 'Nillumbik Shire Council',\n",
       "       'Cardinia Shire Council', 'Whittlesea City Council',\n",
       "       'Frankston City Council', 'Macedon Ranges Shire Council',\n",
       "       'Yarra Ranges Shire Council', 'Wyndham City Council',\n",
       "       'Mitchell Shire Council', 'Moorabool Shire Council', nan],\n",
       "      dtype=object)"
      ]
     },
     "execution_count": 38,
     "metadata": {},
     "output_type": "execute_result"
    }
   ],
   "source": [
    "df['CouncilArea'].unique()"
   ]
  },
  {
   "cell_type": "code",
   "execution_count": 39,
   "id": "1a55f58f-5519-4f56-a6ea-c379856b3724",
   "metadata": {},
   "outputs": [
    {
     "data": {
      "text/plain": [
       "CouncilArea\n",
       "Boroondara City Council           3675\n",
       "Darebin City Council              2851\n",
       "Moreland City Council             2122\n",
       "Glen Eira City Council            2006\n",
       "Melbourne City Council            1952\n",
       "Banyule City Council              1861\n",
       "Moonee Valley City Council        1791\n",
       "Bayside City Council              1764\n",
       "Brimbank City Council             1593\n",
       "Monash City Council               1466\n",
       "Stonnington City Council          1460\n",
       "Maribyrnong City Council          1451\n",
       "Port Phillip City Council         1280\n",
       "Hume City Council                 1214\n",
       "Yarra City Council                1186\n",
       "Manningham City Council           1046\n",
       "Hobsons Bay City Council           942\n",
       "Kingston City Council              871\n",
       "Whittlesea City Council            828\n",
       "Wyndham City Council               624\n",
       "Whitehorse City Council            618\n",
       "Maroondah City Council             506\n",
       "Knox City Council                  371\n",
       "Greater Dandenong City Council     314\n",
       "Melton City Council                292\n",
       "Frankston City Council             290\n",
       "Casey City Council                 176\n",
       "Yarra Ranges Shire Council         102\n",
       "Nillumbik Shire Council             88\n",
       "Macedon Ranges Shire Council        46\n",
       "Cardinia Shire Council              41\n",
       "Mitchell Shire Council              20\n",
       "Moorabool Shire Council              7\n",
       "Name: count, dtype: int64"
      ]
     },
     "execution_count": 39,
     "metadata": {},
     "output_type": "execute_result"
    }
   ],
   "source": [
    "df['CouncilArea'].value_counts()"
   ]
  },
  {
   "cell_type": "code",
   "execution_count": 40,
   "id": "dfdc26be-6b60-4361-bae2-fd4fe2c762d7",
   "metadata": {},
   "outputs": [],
   "source": [
    "df['CouncilArea']= df['CouncilArea'].fillna('Moorabool Shire Council')"
   ]
  },
  {
   "cell_type": "code",
   "execution_count": 41,
   "id": "cd8ad175-c3f2-4cf8-ba1b-45e8ad4e4d9e",
   "metadata": {},
   "outputs": [
    {
     "data": {
      "text/plain": [
       "0"
      ]
     },
     "execution_count": 41,
     "metadata": {},
     "output_type": "execute_result"
    }
   ],
   "source": [
    "df['CouncilArea'].isnull().sum()"
   ]
  },
  {
   "cell_type": "code",
   "execution_count": 42,
   "id": "7f817095-d7d9-40b4-b545-2e004609aa6f",
   "metadata": {},
   "outputs": [
    {
     "data": {
      "text/plain": [
       "Suburb               0\n",
       "Address              0\n",
       "Rooms                0\n",
       "Type                 0\n",
       "Method               0\n",
       "SellerG              0\n",
       "Date                 0\n",
       "Distance             0\n",
       "Postcode             0\n",
       "Bedroom           8217\n",
       "Bathroom          8226\n",
       "Car               8728\n",
       "Landsize         11810\n",
       "BuildingArea     21097\n",
       "YearBuilt        19306\n",
       "CouncilArea          0\n",
       "Latitude          7976\n",
       "Longtitude        7976\n",
       "Regionname           0\n",
       "Propertycount        0\n",
       "ParkingArea          0\n",
       "Price             7610\n",
       "dtype: int64"
      ]
     },
     "execution_count": 42,
     "metadata": {},
     "output_type": "execute_result"
    }
   ],
   "source": [
    "df.isnull().sum()"
   ]
  },
  {
   "cell_type": "code",
   "execution_count": 43,
   "id": "c67384f1-d3d7-4643-9d18-d37a0119e75b",
   "metadata": {},
   "outputs": [
    {
     "data": {
      "text/plain": [
       "array([ 2.,  3.,  5., nan,  4.,  1.,  6.,  7.,  0., 20.,  8., 30.,  9.,\n",
       "       12., 10., 16.])"
      ]
     },
     "execution_count": 43,
     "metadata": {},
     "output_type": "execute_result"
    }
   ],
   "source": [
    "df['Bedroom'].unique()"
   ]
  },
  {
   "cell_type": "code",
   "execution_count": 44,
   "id": "f422b679-5e72-439e-9f65-93c5ad0e2506",
   "metadata": {},
   "outputs": [
    {
     "data": {
      "text/plain": [
       "Bedroom\n",
       "3.0     11881\n",
       "4.0      6348\n",
       "2.0      5777\n",
       "5.0      1427\n",
       "1.0       966\n",
       "6.0       168\n",
       "7.0        30\n",
       "0.0        17\n",
       "8.0        13\n",
       "9.0         5\n",
       "10.0        4\n",
       "20.0        1\n",
       "30.0        1\n",
       "12.0        1\n",
       "16.0        1\n",
       "Name: count, dtype: int64"
      ]
     },
     "execution_count": 44,
     "metadata": {},
     "output_type": "execute_result"
    }
   ],
   "source": [
    "df['Bedroom'].value_counts()"
   ]
  },
  {
   "cell_type": "code",
   "execution_count": 45,
   "id": "f29b9a90-a18a-40a2-8053-26b3bec5e490",
   "metadata": {},
   "outputs": [],
   "source": [
    "df['Bedroom']=df['Bedroom'].fillna(3.0)"
   ]
  },
  {
   "cell_type": "code",
   "execution_count": 46,
   "id": "eabac3f6-b2fe-40be-a986-8c335e9439c6",
   "metadata": {},
   "outputs": [
    {
     "data": {
      "text/plain": [
       "0        2\n",
       "1        3\n",
       "2        2\n",
       "3        2\n",
       "4        3\n",
       "        ..\n",
       "34852    3\n",
       "34853    4\n",
       "34854    4\n",
       "34855    3\n",
       "34856    4\n",
       "Name: Bedroom, Length: 34857, dtype: int32"
      ]
     },
     "execution_count": 46,
     "metadata": {},
     "output_type": "execute_result"
    }
   ],
   "source": [
    "df['Bedroom'].astype(int)"
   ]
  },
  {
   "cell_type": "code",
   "execution_count": 47,
   "id": "b25b2385-170d-48fb-9fa4-8d83f92aa688",
   "metadata": {},
   "outputs": [
    {
     "data": {
      "text/plain": [
       "0"
      ]
     },
     "execution_count": 47,
     "metadata": {},
     "output_type": "execute_result"
    }
   ],
   "source": [
    "df['Bedroom'].isnull().sum()"
   ]
  },
  {
   "cell_type": "code",
   "execution_count": 48,
   "id": "461084fe-f0a3-48e6-b6c1-b77148f23ad9",
   "metadata": {},
   "outputs": [
    {
     "data": {
      "text/plain": [
       "array([ 1.,  2.,  3., nan,  4.,  5.,  0., 12.,  7.,  8.,  6.,  9.])"
      ]
     },
     "execution_count": 48,
     "metadata": {},
     "output_type": "execute_result"
    }
   ],
   "source": [
    "df['Bathroom'].unique()"
   ]
  },
  {
   "cell_type": "code",
   "execution_count": 49,
   "id": "706ab4a5-0aee-4c50-8267-4a27c66edc30",
   "metadata": {},
   "outputs": [
    {
     "data": {
      "text/plain": [
       "Bathroom\n",
       "1.0     12969\n",
       "2.0     11064\n",
       "3.0      2181\n",
       "4.0       269\n",
       "5.0        77\n",
       "0.0        46\n",
       "6.0        16\n",
       "7.0         4\n",
       "8.0         3\n",
       "12.0        1\n",
       "9.0         1\n",
       "Name: count, dtype: int64"
      ]
     },
     "execution_count": 49,
     "metadata": {},
     "output_type": "execute_result"
    }
   ],
   "source": [
    "df['Bathroom'].value_counts()"
   ]
  },
  {
   "cell_type": "code",
   "execution_count": 50,
   "id": "9b098d64-2ced-4004-b5c0-89e6e22a1a5c",
   "metadata": {},
   "outputs": [],
   "source": [
    "df['Bathroom']=df['Bathroom'].fillna(1.0)"
   ]
  },
  {
   "cell_type": "code",
   "execution_count": 51,
   "id": "becf3eba-7738-424f-9d36-a5327a83f3fa",
   "metadata": {},
   "outputs": [
    {
     "data": {
      "text/plain": [
       "Bathroom\n",
       "1.0     21195\n",
       "2.0     11064\n",
       "3.0      2181\n",
       "4.0       269\n",
       "5.0        77\n",
       "0.0        46\n",
       "6.0        16\n",
       "7.0         4\n",
       "8.0         3\n",
       "12.0        1\n",
       "9.0         1\n",
       "Name: count, dtype: int64"
      ]
     },
     "execution_count": 51,
     "metadata": {},
     "output_type": "execute_result"
    }
   ],
   "source": [
    "df['Bathroom'].value_counts()"
   ]
  },
  {
   "cell_type": "code",
   "execution_count": 52,
   "id": "10a222db-850e-4501-b03e-91382be607eb",
   "metadata": {},
   "outputs": [
    {
     "data": {
      "text/plain": [
       "array([ 1.,  0.,  4.,  2.,  6., nan,  3.,  7.,  5.,  9.,  8., 10., 12.,\n",
       "       11., 26., 18.])"
      ]
     },
     "execution_count": 52,
     "metadata": {},
     "output_type": "execute_result"
    }
   ],
   "source": [
    "df['Car'].unique()"
   ]
  },
  {
   "cell_type": "code",
   "execution_count": 53,
   "id": "439b5d9a-49b5-42e6-b48d-41d4514fd16e",
   "metadata": {},
   "outputs": [
    {
     "data": {
      "text/plain": [
       "Car\n",
       "2.0     12214\n",
       "1.0      9164\n",
       "0.0      1631\n",
       "3.0      1606\n",
       "4.0      1161\n",
       "5.0       151\n",
       "6.0       140\n",
       "7.0        25\n",
       "8.0        23\n",
       "10.0        6\n",
       "9.0         3\n",
       "11.0        2\n",
       "12.0        1\n",
       "26.0        1\n",
       "18.0        1\n",
       "Name: count, dtype: int64"
      ]
     },
     "execution_count": 53,
     "metadata": {},
     "output_type": "execute_result"
    }
   ],
   "source": [
    "df['Car'].value_counts()"
   ]
  },
  {
   "cell_type": "code",
   "execution_count": 54,
   "id": "d14bcc63-2889-4f4e-9429-cbd3baf3348c",
   "metadata": {},
   "outputs": [],
   "source": [
    "df['Car']=df['Car'].fillna(2.0)"
   ]
  },
  {
   "cell_type": "code",
   "execution_count": 55,
   "id": "f49f9810-6dac-494a-b144-9a71cade64fc",
   "metadata": {},
   "outputs": [
    {
     "data": {
      "text/plain": [
       "0        1\n",
       "1        1\n",
       "2        0\n",
       "3        0\n",
       "4        1\n",
       "        ..\n",
       "34852    1\n",
       "34853    2\n",
       "34854    2\n",
       "34855    1\n",
       "34856    6\n",
       "Name: Car, Length: 34857, dtype: int32"
      ]
     },
     "execution_count": 55,
     "metadata": {},
     "output_type": "execute_result"
    }
   ],
   "source": [
    "df['Car'].astype(int)"
   ]
  },
  {
   "cell_type": "code",
   "execution_count": 56,
   "id": "f91dd900-b96a-424e-990b-b6952fe86e0b",
   "metadata": {},
   "outputs": [
    {
     "data": {
      "text/plain": [
       "array([ 126.,  303.,  120., ..., 2193., 1357., 9833.])"
      ]
     },
     "execution_count": 56,
     "metadata": {},
     "output_type": "execute_result"
    }
   ],
   "source": [
    "df['Landsize'].unique()"
   ]
  },
  {
   "cell_type": "code",
   "execution_count": 57,
   "id": "2c4fbaef-7145-46f0-8dd0-153cfc5a393a",
   "metadata": {},
   "outputs": [
    {
     "data": {
      "text/plain": [
       "Landsize\n",
       "0.0        2437\n",
       "650.0       204\n",
       "697.0       123\n",
       "585.0        97\n",
       "700.0        86\n",
       "           ... \n",
       "21600.0       1\n",
       "1669.0        1\n",
       "2335.0        1\n",
       "1085.0        1\n",
       "9833.0        1\n",
       "Name: count, Length: 1684, dtype: int64"
      ]
     },
     "execution_count": 57,
     "metadata": {},
     "output_type": "execute_result"
    }
   ],
   "source": [
    "df['Landsize'].value_counts()"
   ]
  },
  {
   "cell_type": "code",
   "execution_count": 58,
   "id": "896188af-ed8b-47c8-9c71-d6371de71a38",
   "metadata": {},
   "outputs": [
    {
     "data": {
      "text/plain": [
       "593.598993361392"
      ]
     },
     "execution_count": 58,
     "metadata": {},
     "output_type": "execute_result"
    }
   ],
   "source": [
    "df['Landsize'].mean()"
   ]
  },
  {
   "cell_type": "code",
   "execution_count": 59,
   "id": "e3a0820f-6cd6-4226-95b0-1ac0bbbe1d2f",
   "metadata": {},
   "outputs": [],
   "source": [
    "df['Landsize'].fillna(df['Landsize'].mean(), inplace=True)"
   ]
  },
  {
   "cell_type": "code",
   "execution_count": 60,
   "id": "272ec2c0-38ec-44e9-999b-d0f251e28312",
   "metadata": {},
   "outputs": [
    {
     "data": {
      "text/plain": [
       "0        126\n",
       "1        303\n",
       "2        120\n",
       "3        159\n",
       "4        174\n",
       "        ... \n",
       "34852    593\n",
       "34853    593\n",
       "34854    534\n",
       "34855    544\n",
       "34856    813\n",
       "Name: Landsize, Length: 34857, dtype: int32"
      ]
     },
     "execution_count": 60,
     "metadata": {},
     "output_type": "execute_result"
    }
   ],
   "source": [
    "df['Landsize'].astype(int)"
   ]
  },
  {
   "cell_type": "code",
   "execution_count": 61,
   "id": "d9110b69-d061-4e85-af85-9f791970308d",
   "metadata": {},
   "outputs": [
    {
     "data": {
      "text/plain": [
       "Landsize\n",
       "593.598993     11810\n",
       "0.000000        2437\n",
       "650.000000       204\n",
       "697.000000       123\n",
       "585.000000        97\n",
       "               ...  \n",
       "35.000000          1\n",
       "4735.000000        1\n",
       "1389.000000        1\n",
       "1569.000000        1\n",
       "9833.000000        1\n",
       "Name: count, Length: 1685, dtype: int64"
      ]
     },
     "execution_count": 61,
     "metadata": {},
     "output_type": "execute_result"
    }
   ],
   "source": [
    "df['Landsize'].value_counts()"
   ]
  },
  {
   "cell_type": "code",
   "execution_count": 62,
   "id": "b4a7bd1d-4300-4b41-8613-312aa5cc839d",
   "metadata": {},
   "outputs": [
    {
     "data": {
      "text/plain": [
       "array(['inf', '225', '82', '122', '263', '242', '108', '251', '117',\n",
       "       'missing', '76', '135', '399', '118', '103', '180', nan, '123',\n",
       "       '218', '129', '167', '154', '275', '121', '146', '125', '255',\n",
       "       '94', '75', '254', '156', '404', '240', '370', '268', '202', '203',\n",
       "       '69', '140', '214', '253', '189', '215', '195', '96', '104', '100',\n",
       "       '313', '144', '130', '64', '93', '106', '107', '110', '70', '132',\n",
       "       '229', '51', '147', '113', '83', '56', '137', '85', '175', '3558',\n",
       "       '170', '259', '265', '353', '138', '19', '116', '87', '74', '320',\n",
       "       '300', '52', '210', '120', '86', '97', '152', '200', '14', '161',\n",
       "       '128', '178', '185', '109', '53', '133', '115', '143', '150',\n",
       "       '236', '276', '188', '179', '249', '141', '349', '192', '34', '73',\n",
       "       '84', '81', '207', '50', '197', '264', '312', '235', '221', '260',\n",
       "       '183', '160', '186', '78', '105', '145', '168', '62', '111', '220',\n",
       "       '315', '181', '500', '61', '112', '420', '226', '266', '410',\n",
       "       '449', '356', '477', '205', '250', '95', '190', '193', '58', '136',\n",
       "       '284', '432', '258', '247', '162', '213', '174', '209', '119',\n",
       "       '348', '238', '166', '44', '134', '176', '98', '159', '79', '71',\n",
       "       '60', '33', '89', '230', '217', '3', '127', '187', '228', '99',\n",
       "       '49', '201', '12', '63', '223', '102', '327', '4', '16', '165',\n",
       "       '65', '139', '280', '67', '272', '38', '172', '182', '211', '153',\n",
       "       '169', '66', '285', '91', '374', '163', '288', '124', '227', '233',\n",
       "       '2', '39', '151', '279', '405', '252', '199', '158', '126', '80',\n",
       "       '57', '142', '36', '77', '435', '92', '149', '114', '594', '274',\n",
       "       '40', '68', '164', '350', '204', '481', '257', '323', '314', '157',\n",
       "       '378', '55', '309', '88', '54', '90', '148', '243', '47', '191',\n",
       "       '335', '808', '302', '326', '520', '212', '222', '171', '360',\n",
       "       '101', '325', '267', '342', '196', '256', '15', '155', '234', '72',\n",
       "       '330', '177', '341', '340', '394', '245', '270', '42', '232',\n",
       "       '131', '297', '237', '194', '173', '46', '465', '301', '303', '45',\n",
       "       '387', '206', '365', '445', '283', '321', '37', '304', '244',\n",
       "       '305', '43', '41', '22', '467', '287', '393', '59', '292', '618',\n",
       "       '792', '355', '1044', '398', '334', '395', '298', '371', '351',\n",
       "       '248', '224', '426', '286', '308', '1', '198', '291', '331', '277',\n",
       "       '208', '281', '216', '262', '364', '278', '30', '362', '184', '25',\n",
       "       '558', '375', '508', '372', '246', '289', '347', '241', '475',\n",
       "       '412', '413', '400', '593', '101.37', '142.1', '219', '239',\n",
       "       '123.21', '140.7481', '86.5', '30.6', '225.5', '322', '409.54',\n",
       "       '26', '3647', '156.6', '156.5', '544', '227.6', '190.36', '104.63',\n",
       "       '443', '167.13', '148.5', '270.18', '53.3', '98.5', '157.9351',\n",
       "       '328', '54.5', '213.23', '94.3', '4645', '21', '310', '95.88',\n",
       "       '329.24', '261', '105.7', '72.9', '45.4', '69.5', '221.3', '121.6',\n",
       "       '113.2', '186.75', '290', '540', '98.7', '127.8', '231', '268.6',\n",
       "       '106.4', '311', '389', '0', '332', '296', '269', '306', '380',\n",
       "       '367', '48', '346', '35', '5', '294', '524', '28', '458', '195.3',\n",
       "       '385', '196.8', '106.2', '32', '424', '20', '430', '511', '531',\n",
       "       '333', '72.3', '66.23', '101.51', '112.6', '112.9', '316', '99.5',\n",
       "       '77.5', '9', '293', '131.3', '105.23', '352', '391', '121.8',\n",
       "       '82.6', '136.49', '125.6', '502', '125.51', '680', '157.9352',\n",
       "       '126.8', '100.6', '44.4', '198.6', '390', '151.54', '397', '425',\n",
       "       '495', '318', '273', '345', '564', '363', '584', '958', '354',\n",
       "       '622', '337', '317', '529', '697', '602', '6791', '358', '282',\n",
       "       '534', '429', '411', '532', '802', '373', '324', '180.9',\n",
       "       '826.8367', '572', '366', '307', '625', '419', '94.5', '392',\n",
       "       '116.65', '11', '134.6', '183.84', '431', '126.7', '157.85', '18',\n",
       "       '450', '295', '726', '503', '447', '271', '416', '640', '428',\n",
       "       '660', '463', '361', '782', '496', '735', '173.45', '134.3',\n",
       "       '464.3', '76.77', '113.76', '107.4', '255.79', '186.36', '490',\n",
       "       '103.6', '63.7', '162.52', '106.76', '39.5', '423', '329', '319',\n",
       "       '437', '453', '472', '418', '487', '31', '155.4', '116.4',\n",
       "       '182.85', '109.5', '129.7', '665', '148.47', '114.39', '553',\n",
       "       '182.9', '184.75', '193.74', '68.5', '336', '719', '3112', '460',\n",
       "       '344', '414', '525', '1561', '454', '720', '415', '381', '677',\n",
       "       '439', '857', '23', '377', '512', '664', '406', '521', '408',\n",
       "       '6178', '478', '654', '727', '417', '560', '168.01', '306.19',\n",
       "       '515.78', '196.1', '789', '131.27', '167.87', '183.97', '271.5',\n",
       "       '199.5', '29', '446', '75.45', '165.5', '629', '144.65', '263.5',\n",
       "       '585', '516', '17', '27', '444', '427', '338', '506', '643', '518',\n",
       "       '13', '1022', '339', '461', '376', '513', '491', '836', '464',\n",
       "       '386', '603', '613', '179.3', '142.6', '92.9', '147.2', '225.98',\n",
       "       '301.08', '113.81', '401', '737', '784', '530', '82.3', '110.87',\n",
       "       '402', '673', '109.98', '122.25', '105.9', '101.7', '106.9',\n",
       "       '93.82', '132.6', '154.3', '178.74', '88.3', '80.7', '89.25',\n",
       "       '181.6', '299', '104.4', '180.56', '123.5', '542', '1143', '575',\n",
       "       '859', '653', '999', '44515', '438', '686', '649', '357', '121.63',\n",
       "       '736', '371.6122', '199.73', '118.54', '412.31', '298.21', '88.74',\n",
       "       '122.6', '369', '169.5', '42.2', '489', '135.5', '266.76', '272.4',\n",
       "       '0.01', '229.8', '177.8', '139.4', '700', '766', '538', '528',\n",
       "       '650', '434', '368', '2002', '557', '7', '396', '924', '638',\n",
       "       '101.76', '634', '195.0964', '470', '130.52', '547', '111.04',\n",
       "       '63.4', '271.47', '92.5', '115.96', '121.84', '122.86', '114.2',\n",
       "       '266.53', '78.54', '85.35', '1041', '607', '407', '440', '10',\n",
       "       '501', '474', '448', 311.0, 162.0, 351.0, 317.0, 365.0, 206.0,\n",
       "       167.0, 262.0, 136.0, 227.0, 239.0, 224.0, 93.0, 111.0, 192.0,\n",
       "       152.0, 117.0, 44.0, 73.0, 160.0, 155.0, 412.0, 97.0, 200.0, 350.0,\n",
       "       140.0, 130.0, 0.0, 132.0, 165.0, 246.0, 401.0, 466.0, 126.0, 149.0,\n",
       "       127.0, 174.0, 145.0, 30.0, 337.0, 230.0, 332.0, 251.0, 175.0,\n",
       "       453.0, 229.0, 64.0, 235.0, 110.0, 119.0, 85.0, 739.0, 137.0, 122.0,\n",
       "       189.0, 163.0, 146.0, 115.0, 218.0, 172.0, 121.0, 150.0, 253.0,\n",
       "       219.0, 183.0, 213.0, 168.0, 210.0, 264.0, 89.0, 215.0, 236.0,\n",
       "       205.0, 281.0, 104.0, 124.0, 170.0, 100.0, 101.0, 156.0, 193.0,\n",
       "       292.0, 108.0, 158.0, 258.0, 360.0, 123.0, 95.0, 143.0, 147.0,\n",
       "       217.0, 148.0, 203.0, 81.0, 142.0, 181.0, 208.0, 118.0, 216.0,\n",
       "       379.0, 240.0, 116.0, 220.0, 223.0, 298.0, 245.0, 180.0, 144.0,\n",
       "       159.0, 94.0, 186.0, 91.0, 75.0, 92.0, 312.0, 109.0, 191.0, 179.0,\n",
       "       297.0, 296.0, 249.0, 103.0, 238.0, 177.0, 325.0, 275.0, 138.0,\n",
       "       209.0, 340.0, 228.0, 125.0, 128.0, 113.0, 204.0, 250.0, 342.0,\n",
       "       153.0, 185.0, 164.0, 320.0, 135.0, 188.0, 139.0, 74.0, 261.0,\n",
       "       169.0, 114.0, 151.0, 88.0, 553.0, 287.0, 52.0, 197.0, 173.0, 214.0,\n",
       "       207.0, 614.0, 194.0, 182.0, 176.0, 80.0, 134.0, 59.0, 129.0, 107.0,\n",
       "       112.0, 184.0, 421.0, 294.0, 82.0, 195.0, 295.0, 212.0, 233.0,\n",
       "       222.0, 269.0, 260.0, 385.0, 199.0, 286.0, 280.0, 33.0, 255.0,\n",
       "       276.0, 198.0, 265.0, 242.0, 131.0, 105.0, 178.0, 231.33, 161.0,\n",
       "       70.0, 48.0, 68.11, 271.0, 84.0, 61.0, 153.1, 285.0, 120.0, 53.0,\n",
       "       67.0, 85.2, 106.0, 133.0, 90.0, 80.74, 274.0, 309.0, 166.0, 99.0,\n",
       "       65.0, 1.0, 77.0, 46.0, 71.0, 54.0, 93.84, 124.45, 300.0, 96.0,\n",
       "       210.68, 98.0, 51.0, 76.0, 232.0, 102.0, 145.4, 79.0, 47.0, 160.91,\n",
       "       225.0, 243.0, 283.0, 83.0, 200.71, 285.7, 60.0, 100.8, 69.0, 81.79,\n",
       "       27.0, 190.0, 221.0, 306.0, 78.0, 934.0, 703.0, 129.92, 196.0,\n",
       "       141.0, 45.0, 58.0, 86.0, 436.64, 202.0, 43.7, 63.0, 113.6, 66.32,\n",
       "       237.0, 35.64, 61.6, 388.5, 273.0, 323.0, 157.0, 4.0, 672.0, 55.0,\n",
       "       307.0, 234.0, 43.0, 187.0, 20.0, 35.0, 72.0, 68.0, 357.0, 38.0,\n",
       "       154.0], dtype=object)"
      ]
     },
     "execution_count": 62,
     "metadata": {},
     "output_type": "execute_result"
    }
   ],
   "source": [
    "df['BuildingArea'].unique()"
   ]
  },
  {
   "cell_type": "code",
   "execution_count": 63,
   "id": "71fa7f85-c32a-45e1-a43c-59b88742ee0f",
   "metadata": {},
   "outputs": [],
   "source": [
    "df['BuildingArea'].replace({'inf':120,'missing':120},inplace=True)"
   ]
  },
  {
   "cell_type": "code",
   "execution_count": 64,
   "id": "5b57d6e0-3334-4ec0-b6f5-0af5b6a6011b",
   "metadata": {},
   "outputs": [],
   "source": [
    "df['BuildingArea']= df['BuildingArea'].fillna(110.000000)"
   ]
  },
  {
   "cell_type": "code",
   "execution_count": 65,
   "id": "f7864d08-6999-4ae3-8c62-42bc1b750504",
   "metadata": {},
   "outputs": [
    {
     "data": {
      "text/plain": [
       "BuildingArea\n",
       "110.0     21104\n",
       "120         177\n",
       "110         152\n",
       "100         148\n",
       "130         145\n",
       "          ...  \n",
       "266.53        1\n",
       "114.2         1\n",
       "122.86        1\n",
       "121.84        1\n",
       "154.0         1\n",
       "Name: count, Length: 992, dtype: int64"
      ]
     },
     "execution_count": 65,
     "metadata": {},
     "output_type": "execute_result"
    }
   ],
   "source": [
    "df['BuildingArea'].value_counts()"
   ]
  },
  {
   "cell_type": "code",
   "execution_count": 66,
   "id": "f9fb122f-2b89-41ed-97bf-8c186c4ca04d",
   "metadata": {},
   "outputs": [
    {
     "name": "stdout",
     "output_type": "stream",
     "text": [
      "Suburb            object\n",
      "Address           object\n",
      "Rooms              int64\n",
      "Type              object\n",
      "Method            object\n",
      "SellerG           object\n",
      "Date              object\n",
      "Distance         float64\n",
      "Postcode         float64\n",
      "Bedroom          float64\n",
      "Bathroom         float64\n",
      "Car              float64\n",
      "Landsize         float64\n",
      "BuildingArea     float64\n",
      "YearBuilt        float64\n",
      "CouncilArea       object\n",
      "Latitude         float64\n",
      "Longtitude       float64\n",
      "Regionname        object\n",
      "Propertycount    float64\n",
      "ParkingArea       object\n",
      "Price            float64\n",
      "dtype: object\n"
     ]
    }
   ],
   "source": [
    "df[\"BuildingArea\"]= df[\"BuildingArea\"].astype(float)\n",
    "print(df.dtypes)"
   ]
  },
  {
   "cell_type": "code",
   "execution_count": 67,
   "id": "576a5ce8-ce07-4670-b46f-fad71b0ffdef",
   "metadata": {},
   "outputs": [
    {
     "data": {
      "text/plain": [
       "Suburb               0\n",
       "Address              0\n",
       "Rooms                0\n",
       "Type                 0\n",
       "Method               0\n",
       "SellerG              0\n",
       "Date                 0\n",
       "Distance             0\n",
       "Postcode             0\n",
       "Bedroom              0\n",
       "Bathroom             0\n",
       "Car                  0\n",
       "Landsize             0\n",
       "BuildingArea         0\n",
       "YearBuilt        19306\n",
       "CouncilArea          0\n",
       "Latitude          7976\n",
       "Longtitude        7976\n",
       "Regionname           0\n",
       "Propertycount        0\n",
       "ParkingArea          0\n",
       "Price             7610\n",
       "dtype: int64"
      ]
     },
     "execution_count": 67,
     "metadata": {},
     "output_type": "execute_result"
    }
   ],
   "source": [
    "df.isnull().sum()"
   ]
  },
  {
   "cell_type": "code",
   "execution_count": 68,
   "id": "545ebf87-e882-4973-88b1-aa64d8221fb7",
   "metadata": {},
   "outputs": [
    {
     "data": {
      "text/plain": [
       "array([  nan, 2016., 1900., 2003., 1930., 2013., 2015., 1950., 1965.,\n",
       "       1970., 1964., 1910., 1960., 1980., 1920., 1985., 2000., 1974.,\n",
       "       1997., 2008., 1940., 1915., 1998., 1905., 1957., 1890., 1935.,\n",
       "       2004., 1989., 2009., 1955., 1993., 1830., 1975., 1925., 2010.,\n",
       "       1880., 2007., 2001., 2005., 1904., 1971., 1995., 1990., 1983.,\n",
       "       2012., 2014., 1857., 1978., 1889., 2017., 1999., 1977., 2006.,\n",
       "       2011., 2002., 1938., 1919., 1969., 1863., 1893., 1945., 1912.,\n",
       "       1968., 1972., 1943., 1951., 1922., 1996., 1992., 1958., 1962.,\n",
       "       1967., 1934., 1887., 1976., 1973., 1994., 1982., 1907., 1918.,\n",
       "       1986., 1953., 1928., 1948., 1931., 1941., 1949., 1988., 1991.,\n",
       "       1924., 1923., 1897., 1984., 1987., 1856., 1860., 2106., 1902.,\n",
       "       1966., 1961., 1929., 1952., 1885., 1881., 1870., 1959., 1926.,\n",
       "       1939., 1903., 1911., 1906., 1868., 1963., 1927., 1956., 1979.,\n",
       "       1884., 1917., 1898., 1888., 1954., 1909., 1894., 1854., 1946.,\n",
       "       1937., 1871., 1981., 1895., 1914., 1908., 1921., 1913., 1872.,\n",
       "       1936., 1875., 1947., 1932., 1891., 1862., 2018., 1899., 1855.,\n",
       "       1869., 1933., 1916., 1886., 2019., 1892., 1877., 1901., 1850.,\n",
       "       1896., 1800., 1879., 1196., 1883., 1942., 1876., 1820.])"
      ]
     },
     "execution_count": 68,
     "metadata": {},
     "output_type": "execute_result"
    }
   ],
   "source": [
    "df['YearBuilt'].unique()"
   ]
  },
  {
   "cell_type": "code",
   "execution_count": 69,
   "id": "96637214-3635-478c-b3e5-9d6ab1c740f0",
   "metadata": {},
   "outputs": [
    {
     "data": {
      "text/plain": [
       "YearBuilt\n",
       "1970.0    1490\n",
       "1960.0    1260\n",
       "1950.0    1089\n",
       "1980.0     726\n",
       "1900.0     606\n",
       "          ... \n",
       "1856.0       1\n",
       "1871.0       1\n",
       "2106.0       1\n",
       "1884.0       1\n",
       "1820.0       1\n",
       "Name: count, Length: 160, dtype: int64"
      ]
     },
     "execution_count": 69,
     "metadata": {},
     "output_type": "execute_result"
    }
   ],
   "source": [
    "df['YearBuilt'].value_counts()"
   ]
  },
  {
   "cell_type": "code",
   "execution_count": 70,
   "id": "07f49d2b-56aa-42f7-9e19-dab0fee3618a",
   "metadata": {},
   "outputs": [],
   "source": [
    "df['YearBuilt'] = df['YearBuilt'].fillna(1870.0)"
   ]
  },
  {
   "cell_type": "code",
   "execution_count": 71,
   "id": "57c5cad9-c2e5-4a70-bbe0-c5327bd875e1",
   "metadata": {},
   "outputs": [
    {
     "data": {
      "text/plain": [
       "0"
      ]
     },
     "execution_count": 71,
     "metadata": {},
     "output_type": "execute_result"
    }
   ],
   "source": [
    "df['YearBuilt'].isnull().sum()"
   ]
  },
  {
   "cell_type": "code",
   "execution_count": 72,
   "id": "71661cc9-57d7-4ae3-8f0c-3b7359d4ef4b",
   "metadata": {},
   "outputs": [
    {
     "data": {
      "text/plain": [
       "array([-37.8014 , -37.718  , -37.8459 , ..., -37.97037, -37.97751,\n",
       "       -37.67631])"
      ]
     },
     "execution_count": 72,
     "metadata": {},
     "output_type": "execute_result"
    }
   ],
   "source": [
    "df['Latitude'].unique()"
   ]
  },
  {
   "cell_type": "code",
   "execution_count": 73,
   "id": "71137280-a305-4609-9b7e-e8ac175db5b0",
   "metadata": {},
   "outputs": [
    {
     "data": {
      "text/plain": [
       "Latitude\n",
       "-37.83610    25\n",
       "-37.84240    22\n",
       "-37.81980    20\n",
       "-37.79560    20\n",
       "-37.84140    18\n",
       "             ..\n",
       "-37.61243     1\n",
       "-37.55292     1\n",
       "-37.66823     1\n",
       "-37.67208     1\n",
       "-37.67631     1\n",
       "Name: count, Length: 13402, dtype: int64"
      ]
     },
     "execution_count": 73,
     "metadata": {},
     "output_type": "execute_result"
    }
   ],
   "source": [
    "df['Latitude'].value_counts()"
   ]
  },
  {
   "cell_type": "code",
   "execution_count": 74,
   "id": "aa0404db-ec74-4cf5-968e-0f1aa661acaf",
   "metadata": {},
   "outputs": [],
   "source": [
    "df['Latitude'] = df['Latitude'].fillna(-37.84240)"
   ]
  },
  {
   "cell_type": "code",
   "execution_count": 75,
   "id": "1fb0e458-758c-402d-b8ca-ca8992b05a82",
   "metadata": {},
   "outputs": [
    {
     "data": {
      "text/plain": [
       "0"
      ]
     },
     "execution_count": 75,
     "metadata": {},
     "output_type": "execute_result"
    }
   ],
   "source": [
    "df['Latitude'].isnull().sum()"
   ]
  },
  {
   "cell_type": "code",
   "execution_count": 76,
   "id": "45f02674-f225-4291-86cf-92c06e07809e",
   "metadata": {},
   "outputs": [
    {
     "data": {
      "text/plain": [
       "array([144.9958 , 144.878  , 144.9555 , ..., 144.92976, 145.15449,\n",
       "       144.89409])"
      ]
     },
     "execution_count": 76,
     "metadata": {},
     "output_type": "execute_result"
    }
   ],
   "source": [
    "df['Longtitude'].unique()"
   ]
  },
  {
   "cell_type": "code",
   "execution_count": 77,
   "id": "ec1b0af9-095f-4989-b5be-1c74055506a6",
   "metadata": {},
   "outputs": [
    {
     "data": {
      "text/plain": [
       "Longtitude\n",
       "144.99660    21\n",
       "144.99100    17\n",
       "145.01040    17\n",
       "144.98500    17\n",
       "144.96790    16\n",
       "             ..\n",
       "145.02765     1\n",
       "145.04165     1\n",
       "145.01864     1\n",
       "144.90629     1\n",
       "144.89409     1\n",
       "Name: count, Length: 14524, dtype: int64"
      ]
     },
     "execution_count": 77,
     "metadata": {},
     "output_type": "execute_result"
    }
   ],
   "source": [
    "df['Longtitude'].value_counts()"
   ]
  },
  {
   "cell_type": "code",
   "execution_count": 78,
   "id": "f94950aa-93f0-408d-8038-897222739b84",
   "metadata": {},
   "outputs": [],
   "source": [
    "df['Longtitude'] = df['Longtitude'].fillna(160.99660)"
   ]
  },
  {
   "cell_type": "code",
   "execution_count": 79,
   "id": "f35a8c68-9b3f-4c8b-8b3f-05bbf67ee4b6",
   "metadata": {},
   "outputs": [
    {
     "data": {
      "text/plain": [
       "0"
      ]
     },
     "execution_count": 79,
     "metadata": {},
     "output_type": "execute_result"
    }
   ],
   "source": [
    "df['Longtitude'].isnull().sum()"
   ]
  },
  {
   "cell_type": "code",
   "execution_count": 80,
   "id": "e180f45a-f1a8-41cf-936d-d5b97dfa5d7e",
   "metadata": {},
   "outputs": [
    {
     "data": {
      "text/plain": [
       "Suburb              0\n",
       "Address             0\n",
       "Rooms               0\n",
       "Type                0\n",
       "Method              0\n",
       "SellerG             0\n",
       "Date                0\n",
       "Distance            0\n",
       "Postcode            0\n",
       "Bedroom             0\n",
       "Bathroom            0\n",
       "Car                 0\n",
       "Landsize            0\n",
       "BuildingArea        0\n",
       "YearBuilt           0\n",
       "CouncilArea         0\n",
       "Latitude            0\n",
       "Longtitude          0\n",
       "Regionname          0\n",
       "Propertycount       0\n",
       "ParkingArea         0\n",
       "Price            7610\n",
       "dtype: int64"
      ]
     },
     "execution_count": 80,
     "metadata": {},
     "output_type": "execute_result"
    }
   ],
   "source": [
    "df.isnull().sum()"
   ]
  },
  {
   "cell_type": "code",
   "execution_count": 81,
   "id": "395b3636-5f0c-462e-bfdd-1a153fd3ec15",
   "metadata": {},
   "outputs": [
    {
     "data": {
      "text/plain": [
       "array([     nan,  840000., 1275000., ...,  354000.,  190000.,  780500.])"
      ]
     },
     "execution_count": 81,
     "metadata": {},
     "output_type": "execute_result"
    }
   ],
   "source": [
    "df['Price'].unique()"
   ]
  },
  {
   "cell_type": "code",
   "execution_count": 82,
   "id": "18ab2c0d-baa5-4a7b-86f0-d37f37929df4",
   "metadata": {},
   "outputs": [
    {
     "data": {
      "text/plain": [
       "1050173.344955408"
      ]
     },
     "execution_count": 82,
     "metadata": {},
     "output_type": "execute_result"
    }
   ],
   "source": [
    "df['Price'].mean()"
   ]
  },
  {
   "cell_type": "code",
   "execution_count": 83,
   "id": "ca531b1c-b312-4179-88a8-27c014b89d13",
   "metadata": {},
   "outputs": [],
   "source": [
    "df['Price'].fillna(df['Price'].mean(), inplace=True)"
   ]
  },
  {
   "cell_type": "code",
   "execution_count": 84,
   "id": "45af32a1-bccd-43b8-9a8f-825eb81ce2f7",
   "metadata": {},
   "outputs": [
    {
     "data": {
      "text/plain": [
       "0"
      ]
     },
     "execution_count": 84,
     "metadata": {},
     "output_type": "execute_result"
    }
   ],
   "source": [
    "df['Price'].isnull().sum()"
   ]
  },
  {
   "cell_type": "code",
   "execution_count": 85,
   "id": "bcf14bcf-ce64-492b-899a-d0440c2b7bbb",
   "metadata": {},
   "outputs": [
    {
     "data": {
      "text/plain": [
       "Suburb           0\n",
       "Address          0\n",
       "Rooms            0\n",
       "Type             0\n",
       "Method           0\n",
       "SellerG          0\n",
       "Date             0\n",
       "Distance         0\n",
       "Postcode         0\n",
       "Bedroom          0\n",
       "Bathroom         0\n",
       "Car              0\n",
       "Landsize         0\n",
       "BuildingArea     0\n",
       "YearBuilt        0\n",
       "CouncilArea      0\n",
       "Latitude         0\n",
       "Longtitude       0\n",
       "Regionname       0\n",
       "Propertycount    0\n",
       "ParkingArea      0\n",
       "Price            0\n",
       "dtype: int64"
      ]
     },
     "execution_count": 85,
     "metadata": {},
     "output_type": "execute_result"
    }
   ],
   "source": [
    "df.isnull().sum()"
   ]
  },
  {
   "cell_type": "code",
   "execution_count": 86,
   "id": "01c891a1-c3ba-49c0-9aad-991ed334d560",
   "metadata": {},
   "outputs": [
    {
     "data": {
      "text/html": [
       "<div>\n",
       "<style scoped>\n",
       "    .dataframe tbody tr th:only-of-type {\n",
       "        vertical-align: middle;\n",
       "    }\n",
       "\n",
       "    .dataframe tbody tr th {\n",
       "        vertical-align: top;\n",
       "    }\n",
       "\n",
       "    .dataframe thead th {\n",
       "        text-align: right;\n",
       "    }\n",
       "</style>\n",
       "<table border=\"1\" class=\"dataframe\">\n",
       "  <thead>\n",
       "    <tr style=\"text-align: right;\">\n",
       "      <th></th>\n",
       "      <th>Suburb</th>\n",
       "      <th>Address</th>\n",
       "      <th>Rooms</th>\n",
       "      <th>Type</th>\n",
       "      <th>Method</th>\n",
       "      <th>SellerG</th>\n",
       "      <th>Date</th>\n",
       "      <th>Distance</th>\n",
       "      <th>Postcode</th>\n",
       "      <th>Bedroom</th>\n",
       "      <th>...</th>\n",
       "      <th>Landsize</th>\n",
       "      <th>BuildingArea</th>\n",
       "      <th>YearBuilt</th>\n",
       "      <th>CouncilArea</th>\n",
       "      <th>Latitude</th>\n",
       "      <th>Longtitude</th>\n",
       "      <th>Regionname</th>\n",
       "      <th>Propertycount</th>\n",
       "      <th>ParkingArea</th>\n",
       "      <th>Price</th>\n",
       "    </tr>\n",
       "  </thead>\n",
       "  <tbody>\n",
       "    <tr>\n",
       "      <th>0</th>\n",
       "      <td>Abbotsford</td>\n",
       "      <td>68 Studley St</td>\n",
       "      <td>2</td>\n",
       "      <td>h</td>\n",
       "      <td>SS</td>\n",
       "      <td>Jellis</td>\n",
       "      <td>3/9/2016</td>\n",
       "      <td>2.5</td>\n",
       "      <td>3067.0</td>\n",
       "      <td>2.0</td>\n",
       "      <td>...</td>\n",
       "      <td>126.000000</td>\n",
       "      <td>120.0</td>\n",
       "      <td>1870.0</td>\n",
       "      <td>Yarra City Council</td>\n",
       "      <td>-37.80140</td>\n",
       "      <td>144.99580</td>\n",
       "      <td>Northern Metropolitan</td>\n",
       "      <td>4019.0</td>\n",
       "      <td>Carport</td>\n",
       "      <td>1.050173e+06</td>\n",
       "    </tr>\n",
       "    <tr>\n",
       "      <th>1</th>\n",
       "      <td>Airport West</td>\n",
       "      <td>154 Halsey Rd</td>\n",
       "      <td>3</td>\n",
       "      <td>t</td>\n",
       "      <td>PI</td>\n",
       "      <td>Nelson</td>\n",
       "      <td>3/9/2016</td>\n",
       "      <td>13.5</td>\n",
       "      <td>3042.0</td>\n",
       "      <td>3.0</td>\n",
       "      <td>...</td>\n",
       "      <td>303.000000</td>\n",
       "      <td>225.0</td>\n",
       "      <td>2016.0</td>\n",
       "      <td>Moonee Valley City Council</td>\n",
       "      <td>-37.71800</td>\n",
       "      <td>144.87800</td>\n",
       "      <td>Western Metropolitan</td>\n",
       "      <td>3464.0</td>\n",
       "      <td>Detached Garage</td>\n",
       "      <td>8.400000e+05</td>\n",
       "    </tr>\n",
       "    <tr>\n",
       "      <th>2</th>\n",
       "      <td>Albert Park</td>\n",
       "      <td>105 Kerferd Rd</td>\n",
       "      <td>2</td>\n",
       "      <td>h</td>\n",
       "      <td>S</td>\n",
       "      <td>hockingstuart</td>\n",
       "      <td>3/9/2016</td>\n",
       "      <td>3.3</td>\n",
       "      <td>3206.0</td>\n",
       "      <td>2.0</td>\n",
       "      <td>...</td>\n",
       "      <td>120.000000</td>\n",
       "      <td>82.0</td>\n",
       "      <td>1900.0</td>\n",
       "      <td>Port Phillip City Council</td>\n",
       "      <td>-37.84590</td>\n",
       "      <td>144.95550</td>\n",
       "      <td>Southern Metropolitan</td>\n",
       "      <td>3280.0</td>\n",
       "      <td>Attached Garage</td>\n",
       "      <td>1.275000e+06</td>\n",
       "    </tr>\n",
       "    <tr>\n",
       "      <th>3</th>\n",
       "      <td>Albert Park</td>\n",
       "      <td>85 Richardson St</td>\n",
       "      <td>2</td>\n",
       "      <td>h</td>\n",
       "      <td>S</td>\n",
       "      <td>Thomson</td>\n",
       "      <td>3/9/2016</td>\n",
       "      <td>3.3</td>\n",
       "      <td>3206.0</td>\n",
       "      <td>2.0</td>\n",
       "      <td>...</td>\n",
       "      <td>159.000000</td>\n",
       "      <td>120.0</td>\n",
       "      <td>1870.0</td>\n",
       "      <td>Port Phillip City Council</td>\n",
       "      <td>-37.84500</td>\n",
       "      <td>144.95380</td>\n",
       "      <td>Southern Metropolitan</td>\n",
       "      <td>3280.0</td>\n",
       "      <td>Indoor</td>\n",
       "      <td>1.455000e+06</td>\n",
       "    </tr>\n",
       "    <tr>\n",
       "      <th>4</th>\n",
       "      <td>Alphington</td>\n",
       "      <td>30 Austin St</td>\n",
       "      <td>3</td>\n",
       "      <td>h</td>\n",
       "      <td>SN</td>\n",
       "      <td>McGrath</td>\n",
       "      <td>3/9/2016</td>\n",
       "      <td>6.4</td>\n",
       "      <td>3078.0</td>\n",
       "      <td>3.0</td>\n",
       "      <td>...</td>\n",
       "      <td>174.000000</td>\n",
       "      <td>122.0</td>\n",
       "      <td>2003.0</td>\n",
       "      <td>Darebin City Council</td>\n",
       "      <td>-37.78180</td>\n",
       "      <td>145.01980</td>\n",
       "      <td>Northern Metropolitan</td>\n",
       "      <td>2211.0</td>\n",
       "      <td>Parkade</td>\n",
       "      <td>1.050173e+06</td>\n",
       "    </tr>\n",
       "    <tr>\n",
       "      <th>...</th>\n",
       "      <td>...</td>\n",
       "      <td>...</td>\n",
       "      <td>...</td>\n",
       "      <td>...</td>\n",
       "      <td>...</td>\n",
       "      <td>...</td>\n",
       "      <td>...</td>\n",
       "      <td>...</td>\n",
       "      <td>...</td>\n",
       "      <td>...</td>\n",
       "      <td>...</td>\n",
       "      <td>...</td>\n",
       "      <td>...</td>\n",
       "      <td>...</td>\n",
       "      <td>...</td>\n",
       "      <td>...</td>\n",
       "      <td>...</td>\n",
       "      <td>...</td>\n",
       "      <td>...</td>\n",
       "      <td>...</td>\n",
       "      <td>...</td>\n",
       "    </tr>\n",
       "    <tr>\n",
       "      <th>34852</th>\n",
       "      <td>Reservoir</td>\n",
       "      <td>18 Elinda Pl</td>\n",
       "      <td>3</td>\n",
       "      <td>u</td>\n",
       "      <td>SP</td>\n",
       "      <td>RW</td>\n",
       "      <td>30/09/2017</td>\n",
       "      <td>12.0</td>\n",
       "      <td>3073.0</td>\n",
       "      <td>3.0</td>\n",
       "      <td>...</td>\n",
       "      <td>593.598993</td>\n",
       "      <td>105.0</td>\n",
       "      <td>1990.0</td>\n",
       "      <td>Darebin City Council</td>\n",
       "      <td>-37.69769</td>\n",
       "      <td>145.02332</td>\n",
       "      <td>Northern Metropolitan</td>\n",
       "      <td>21650.0</td>\n",
       "      <td>Parkade</td>\n",
       "      <td>4.750000e+05</td>\n",
       "    </tr>\n",
       "    <tr>\n",
       "      <th>34853</th>\n",
       "      <td>Roxburgh Park</td>\n",
       "      <td>14 Stainsby Cr</td>\n",
       "      <td>4</td>\n",
       "      <td>h</td>\n",
       "      <td>S</td>\n",
       "      <td>Raine</td>\n",
       "      <td>30/09/2017</td>\n",
       "      <td>20.6</td>\n",
       "      <td>3064.0</td>\n",
       "      <td>4.0</td>\n",
       "      <td>...</td>\n",
       "      <td>593.598993</td>\n",
       "      <td>225.0</td>\n",
       "      <td>1995.0</td>\n",
       "      <td>Hume City Council</td>\n",
       "      <td>-37.63665</td>\n",
       "      <td>144.92976</td>\n",
       "      <td>Northern Metropolitan</td>\n",
       "      <td>5833.0</td>\n",
       "      <td>Underground</td>\n",
       "      <td>5.910000e+05</td>\n",
       "    </tr>\n",
       "    <tr>\n",
       "      <th>34854</th>\n",
       "      <td>Springvale South</td>\n",
       "      <td>8 Bellbird Ct</td>\n",
       "      <td>4</td>\n",
       "      <td>h</td>\n",
       "      <td>PI</td>\n",
       "      <td>Barry</td>\n",
       "      <td>30/09/2017</td>\n",
       "      <td>22.2</td>\n",
       "      <td>3172.0</td>\n",
       "      <td>4.0</td>\n",
       "      <td>...</td>\n",
       "      <td>534.000000</td>\n",
       "      <td>152.0</td>\n",
       "      <td>1970.0</td>\n",
       "      <td>Greater Dandenong City Council</td>\n",
       "      <td>-37.97037</td>\n",
       "      <td>145.15449</td>\n",
       "      <td>South-Eastern Metropolitan</td>\n",
       "      <td>4054.0</td>\n",
       "      <td>Carport</td>\n",
       "      <td>1.050173e+06</td>\n",
       "    </tr>\n",
       "    <tr>\n",
       "      <th>34855</th>\n",
       "      <td>Springvale South</td>\n",
       "      <td>30 Waddington Cr</td>\n",
       "      <td>3</td>\n",
       "      <td>h</td>\n",
       "      <td>S</td>\n",
       "      <td>Harcourts</td>\n",
       "      <td>30/09/2017</td>\n",
       "      <td>22.2</td>\n",
       "      <td>3172.0</td>\n",
       "      <td>3.0</td>\n",
       "      <td>...</td>\n",
       "      <td>544.000000</td>\n",
       "      <td>110.0</td>\n",
       "      <td>1870.0</td>\n",
       "      <td>Greater Dandenong City Council</td>\n",
       "      <td>-37.97751</td>\n",
       "      <td>145.14813</td>\n",
       "      <td>South-Eastern Metropolitan</td>\n",
       "      <td>4054.0</td>\n",
       "      <td>Detached Garage</td>\n",
       "      <td>7.805000e+05</td>\n",
       "    </tr>\n",
       "    <tr>\n",
       "      <th>34856</th>\n",
       "      <td>Westmeadows</td>\n",
       "      <td>42 Pascoe St</td>\n",
       "      <td>4</td>\n",
       "      <td>h</td>\n",
       "      <td>S</td>\n",
       "      <td>Barry</td>\n",
       "      <td>30/09/2017</td>\n",
       "      <td>16.5</td>\n",
       "      <td>3049.0</td>\n",
       "      <td>4.0</td>\n",
       "      <td>...</td>\n",
       "      <td>813.000000</td>\n",
       "      <td>140.0</td>\n",
       "      <td>1960.0</td>\n",
       "      <td>Hume City Council</td>\n",
       "      <td>-37.67631</td>\n",
       "      <td>144.89409</td>\n",
       "      <td>Northern Metropolitan</td>\n",
       "      <td>2474.0</td>\n",
       "      <td>Attached Garage</td>\n",
       "      <td>7.910000e+05</td>\n",
       "    </tr>\n",
       "  </tbody>\n",
       "</table>\n",
       "<p>34857 rows × 22 columns</p>\n",
       "</div>"
      ],
      "text/plain": [
       "                 Suburb           Address  Rooms Type Method        SellerG  \\\n",
       "0            Abbotsford     68 Studley St      2    h     SS         Jellis   \n",
       "1          Airport West     154 Halsey Rd      3    t     PI         Nelson   \n",
       "2           Albert Park    105 Kerferd Rd      2    h      S  hockingstuart   \n",
       "3           Albert Park  85 Richardson St      2    h      S        Thomson   \n",
       "4            Alphington      30 Austin St      3    h     SN        McGrath   \n",
       "...                 ...               ...    ...  ...    ...            ...   \n",
       "34852         Reservoir      18 Elinda Pl      3    u     SP             RW   \n",
       "34853     Roxburgh Park    14 Stainsby Cr      4    h      S          Raine   \n",
       "34854  Springvale South     8 Bellbird Ct      4    h     PI          Barry   \n",
       "34855  Springvale South  30 Waddington Cr      3    h      S      Harcourts   \n",
       "34856       Westmeadows      42 Pascoe St      4    h      S          Barry   \n",
       "\n",
       "             Date  Distance  Postcode  Bedroom  ...    Landsize  BuildingArea  \\\n",
       "0        3/9/2016       2.5    3067.0      2.0  ...  126.000000         120.0   \n",
       "1        3/9/2016      13.5    3042.0      3.0  ...  303.000000         225.0   \n",
       "2        3/9/2016       3.3    3206.0      2.0  ...  120.000000          82.0   \n",
       "3        3/9/2016       3.3    3206.0      2.0  ...  159.000000         120.0   \n",
       "4        3/9/2016       6.4    3078.0      3.0  ...  174.000000         122.0   \n",
       "...           ...       ...       ...      ...  ...         ...           ...   \n",
       "34852  30/09/2017      12.0    3073.0      3.0  ...  593.598993         105.0   \n",
       "34853  30/09/2017      20.6    3064.0      4.0  ...  593.598993         225.0   \n",
       "34854  30/09/2017      22.2    3172.0      4.0  ...  534.000000         152.0   \n",
       "34855  30/09/2017      22.2    3172.0      3.0  ...  544.000000         110.0   \n",
       "34856  30/09/2017      16.5    3049.0      4.0  ...  813.000000         140.0   \n",
       "\n",
       "       YearBuilt                     CouncilArea  Latitude Longtitude  \\\n",
       "0         1870.0              Yarra City Council -37.80140  144.99580   \n",
       "1         2016.0      Moonee Valley City Council -37.71800  144.87800   \n",
       "2         1900.0       Port Phillip City Council -37.84590  144.95550   \n",
       "3         1870.0       Port Phillip City Council -37.84500  144.95380   \n",
       "4         2003.0            Darebin City Council -37.78180  145.01980   \n",
       "...          ...                             ...       ...        ...   \n",
       "34852     1990.0            Darebin City Council -37.69769  145.02332   \n",
       "34853     1995.0               Hume City Council -37.63665  144.92976   \n",
       "34854     1970.0  Greater Dandenong City Council -37.97037  145.15449   \n",
       "34855     1870.0  Greater Dandenong City Council -37.97751  145.14813   \n",
       "34856     1960.0               Hume City Council -37.67631  144.89409   \n",
       "\n",
       "                       Regionname  Propertycount      ParkingArea  \\\n",
       "0           Northern Metropolitan         4019.0          Carport   \n",
       "1            Western Metropolitan         3464.0  Detached Garage   \n",
       "2           Southern Metropolitan         3280.0  Attached Garage   \n",
       "3           Southern Metropolitan         3280.0           Indoor   \n",
       "4           Northern Metropolitan         2211.0          Parkade   \n",
       "...                           ...            ...              ...   \n",
       "34852       Northern Metropolitan        21650.0          Parkade   \n",
       "34853       Northern Metropolitan         5833.0      Underground   \n",
       "34854  South-Eastern Metropolitan         4054.0          Carport   \n",
       "34855  South-Eastern Metropolitan         4054.0  Detached Garage   \n",
       "34856       Northern Metropolitan         2474.0  Attached Garage   \n",
       "\n",
       "              Price  \n",
       "0      1.050173e+06  \n",
       "1      8.400000e+05  \n",
       "2      1.275000e+06  \n",
       "3      1.455000e+06  \n",
       "4      1.050173e+06  \n",
       "...             ...  \n",
       "34852  4.750000e+05  \n",
       "34853  5.910000e+05  \n",
       "34854  1.050173e+06  \n",
       "34855  7.805000e+05  \n",
       "34856  7.910000e+05  \n",
       "\n",
       "[34857 rows x 22 columns]"
      ]
     },
     "execution_count": 86,
     "metadata": {},
     "output_type": "execute_result"
    }
   ],
   "source": [
    "df"
   ]
  },
  {
   "cell_type": "code",
   "execution_count": 87,
   "id": "645cc714-6134-4707-a5c0-88b9fb41d8d2",
   "metadata": {},
   "outputs": [
    {
     "name": "stdout",
     "output_type": "stream",
     "text": [
      "<class 'pandas.core.frame.DataFrame'>\n",
      "RangeIndex: 34857 entries, 0 to 34856\n",
      "Data columns (total 22 columns):\n",
      " #   Column         Non-Null Count  Dtype  \n",
      "---  ------         --------------  -----  \n",
      " 0   Suburb         34857 non-null  object \n",
      " 1   Address        34857 non-null  object \n",
      " 2   Rooms          34857 non-null  int64  \n",
      " 3   Type           34857 non-null  object \n",
      " 4   Method         34857 non-null  object \n",
      " 5   SellerG        34857 non-null  object \n",
      " 6   Date           34857 non-null  object \n",
      " 7   Distance       34857 non-null  float64\n",
      " 8   Postcode       34857 non-null  float64\n",
      " 9   Bedroom        34857 non-null  float64\n",
      " 10  Bathroom       34857 non-null  float64\n",
      " 11  Car            34857 non-null  float64\n",
      " 12  Landsize       34857 non-null  float64\n",
      " 13  BuildingArea   34857 non-null  float64\n",
      " 14  YearBuilt      34857 non-null  float64\n",
      " 15  CouncilArea    34857 non-null  object \n",
      " 16  Latitude       34857 non-null  float64\n",
      " 17  Longtitude     34857 non-null  float64\n",
      " 18  Regionname     34857 non-null  object \n",
      " 19  Propertycount  34857 non-null  float64\n",
      " 20  ParkingArea    34857 non-null  object \n",
      " 21  Price          34857 non-null  float64\n",
      "dtypes: float64(12), int64(1), object(9)\n",
      "memory usage: 5.9+ MB\n"
     ]
    }
   ],
   "source": [
    "df.info()"
   ]
  },
  {
   "cell_type": "code",
   "execution_count": 88,
   "id": "4561301a-3d19-48ea-9412-dee29957a4ea",
   "metadata": {},
   "outputs": [],
   "source": [
    "x = df.drop(['Suburb','Address','Type','Method','SellerG','Date','CouncilArea','Regionname','ParkingArea','Price','Latitude','Longtitude'],axis=1)\n",
    "y = df['Price']"
   ]
  },
  {
   "cell_type": "code",
   "execution_count": 89,
   "id": "02decb87-15cb-4aed-9b66-10a7503df18e",
   "metadata": {},
   "outputs": [
    {
     "data": {
      "text/html": [
       "<div>\n",
       "<style scoped>\n",
       "    .dataframe tbody tr th:only-of-type {\n",
       "        vertical-align: middle;\n",
       "    }\n",
       "\n",
       "    .dataframe tbody tr th {\n",
       "        vertical-align: top;\n",
       "    }\n",
       "\n",
       "    .dataframe thead th {\n",
       "        text-align: right;\n",
       "    }\n",
       "</style>\n",
       "<table border=\"1\" class=\"dataframe\">\n",
       "  <thead>\n",
       "    <tr style=\"text-align: right;\">\n",
       "      <th></th>\n",
       "      <th>Rooms</th>\n",
       "      <th>Distance</th>\n",
       "      <th>Postcode</th>\n",
       "      <th>Bedroom</th>\n",
       "      <th>Bathroom</th>\n",
       "      <th>Car</th>\n",
       "      <th>Landsize</th>\n",
       "      <th>BuildingArea</th>\n",
       "      <th>YearBuilt</th>\n",
       "      <th>Propertycount</th>\n",
       "    </tr>\n",
       "  </thead>\n",
       "  <tbody>\n",
       "    <tr>\n",
       "      <th>0</th>\n",
       "      <td>-1.062988</td>\n",
       "      <td>-1.279322</td>\n",
       "      <td>-0.450020</td>\n",
       "      <td>-1.240788</td>\n",
       "      <td>-0.69549</td>\n",
       "      <td>-0.902356</td>\n",
       "      <td>-1.691959e-01</td>\n",
       "      <td>-0.038787</td>\n",
       "      <td>-0.794200</td>\n",
       "      <td>-0.802624</td>\n",
       "    </tr>\n",
       "    <tr>\n",
       "      <th>1</th>\n",
       "      <td>-0.031974</td>\n",
       "      <td>0.341018</td>\n",
       "      <td>-0.679333</td>\n",
       "      <td>-0.075393</td>\n",
       "      <td>0.76149</td>\n",
       "      <td>-0.902356</td>\n",
       "      <td>-1.051503e-01</td>\n",
       "      <td>0.376013</td>\n",
       "      <td>1.933318</td>\n",
       "      <td>-0.927968</td>\n",
       "    </tr>\n",
       "    <tr>\n",
       "      <th>2</th>\n",
       "      <td>-1.062988</td>\n",
       "      <td>-1.161479</td>\n",
       "      <td>0.824964</td>\n",
       "      <td>-1.240788</td>\n",
       "      <td>-0.69549</td>\n",
       "      <td>-2.034916</td>\n",
       "      <td>-1.713669e-01</td>\n",
       "      <td>-0.188905</td>\n",
       "      <td>-0.233751</td>\n",
       "      <td>-0.969523</td>\n",
       "    </tr>\n",
       "    <tr>\n",
       "      <th>3</th>\n",
       "      <td>-1.062988</td>\n",
       "      <td>-1.161479</td>\n",
       "      <td>0.824964</td>\n",
       "      <td>-1.240788</td>\n",
       "      <td>-0.69549</td>\n",
       "      <td>-2.034916</td>\n",
       "      <td>-1.572552e-01</td>\n",
       "      <td>-0.038787</td>\n",
       "      <td>-0.794200</td>\n",
       "      <td>-0.969523</td>\n",
       "    </tr>\n",
       "    <tr>\n",
       "      <th>4</th>\n",
       "      <td>-0.031974</td>\n",
       "      <td>-0.704838</td>\n",
       "      <td>-0.349122</td>\n",
       "      <td>-0.075393</td>\n",
       "      <td>0.76149</td>\n",
       "      <td>-0.902356</td>\n",
       "      <td>-1.518276e-01</td>\n",
       "      <td>-0.030886</td>\n",
       "      <td>1.690457</td>\n",
       "      <td>-1.210950</td>\n",
       "    </tr>\n",
       "    <tr>\n",
       "      <th>...</th>\n",
       "      <td>...</td>\n",
       "      <td>...</td>\n",
       "      <td>...</td>\n",
       "      <td>...</td>\n",
       "      <td>...</td>\n",
       "      <td>...</td>\n",
       "      <td>...</td>\n",
       "      <td>...</td>\n",
       "      <td>...</td>\n",
       "      <td>...</td>\n",
       "    </tr>\n",
       "    <tr>\n",
       "      <th>34852</th>\n",
       "      <td>-0.031974</td>\n",
       "      <td>0.120063</td>\n",
       "      <td>-0.394985</td>\n",
       "      <td>-0.075393</td>\n",
       "      <td>-0.69549</td>\n",
       "      <td>-0.902356</td>\n",
       "      <td>4.113642e-17</td>\n",
       "      <td>-0.098044</td>\n",
       "      <td>1.447596</td>\n",
       "      <td>3.179230</td>\n",
       "    </tr>\n",
       "    <tr>\n",
       "      <th>34853</th>\n",
       "      <td>0.999040</td>\n",
       "      <td>1.386874</td>\n",
       "      <td>-0.477537</td>\n",
       "      <td>1.090003</td>\n",
       "      <td>0.76149</td>\n",
       "      <td>0.230203</td>\n",
       "      <td>4.113642e-17</td>\n",
       "      <td>0.376013</td>\n",
       "      <td>1.541004</td>\n",
       "      <td>-0.392943</td>\n",
       "    </tr>\n",
       "    <tr>\n",
       "      <th>34854</th>\n",
       "      <td>0.999040</td>\n",
       "      <td>1.622560</td>\n",
       "      <td>0.513097</td>\n",
       "      <td>1.090003</td>\n",
       "      <td>0.76149</td>\n",
       "      <td>0.230203</td>\n",
       "      <td>-2.156528e-02</td>\n",
       "      <td>0.087629</td>\n",
       "      <td>1.073963</td>\n",
       "      <td>-0.794720</td>\n",
       "    </tr>\n",
       "    <tr>\n",
       "      <th>34855</th>\n",
       "      <td>-0.031974</td>\n",
       "      <td>1.622560</td>\n",
       "      <td>0.513097</td>\n",
       "      <td>-0.075393</td>\n",
       "      <td>0.76149</td>\n",
       "      <td>-0.902356</td>\n",
       "      <td>-1.794689e-02</td>\n",
       "      <td>-0.078291</td>\n",
       "      <td>-0.794200</td>\n",
       "      <td>-0.794720</td>\n",
       "    </tr>\n",
       "    <tr>\n",
       "      <th>34856</th>\n",
       "      <td>0.999040</td>\n",
       "      <td>0.782929</td>\n",
       "      <td>-0.615126</td>\n",
       "      <td>1.090003</td>\n",
       "      <td>0.76149</td>\n",
       "      <td>4.760440</td>\n",
       "      <td>7.938800e-02</td>\n",
       "      <td>0.040223</td>\n",
       "      <td>0.887147</td>\n",
       "      <td>-1.151553</td>\n",
       "    </tr>\n",
       "  </tbody>\n",
       "</table>\n",
       "<p>34857 rows × 10 columns</p>\n",
       "</div>"
      ],
      "text/plain": [
       "          Rooms  Distance  Postcode   Bedroom  Bathroom       Car  \\\n",
       "0     -1.062988 -1.279322 -0.450020 -1.240788  -0.69549 -0.902356   \n",
       "1     -0.031974  0.341018 -0.679333 -0.075393   0.76149 -0.902356   \n",
       "2     -1.062988 -1.161479  0.824964 -1.240788  -0.69549 -2.034916   \n",
       "3     -1.062988 -1.161479  0.824964 -1.240788  -0.69549 -2.034916   \n",
       "4     -0.031974 -0.704838 -0.349122 -0.075393   0.76149 -0.902356   \n",
       "...         ...       ...       ...       ...       ...       ...   \n",
       "34852 -0.031974  0.120063 -0.394985 -0.075393  -0.69549 -0.902356   \n",
       "34853  0.999040  1.386874 -0.477537  1.090003   0.76149  0.230203   \n",
       "34854  0.999040  1.622560  0.513097  1.090003   0.76149  0.230203   \n",
       "34855 -0.031974  1.622560  0.513097 -0.075393   0.76149 -0.902356   \n",
       "34856  0.999040  0.782929 -0.615126  1.090003   0.76149  4.760440   \n",
       "\n",
       "           Landsize  BuildingArea  YearBuilt  Propertycount  \n",
       "0     -1.691959e-01     -0.038787  -0.794200      -0.802624  \n",
       "1     -1.051503e-01      0.376013   1.933318      -0.927968  \n",
       "2     -1.713669e-01     -0.188905  -0.233751      -0.969523  \n",
       "3     -1.572552e-01     -0.038787  -0.794200      -0.969523  \n",
       "4     -1.518276e-01     -0.030886   1.690457      -1.210950  \n",
       "...             ...           ...        ...            ...  \n",
       "34852  4.113642e-17     -0.098044   1.447596       3.179230  \n",
       "34853  4.113642e-17      0.376013   1.541004      -0.392943  \n",
       "34854 -2.156528e-02      0.087629   1.073963      -0.794720  \n",
       "34855 -1.794689e-02     -0.078291  -0.794200      -0.794720  \n",
       "34856  7.938800e-02      0.040223   0.887147      -1.151553  \n",
       "\n",
       "[34857 rows x 10 columns]"
      ]
     },
     "execution_count": 89,
     "metadata": {},
     "output_type": "execute_result"
    }
   ],
   "source": [
    "std = StandardScaler()\n",
    "std_array = std.fit_transform(x)\n",
    "df_std = pd.DataFrame(std_array, columns=x.columns)\n",
    "df_std"
   ]
  },
  {
   "cell_type": "code",
   "execution_count": 90,
   "id": "7cb3b0da-e965-410a-935f-7f5034caad08",
   "metadata": {},
   "outputs": [
    {
     "data": {
      "text/html": [
       "<div>\n",
       "<style scoped>\n",
       "    .dataframe tbody tr th:only-of-type {\n",
       "        vertical-align: middle;\n",
       "    }\n",
       "\n",
       "    .dataframe tbody tr th {\n",
       "        vertical-align: top;\n",
       "    }\n",
       "\n",
       "    .dataframe thead th {\n",
       "        text-align: right;\n",
       "    }\n",
       "</style>\n",
       "<table border=\"1\" class=\"dataframe\">\n",
       "  <thead>\n",
       "    <tr style=\"text-align: right;\">\n",
       "      <th></th>\n",
       "      <th>Rooms</th>\n",
       "      <th>Distance</th>\n",
       "      <th>Postcode</th>\n",
       "      <th>Bedroom</th>\n",
       "      <th>Bathroom</th>\n",
       "      <th>Car</th>\n",
       "      <th>Landsize</th>\n",
       "      <th>BuildingArea</th>\n",
       "      <th>YearBuilt</th>\n",
       "      <th>Propertycount</th>\n",
       "    </tr>\n",
       "  </thead>\n",
       "  <tbody>\n",
       "    <tr>\n",
       "      <th>0</th>\n",
       "      <td>2</td>\n",
       "      <td>2.5</td>\n",
       "      <td>3067.0</td>\n",
       "      <td>2.0</td>\n",
       "      <td>1.0</td>\n",
       "      <td>1.0</td>\n",
       "      <td>126.000000</td>\n",
       "      <td>120.0</td>\n",
       "      <td>1870.0</td>\n",
       "      <td>4019.0</td>\n",
       "    </tr>\n",
       "    <tr>\n",
       "      <th>1</th>\n",
       "      <td>3</td>\n",
       "      <td>13.5</td>\n",
       "      <td>3042.0</td>\n",
       "      <td>3.0</td>\n",
       "      <td>2.0</td>\n",
       "      <td>1.0</td>\n",
       "      <td>303.000000</td>\n",
       "      <td>225.0</td>\n",
       "      <td>2016.0</td>\n",
       "      <td>3464.0</td>\n",
       "    </tr>\n",
       "    <tr>\n",
       "      <th>2</th>\n",
       "      <td>2</td>\n",
       "      <td>3.3</td>\n",
       "      <td>3206.0</td>\n",
       "      <td>2.0</td>\n",
       "      <td>1.0</td>\n",
       "      <td>0.0</td>\n",
       "      <td>120.000000</td>\n",
       "      <td>82.0</td>\n",
       "      <td>1900.0</td>\n",
       "      <td>3280.0</td>\n",
       "    </tr>\n",
       "    <tr>\n",
       "      <th>3</th>\n",
       "      <td>2</td>\n",
       "      <td>3.3</td>\n",
       "      <td>3206.0</td>\n",
       "      <td>2.0</td>\n",
       "      <td>1.0</td>\n",
       "      <td>0.0</td>\n",
       "      <td>159.000000</td>\n",
       "      <td>120.0</td>\n",
       "      <td>1870.0</td>\n",
       "      <td>3280.0</td>\n",
       "    </tr>\n",
       "    <tr>\n",
       "      <th>4</th>\n",
       "      <td>3</td>\n",
       "      <td>6.4</td>\n",
       "      <td>3078.0</td>\n",
       "      <td>3.0</td>\n",
       "      <td>2.0</td>\n",
       "      <td>1.0</td>\n",
       "      <td>174.000000</td>\n",
       "      <td>122.0</td>\n",
       "      <td>2003.0</td>\n",
       "      <td>2211.0</td>\n",
       "    </tr>\n",
       "    <tr>\n",
       "      <th>...</th>\n",
       "      <td>...</td>\n",
       "      <td>...</td>\n",
       "      <td>...</td>\n",
       "      <td>...</td>\n",
       "      <td>...</td>\n",
       "      <td>...</td>\n",
       "      <td>...</td>\n",
       "      <td>...</td>\n",
       "      <td>...</td>\n",
       "      <td>...</td>\n",
       "    </tr>\n",
       "    <tr>\n",
       "      <th>34852</th>\n",
       "      <td>3</td>\n",
       "      <td>12.0</td>\n",
       "      <td>3073.0</td>\n",
       "      <td>3.0</td>\n",
       "      <td>1.0</td>\n",
       "      <td>1.0</td>\n",
       "      <td>593.598993</td>\n",
       "      <td>105.0</td>\n",
       "      <td>1990.0</td>\n",
       "      <td>21650.0</td>\n",
       "    </tr>\n",
       "    <tr>\n",
       "      <th>34853</th>\n",
       "      <td>4</td>\n",
       "      <td>20.6</td>\n",
       "      <td>3064.0</td>\n",
       "      <td>4.0</td>\n",
       "      <td>2.0</td>\n",
       "      <td>2.0</td>\n",
       "      <td>593.598993</td>\n",
       "      <td>225.0</td>\n",
       "      <td>1995.0</td>\n",
       "      <td>5833.0</td>\n",
       "    </tr>\n",
       "    <tr>\n",
       "      <th>34854</th>\n",
       "      <td>4</td>\n",
       "      <td>22.2</td>\n",
       "      <td>3172.0</td>\n",
       "      <td>4.0</td>\n",
       "      <td>2.0</td>\n",
       "      <td>2.0</td>\n",
       "      <td>534.000000</td>\n",
       "      <td>152.0</td>\n",
       "      <td>1970.0</td>\n",
       "      <td>4054.0</td>\n",
       "    </tr>\n",
       "    <tr>\n",
       "      <th>34855</th>\n",
       "      <td>3</td>\n",
       "      <td>22.2</td>\n",
       "      <td>3172.0</td>\n",
       "      <td>3.0</td>\n",
       "      <td>2.0</td>\n",
       "      <td>1.0</td>\n",
       "      <td>544.000000</td>\n",
       "      <td>110.0</td>\n",
       "      <td>1870.0</td>\n",
       "      <td>4054.0</td>\n",
       "    </tr>\n",
       "    <tr>\n",
       "      <th>34856</th>\n",
       "      <td>4</td>\n",
       "      <td>16.5</td>\n",
       "      <td>3049.0</td>\n",
       "      <td>4.0</td>\n",
       "      <td>2.0</td>\n",
       "      <td>6.0</td>\n",
       "      <td>813.000000</td>\n",
       "      <td>140.0</td>\n",
       "      <td>1960.0</td>\n",
       "      <td>2474.0</td>\n",
       "    </tr>\n",
       "  </tbody>\n",
       "</table>\n",
       "<p>34857 rows × 10 columns</p>\n",
       "</div>"
      ],
      "text/plain": [
       "       Rooms  Distance  Postcode  Bedroom  Bathroom  Car    Landsize  \\\n",
       "0          2       2.5    3067.0      2.0       1.0  1.0  126.000000   \n",
       "1          3      13.5    3042.0      3.0       2.0  1.0  303.000000   \n",
       "2          2       3.3    3206.0      2.0       1.0  0.0  120.000000   \n",
       "3          2       3.3    3206.0      2.0       1.0  0.0  159.000000   \n",
       "4          3       6.4    3078.0      3.0       2.0  1.0  174.000000   \n",
       "...      ...       ...       ...      ...       ...  ...         ...   \n",
       "34852      3      12.0    3073.0      3.0       1.0  1.0  593.598993   \n",
       "34853      4      20.6    3064.0      4.0       2.0  2.0  593.598993   \n",
       "34854      4      22.2    3172.0      4.0       2.0  2.0  534.000000   \n",
       "34855      3      22.2    3172.0      3.0       2.0  1.0  544.000000   \n",
       "34856      4      16.5    3049.0      4.0       2.0  6.0  813.000000   \n",
       "\n",
       "       BuildingArea  YearBuilt  Propertycount  \n",
       "0             120.0     1870.0         4019.0  \n",
       "1             225.0     2016.0         3464.0  \n",
       "2              82.0     1900.0         3280.0  \n",
       "3             120.0     1870.0         3280.0  \n",
       "4             122.0     2003.0         2211.0  \n",
       "...             ...        ...            ...  \n",
       "34852         105.0     1990.0        21650.0  \n",
       "34853         225.0     1995.0         5833.0  \n",
       "34854         152.0     1970.0         4054.0  \n",
       "34855         110.0     1870.0         4054.0  \n",
       "34856         140.0     1960.0         2474.0  \n",
       "\n",
       "[34857 rows x 10 columns]"
      ]
     },
     "execution_count": 90,
     "metadata": {},
     "output_type": "execute_result"
    }
   ],
   "source": [
    "x"
   ]
  },
  {
   "cell_type": "code",
   "execution_count": 91,
   "id": "69ab6389-ea43-43a8-b898-083402498e44",
   "metadata": {},
   "outputs": [
    {
     "data": {
      "text/plain": [
       "0        1.050173e+06\n",
       "1        8.400000e+05\n",
       "2        1.275000e+06\n",
       "3        1.455000e+06\n",
       "4        1.050173e+06\n",
       "             ...     \n",
       "34852    4.750000e+05\n",
       "34853    5.910000e+05\n",
       "34854    1.050173e+06\n",
       "34855    7.805000e+05\n",
       "34856    7.910000e+05\n",
       "Name: Price, Length: 34857, dtype: float64"
      ]
     },
     "execution_count": 91,
     "metadata": {},
     "output_type": "execute_result"
    }
   ],
   "source": [
    "y"
   ]
  },
  {
   "cell_type": "code",
   "execution_count": 92,
   "id": "9b0fdcb2-36b3-415f-ab6c-fb5eeefcd7e2",
   "metadata": {},
   "outputs": [],
   "source": [
    "#Linear Regression"
   ]
  },
  {
   "cell_type": "code",
   "execution_count": 93,
   "id": "8a23a088-827b-44c0-b47f-619cdb1537b0",
   "metadata": {},
   "outputs": [],
   "source": [
    "x_train,x_test,y_train,y_test = train_test_split(x,y, test_size=0.4, random_state=50)"
   ]
  },
  {
   "cell_type": "code",
   "execution_count": 94,
   "id": "7cda5d6c-7b00-4220-93ae-e483b4751898",
   "metadata": {
    "scrolled": true
   },
   "outputs": [
    {
     "data": {
      "text/html": [
       "<style>#sk-container-id-1 {color: black;background-color: white;}#sk-container-id-1 pre{padding: 0;}#sk-container-id-1 div.sk-toggleable {background-color: white;}#sk-container-id-1 label.sk-toggleable__label {cursor: pointer;display: block;width: 100%;margin-bottom: 0;padding: 0.3em;box-sizing: border-box;text-align: center;}#sk-container-id-1 label.sk-toggleable__label-arrow:before {content: \"▸\";float: left;margin-right: 0.25em;color: #696969;}#sk-container-id-1 label.sk-toggleable__label-arrow:hover:before {color: black;}#sk-container-id-1 div.sk-estimator:hover label.sk-toggleable__label-arrow:before {color: black;}#sk-container-id-1 div.sk-toggleable__content {max-height: 0;max-width: 0;overflow: hidden;text-align: left;background-color: #f0f8ff;}#sk-container-id-1 div.sk-toggleable__content pre {margin: 0.2em;color: black;border-radius: 0.25em;background-color: #f0f8ff;}#sk-container-id-1 input.sk-toggleable__control:checked~div.sk-toggleable__content {max-height: 200px;max-width: 100%;overflow: auto;}#sk-container-id-1 input.sk-toggleable__control:checked~label.sk-toggleable__label-arrow:before {content: \"▾\";}#sk-container-id-1 div.sk-estimator input.sk-toggleable__control:checked~label.sk-toggleable__label {background-color: #d4ebff;}#sk-container-id-1 div.sk-label input.sk-toggleable__control:checked~label.sk-toggleable__label {background-color: #d4ebff;}#sk-container-id-1 input.sk-hidden--visually {border: 0;clip: rect(1px 1px 1px 1px);clip: rect(1px, 1px, 1px, 1px);height: 1px;margin: -1px;overflow: hidden;padding: 0;position: absolute;width: 1px;}#sk-container-id-1 div.sk-estimator {font-family: monospace;background-color: #f0f8ff;border: 1px dotted black;border-radius: 0.25em;box-sizing: border-box;margin-bottom: 0.5em;}#sk-container-id-1 div.sk-estimator:hover {background-color: #d4ebff;}#sk-container-id-1 div.sk-parallel-item::after {content: \"\";width: 100%;border-bottom: 1px solid gray;flex-grow: 1;}#sk-container-id-1 div.sk-label:hover label.sk-toggleable__label {background-color: #d4ebff;}#sk-container-id-1 div.sk-serial::before {content: \"\";position: absolute;border-left: 1px solid gray;box-sizing: border-box;top: 0;bottom: 0;left: 50%;z-index: 0;}#sk-container-id-1 div.sk-serial {display: flex;flex-direction: column;align-items: center;background-color: white;padding-right: 0.2em;padding-left: 0.2em;position: relative;}#sk-container-id-1 div.sk-item {position: relative;z-index: 1;}#sk-container-id-1 div.sk-parallel {display: flex;align-items: stretch;justify-content: center;background-color: white;position: relative;}#sk-container-id-1 div.sk-item::before, #sk-container-id-1 div.sk-parallel-item::before {content: \"\";position: absolute;border-left: 1px solid gray;box-sizing: border-box;top: 0;bottom: 0;left: 50%;z-index: -1;}#sk-container-id-1 div.sk-parallel-item {display: flex;flex-direction: column;z-index: 1;position: relative;background-color: white;}#sk-container-id-1 div.sk-parallel-item:first-child::after {align-self: flex-end;width: 50%;}#sk-container-id-1 div.sk-parallel-item:last-child::after {align-self: flex-start;width: 50%;}#sk-container-id-1 div.sk-parallel-item:only-child::after {width: 0;}#sk-container-id-1 div.sk-dashed-wrapped {border: 1px dashed gray;margin: 0 0.4em 0.5em 0.4em;box-sizing: border-box;padding-bottom: 0.4em;background-color: white;}#sk-container-id-1 div.sk-label label {font-family: monospace;font-weight: bold;display: inline-block;line-height: 1.2em;}#sk-container-id-1 div.sk-label-container {text-align: center;}#sk-container-id-1 div.sk-container {/* jupyter's `normalize.less` sets `[hidden] { display: none; }` but bootstrap.min.css set `[hidden] { display: none !important; }` so we also need the `!important` here to be able to override the default hidden behavior on the sphinx rendered scikit-learn.org. See: https://github.com/scikit-learn/scikit-learn/issues/21755 */display: inline-block !important;position: relative;}#sk-container-id-1 div.sk-text-repr-fallback {display: none;}</style><div id=\"sk-container-id-1\" class=\"sk-top-container\"><div class=\"sk-text-repr-fallback\"><pre>LinearRegression()</pre><b>In a Jupyter environment, please rerun this cell to show the HTML representation or trust the notebook. <br />On GitHub, the HTML representation is unable to render, please try loading this page with nbviewer.org.</b></div><div class=\"sk-container\" hidden><div class=\"sk-item\"><div class=\"sk-estimator sk-toggleable\"><input class=\"sk-toggleable__control sk-hidden--visually\" id=\"sk-estimator-id-1\" type=\"checkbox\" checked><label for=\"sk-estimator-id-1\" class=\"sk-toggleable__label sk-toggleable__label-arrow\">LinearRegression</label><div class=\"sk-toggleable__content\"><pre>LinearRegression()</pre></div></div></div></div></div>"
      ],
      "text/plain": [
       "LinearRegression()"
      ]
     },
     "execution_count": 94,
     "metadata": {},
     "output_type": "execute_result"
    }
   ],
   "source": [
    "lin_mod = LinearRegression()\n",
    "lin_mod.fit(x_train,y_train)"
   ]
  },
  {
   "cell_type": "code",
   "execution_count": 95,
   "id": "f98ecafa-acf0-4e9a-af13-c490cede753f",
   "metadata": {},
   "outputs": [],
   "source": [
    "#Testing Data Evolution"
   ]
  },
  {
   "cell_type": "code",
   "execution_count": 96,
   "id": "b0293dc8-4561-446c-b408-f2385677c3c7",
   "metadata": {},
   "outputs": [
    {
     "name": "stdout",
     "output_type": "stream",
     "text": [
      "Mean Squared error is : 216044429276.17334\n",
      "Mean Absolute error is: 464805.79737797304\n",
      "The r2 score is: 0.3234697640378341\n"
     ]
    }
   ],
   "source": [
    "y_pred_train = lin_mod.predict(x_train)\n",
    "\n",
    "mse = mean_squared_error(y_train, y_pred_train)\n",
    "print(\"Mean Squared error is :\", mse)\n",
    "\n",
    "mae = np.sqrt(mse)\n",
    "print(\"Mean Absolute error is:\", mae)\n",
    "\n",
    "r2score = r2_score(y_train,y_pred_train)\n",
    "print(\"The r2 score is:\", r2score)"
   ]
  },
  {
   "cell_type": "code",
   "execution_count": null,
   "id": "959c16ed-dbf3-4636-a3fd-8c758852d83b",
   "metadata": {},
   "outputs": [],
   "source": [
    "#Training Data Evolution"
   ]
  },
  {
   "cell_type": "code",
   "execution_count": 97,
   "id": "00d8785a-4f1f-4d2a-83f3-a2c1dc6b35b6",
   "metadata": {},
   "outputs": [
    {
     "name": "stdout",
     "output_type": "stream",
     "text": [
      "Mean Squared error is : 248024680168.31238\n",
      "Mean Absolute error is: 498020.76278837246\n",
      "The r2 score is: 0.23683066565001687\n"
     ]
    }
   ],
   "source": [
    "y_pred = lin_mod.predict(x_test)\n",
    "\n",
    "mse = mean_squared_error(y_test, y_pred)\n",
    "print(\"Mean Squared error is :\", mse)\n",
    "\n",
    "mae = np.sqrt(mse)\n",
    "print(\"Mean Absolute error is:\", mae)\n",
    "\n",
    "r2score = r2_score(y_test,y_pred)\n",
    "print(\"The r2 score is:\", r2score)"
   ]
  },
  {
   "cell_type": "code",
   "execution_count": 98,
   "id": "6374fbd6-400e-487e-b7b5-dede49a57456",
   "metadata": {},
   "outputs": [],
   "source": [
    "#Decision Tree"
   ]
  },
  {
   "cell_type": "code",
   "execution_count": 99,
   "id": "0d7d34e9-02b1-4818-a49d-cdb42c99c1ec",
   "metadata": {},
   "outputs": [],
   "source": [
    "dt_mod = DecisionTreeRegressor()"
   ]
  },
  {
   "cell_type": "code",
   "execution_count": 100,
   "id": "3be4719f-502c-4388-aff2-e12b2fdb2de3",
   "metadata": {},
   "outputs": [
    {
     "data": {
      "text/html": [
       "<style>#sk-container-id-2 {color: black;background-color: white;}#sk-container-id-2 pre{padding: 0;}#sk-container-id-2 div.sk-toggleable {background-color: white;}#sk-container-id-2 label.sk-toggleable__label {cursor: pointer;display: block;width: 100%;margin-bottom: 0;padding: 0.3em;box-sizing: border-box;text-align: center;}#sk-container-id-2 label.sk-toggleable__label-arrow:before {content: \"▸\";float: left;margin-right: 0.25em;color: #696969;}#sk-container-id-2 label.sk-toggleable__label-arrow:hover:before {color: black;}#sk-container-id-2 div.sk-estimator:hover label.sk-toggleable__label-arrow:before {color: black;}#sk-container-id-2 div.sk-toggleable__content {max-height: 0;max-width: 0;overflow: hidden;text-align: left;background-color: #f0f8ff;}#sk-container-id-2 div.sk-toggleable__content pre {margin: 0.2em;color: black;border-radius: 0.25em;background-color: #f0f8ff;}#sk-container-id-2 input.sk-toggleable__control:checked~div.sk-toggleable__content {max-height: 200px;max-width: 100%;overflow: auto;}#sk-container-id-2 input.sk-toggleable__control:checked~label.sk-toggleable__label-arrow:before {content: \"▾\";}#sk-container-id-2 div.sk-estimator input.sk-toggleable__control:checked~label.sk-toggleable__label {background-color: #d4ebff;}#sk-container-id-2 div.sk-label input.sk-toggleable__control:checked~label.sk-toggleable__label {background-color: #d4ebff;}#sk-container-id-2 input.sk-hidden--visually {border: 0;clip: rect(1px 1px 1px 1px);clip: rect(1px, 1px, 1px, 1px);height: 1px;margin: -1px;overflow: hidden;padding: 0;position: absolute;width: 1px;}#sk-container-id-2 div.sk-estimator {font-family: monospace;background-color: #f0f8ff;border: 1px dotted black;border-radius: 0.25em;box-sizing: border-box;margin-bottom: 0.5em;}#sk-container-id-2 div.sk-estimator:hover {background-color: #d4ebff;}#sk-container-id-2 div.sk-parallel-item::after {content: \"\";width: 100%;border-bottom: 1px solid gray;flex-grow: 1;}#sk-container-id-2 div.sk-label:hover label.sk-toggleable__label {background-color: #d4ebff;}#sk-container-id-2 div.sk-serial::before {content: \"\";position: absolute;border-left: 1px solid gray;box-sizing: border-box;top: 0;bottom: 0;left: 50%;z-index: 0;}#sk-container-id-2 div.sk-serial {display: flex;flex-direction: column;align-items: center;background-color: white;padding-right: 0.2em;padding-left: 0.2em;position: relative;}#sk-container-id-2 div.sk-item {position: relative;z-index: 1;}#sk-container-id-2 div.sk-parallel {display: flex;align-items: stretch;justify-content: center;background-color: white;position: relative;}#sk-container-id-2 div.sk-item::before, #sk-container-id-2 div.sk-parallel-item::before {content: \"\";position: absolute;border-left: 1px solid gray;box-sizing: border-box;top: 0;bottom: 0;left: 50%;z-index: -1;}#sk-container-id-2 div.sk-parallel-item {display: flex;flex-direction: column;z-index: 1;position: relative;background-color: white;}#sk-container-id-2 div.sk-parallel-item:first-child::after {align-self: flex-end;width: 50%;}#sk-container-id-2 div.sk-parallel-item:last-child::after {align-self: flex-start;width: 50%;}#sk-container-id-2 div.sk-parallel-item:only-child::after {width: 0;}#sk-container-id-2 div.sk-dashed-wrapped {border: 1px dashed gray;margin: 0 0.4em 0.5em 0.4em;box-sizing: border-box;padding-bottom: 0.4em;background-color: white;}#sk-container-id-2 div.sk-label label {font-family: monospace;font-weight: bold;display: inline-block;line-height: 1.2em;}#sk-container-id-2 div.sk-label-container {text-align: center;}#sk-container-id-2 div.sk-container {/* jupyter's `normalize.less` sets `[hidden] { display: none; }` but bootstrap.min.css set `[hidden] { display: none !important; }` so we also need the `!important` here to be able to override the default hidden behavior on the sphinx rendered scikit-learn.org. See: https://github.com/scikit-learn/scikit-learn/issues/21755 */display: inline-block !important;position: relative;}#sk-container-id-2 div.sk-text-repr-fallback {display: none;}</style><div id=\"sk-container-id-2\" class=\"sk-top-container\"><div class=\"sk-text-repr-fallback\"><pre>DecisionTreeRegressor()</pre><b>In a Jupyter environment, please rerun this cell to show the HTML representation or trust the notebook. <br />On GitHub, the HTML representation is unable to render, please try loading this page with nbviewer.org.</b></div><div class=\"sk-container\" hidden><div class=\"sk-item\"><div class=\"sk-estimator sk-toggleable\"><input class=\"sk-toggleable__control sk-hidden--visually\" id=\"sk-estimator-id-2\" type=\"checkbox\" checked><label for=\"sk-estimator-id-2\" class=\"sk-toggleable__label sk-toggleable__label-arrow\">DecisionTreeRegressor</label><div class=\"sk-toggleable__content\"><pre>DecisionTreeRegressor()</pre></div></div></div></div></div>"
      ],
      "text/plain": [
       "DecisionTreeRegressor()"
      ]
     },
     "execution_count": 100,
     "metadata": {},
     "output_type": "execute_result"
    }
   ],
   "source": [
    "dt_mod.fit(x_train,y_train)"
   ]
  },
  {
   "cell_type": "code",
   "execution_count": 101,
   "id": "1064e1f8-6d79-4df5-8a65-265d5a55cc26",
   "metadata": {},
   "outputs": [],
   "source": [
    "#Testing Data Evolution"
   ]
  },
  {
   "cell_type": "code",
   "execution_count": 102,
   "id": "7a8ffe94-8041-4c9a-b837-2189cdab9d11",
   "metadata": {},
   "outputs": [
    {
     "name": "stdout",
     "output_type": "stream",
     "text": [
      "Mean Squared error is : 302902033118.8805\n",
      "Mean Absolute error is: 550365.3632986732\n",
      "The r2 score is: 0.06797362733530787\n"
     ]
    }
   ],
   "source": [
    "y_pred = dt_mod.predict(x_test)\n",
    "\n",
    "mse = mean_squared_error(y_test, y_pred)\n",
    "print(\"Mean Squared error is :\", mse)\n",
    "\n",
    "mae = np.sqrt(mse)\n",
    "print(\"Mean Absolute error is:\", mae)\n",
    "\n",
    "r2score = r2_score(y_test,y_pred)\n",
    "print(\"The r2 score is:\", r2score)\n"
   ]
  },
  {
   "cell_type": "code",
   "execution_count": null,
   "id": "e4b2dc34-262e-4130-b991-d970f244c7fe",
   "metadata": {},
   "outputs": [],
   "source": [
    "#Training Data Evolution"
   ]
  },
  {
   "cell_type": "code",
   "execution_count": 103,
   "id": "d936cbf1-bade-452b-b524-e9d35e74bb02",
   "metadata": {},
   "outputs": [
    {
     "name": "stdout",
     "output_type": "stream",
     "text": [
      "Mean Squared error is : 26098351062.256687\n",
      "Mean Absolute error is: 161549.8407992304\n",
      "The r2 score is: 0.9182745712929188\n"
     ]
    }
   ],
   "source": [
    "y_pred_train = dt_mod.predict(x_train)\n",
    "\n",
    "mse = mean_squared_error(y_train, y_pred_train)\n",
    "print(\"Mean Squared error is :\", mse)\n",
    "\n",
    "mae = np.sqrt(mse)\n",
    "print(\"Mean Absolute error is:\", mae)\n",
    "\n",
    "r2score = r2_score(y_train,y_pred_train)\n",
    "print(\"The r2 score is:\", r2score)\n"
   ]
  },
  {
   "cell_type": "code",
   "execution_count": 104,
   "id": "b29ce048-c194-43cb-b72a-732def3fbe38",
   "metadata": {},
   "outputs": [],
   "source": [
    "hyp = {'criterion' : ['mse','friedman_mse','mae'],\n",
    "      'max_depth' : np.arange(5,20),\n",
    "      'min_samples_split': np.arange(5,10),\n",
    "      'min_samples_leaf': np.arange(3,10)}"
   ]
  },
  {
   "cell_type": "code",
   "execution_count": 105,
   "id": "cfb366b0-9b65-4b5f-9770-87331208435b",
   "metadata": {},
   "outputs": [
    {
     "data": {
      "text/html": [
       "<style>#sk-container-id-3 {color: black;background-color: white;}#sk-container-id-3 pre{padding: 0;}#sk-container-id-3 div.sk-toggleable {background-color: white;}#sk-container-id-3 label.sk-toggleable__label {cursor: pointer;display: block;width: 100%;margin-bottom: 0;padding: 0.3em;box-sizing: border-box;text-align: center;}#sk-container-id-3 label.sk-toggleable__label-arrow:before {content: \"▸\";float: left;margin-right: 0.25em;color: #696969;}#sk-container-id-3 label.sk-toggleable__label-arrow:hover:before {color: black;}#sk-container-id-3 div.sk-estimator:hover label.sk-toggleable__label-arrow:before {color: black;}#sk-container-id-3 div.sk-toggleable__content {max-height: 0;max-width: 0;overflow: hidden;text-align: left;background-color: #f0f8ff;}#sk-container-id-3 div.sk-toggleable__content pre {margin: 0.2em;color: black;border-radius: 0.25em;background-color: #f0f8ff;}#sk-container-id-3 input.sk-toggleable__control:checked~div.sk-toggleable__content {max-height: 200px;max-width: 100%;overflow: auto;}#sk-container-id-3 input.sk-toggleable__control:checked~label.sk-toggleable__label-arrow:before {content: \"▾\";}#sk-container-id-3 div.sk-estimator input.sk-toggleable__control:checked~label.sk-toggleable__label {background-color: #d4ebff;}#sk-container-id-3 div.sk-label input.sk-toggleable__control:checked~label.sk-toggleable__label {background-color: #d4ebff;}#sk-container-id-3 input.sk-hidden--visually {border: 0;clip: rect(1px 1px 1px 1px);clip: rect(1px, 1px, 1px, 1px);height: 1px;margin: -1px;overflow: hidden;padding: 0;position: absolute;width: 1px;}#sk-container-id-3 div.sk-estimator {font-family: monospace;background-color: #f0f8ff;border: 1px dotted black;border-radius: 0.25em;box-sizing: border-box;margin-bottom: 0.5em;}#sk-container-id-3 div.sk-estimator:hover {background-color: #d4ebff;}#sk-container-id-3 div.sk-parallel-item::after {content: \"\";width: 100%;border-bottom: 1px solid gray;flex-grow: 1;}#sk-container-id-3 div.sk-label:hover label.sk-toggleable__label {background-color: #d4ebff;}#sk-container-id-3 div.sk-serial::before {content: \"\";position: absolute;border-left: 1px solid gray;box-sizing: border-box;top: 0;bottom: 0;left: 50%;z-index: 0;}#sk-container-id-3 div.sk-serial {display: flex;flex-direction: column;align-items: center;background-color: white;padding-right: 0.2em;padding-left: 0.2em;position: relative;}#sk-container-id-3 div.sk-item {position: relative;z-index: 1;}#sk-container-id-3 div.sk-parallel {display: flex;align-items: stretch;justify-content: center;background-color: white;position: relative;}#sk-container-id-3 div.sk-item::before, #sk-container-id-3 div.sk-parallel-item::before {content: \"\";position: absolute;border-left: 1px solid gray;box-sizing: border-box;top: 0;bottom: 0;left: 50%;z-index: -1;}#sk-container-id-3 div.sk-parallel-item {display: flex;flex-direction: column;z-index: 1;position: relative;background-color: white;}#sk-container-id-3 div.sk-parallel-item:first-child::after {align-self: flex-end;width: 50%;}#sk-container-id-3 div.sk-parallel-item:last-child::after {align-self: flex-start;width: 50%;}#sk-container-id-3 div.sk-parallel-item:only-child::after {width: 0;}#sk-container-id-3 div.sk-dashed-wrapped {border: 1px dashed gray;margin: 0 0.4em 0.5em 0.4em;box-sizing: border-box;padding-bottom: 0.4em;background-color: white;}#sk-container-id-3 div.sk-label label {font-family: monospace;font-weight: bold;display: inline-block;line-height: 1.2em;}#sk-container-id-3 div.sk-label-container {text-align: center;}#sk-container-id-3 div.sk-container {/* jupyter's `normalize.less` sets `[hidden] { display: none; }` but bootstrap.min.css set `[hidden] { display: none !important; }` so we also need the `!important` here to be able to override the default hidden behavior on the sphinx rendered scikit-learn.org. See: https://github.com/scikit-learn/scikit-learn/issues/21755 */display: inline-block !important;position: relative;}#sk-container-id-3 div.sk-text-repr-fallback {display: none;}</style><div id=\"sk-container-id-3\" class=\"sk-top-container\"><div class=\"sk-text-repr-fallback\"><pre>GridSearchCV(cv=7, estimator=DecisionTreeRegressor(),\n",
       "             param_grid={&#x27;criterion&#x27;: [&#x27;mse&#x27;, &#x27;friedman_mse&#x27;, &#x27;mae&#x27;],\n",
       "                         &#x27;max_depth&#x27;: array([ 5,  6,  7,  8,  9, 10, 11, 12, 13, 14, 15, 16, 17, 18, 19]),\n",
       "                         &#x27;min_samples_leaf&#x27;: array([3, 4, 5, 6, 7, 8, 9]),\n",
       "                         &#x27;min_samples_split&#x27;: array([5, 6, 7, 8, 9])})</pre><b>In a Jupyter environment, please rerun this cell to show the HTML representation or trust the notebook. <br />On GitHub, the HTML representation is unable to render, please try loading this page with nbviewer.org.</b></div><div class=\"sk-container\" hidden><div class=\"sk-item sk-dashed-wrapped\"><div class=\"sk-label-container\"><div class=\"sk-label sk-toggleable\"><input class=\"sk-toggleable__control sk-hidden--visually\" id=\"sk-estimator-id-3\" type=\"checkbox\" ><label for=\"sk-estimator-id-3\" class=\"sk-toggleable__label sk-toggleable__label-arrow\">GridSearchCV</label><div class=\"sk-toggleable__content\"><pre>GridSearchCV(cv=7, estimator=DecisionTreeRegressor(),\n",
       "             param_grid={&#x27;criterion&#x27;: [&#x27;mse&#x27;, &#x27;friedman_mse&#x27;, &#x27;mae&#x27;],\n",
       "                         &#x27;max_depth&#x27;: array([ 5,  6,  7,  8,  9, 10, 11, 12, 13, 14, 15, 16, 17, 18, 19]),\n",
       "                         &#x27;min_samples_leaf&#x27;: array([3, 4, 5, 6, 7, 8, 9]),\n",
       "                         &#x27;min_samples_split&#x27;: array([5, 6, 7, 8, 9])})</pre></div></div></div><div class=\"sk-parallel\"><div class=\"sk-parallel-item\"><div class=\"sk-item\"><div class=\"sk-label-container\"><div class=\"sk-label sk-toggleable\"><input class=\"sk-toggleable__control sk-hidden--visually\" id=\"sk-estimator-id-4\" type=\"checkbox\" ><label for=\"sk-estimator-id-4\" class=\"sk-toggleable__label sk-toggleable__label-arrow\">estimator: DecisionTreeRegressor</label><div class=\"sk-toggleable__content\"><pre>DecisionTreeRegressor()</pre></div></div></div><div class=\"sk-serial\"><div class=\"sk-item\"><div class=\"sk-estimator sk-toggleable\"><input class=\"sk-toggleable__control sk-hidden--visually\" id=\"sk-estimator-id-5\" type=\"checkbox\" ><label for=\"sk-estimator-id-5\" class=\"sk-toggleable__label sk-toggleable__label-arrow\">DecisionTreeRegressor</label><div class=\"sk-toggleable__content\"><pre>DecisionTreeRegressor()</pre></div></div></div></div></div></div></div></div></div></div>"
      ],
      "text/plain": [
       "GridSearchCV(cv=7, estimator=DecisionTreeRegressor(),\n",
       "             param_grid={'criterion': ['mse', 'friedman_mse', 'mae'],\n",
       "                         'max_depth': array([ 5,  6,  7,  8,  9, 10, 11, 12, 13, 14, 15, 16, 17, 18, 19]),\n",
       "                         'min_samples_leaf': array([3, 4, 5, 6, 7, 8, 9]),\n",
       "                         'min_samples_split': array([5, 6, 7, 8, 9])})"
      ]
     },
     "execution_count": 105,
     "metadata": {},
     "output_type": "execute_result"
    }
   ],
   "source": [
    "dt_mod = DecisionTreeRegressor()\n",
    "gscv_dt_mod = GridSearchCV(dt_mod, hyp, cv = 7)\n",
    "gscv_dt_mod.fit(x_train,y_train)"
   ]
  },
  {
   "cell_type": "code",
   "execution_count": 106,
   "id": "9b70a9b4-8e04-4b80-b6c9-d5da151e5ae8",
   "metadata": {},
   "outputs": [
    {
     "data": {
      "text/html": [
       "<style>#sk-container-id-4 {color: black;background-color: white;}#sk-container-id-4 pre{padding: 0;}#sk-container-id-4 div.sk-toggleable {background-color: white;}#sk-container-id-4 label.sk-toggleable__label {cursor: pointer;display: block;width: 100%;margin-bottom: 0;padding: 0.3em;box-sizing: border-box;text-align: center;}#sk-container-id-4 label.sk-toggleable__label-arrow:before {content: \"▸\";float: left;margin-right: 0.25em;color: #696969;}#sk-container-id-4 label.sk-toggleable__label-arrow:hover:before {color: black;}#sk-container-id-4 div.sk-estimator:hover label.sk-toggleable__label-arrow:before {color: black;}#sk-container-id-4 div.sk-toggleable__content {max-height: 0;max-width: 0;overflow: hidden;text-align: left;background-color: #f0f8ff;}#sk-container-id-4 div.sk-toggleable__content pre {margin: 0.2em;color: black;border-radius: 0.25em;background-color: #f0f8ff;}#sk-container-id-4 input.sk-toggleable__control:checked~div.sk-toggleable__content {max-height: 200px;max-width: 100%;overflow: auto;}#sk-container-id-4 input.sk-toggleable__control:checked~label.sk-toggleable__label-arrow:before {content: \"▾\";}#sk-container-id-4 div.sk-estimator input.sk-toggleable__control:checked~label.sk-toggleable__label {background-color: #d4ebff;}#sk-container-id-4 div.sk-label input.sk-toggleable__control:checked~label.sk-toggleable__label {background-color: #d4ebff;}#sk-container-id-4 input.sk-hidden--visually {border: 0;clip: rect(1px 1px 1px 1px);clip: rect(1px, 1px, 1px, 1px);height: 1px;margin: -1px;overflow: hidden;padding: 0;position: absolute;width: 1px;}#sk-container-id-4 div.sk-estimator {font-family: monospace;background-color: #f0f8ff;border: 1px dotted black;border-radius: 0.25em;box-sizing: border-box;margin-bottom: 0.5em;}#sk-container-id-4 div.sk-estimator:hover {background-color: #d4ebff;}#sk-container-id-4 div.sk-parallel-item::after {content: \"\";width: 100%;border-bottom: 1px solid gray;flex-grow: 1;}#sk-container-id-4 div.sk-label:hover label.sk-toggleable__label {background-color: #d4ebff;}#sk-container-id-4 div.sk-serial::before {content: \"\";position: absolute;border-left: 1px solid gray;box-sizing: border-box;top: 0;bottom: 0;left: 50%;z-index: 0;}#sk-container-id-4 div.sk-serial {display: flex;flex-direction: column;align-items: center;background-color: white;padding-right: 0.2em;padding-left: 0.2em;position: relative;}#sk-container-id-4 div.sk-item {position: relative;z-index: 1;}#sk-container-id-4 div.sk-parallel {display: flex;align-items: stretch;justify-content: center;background-color: white;position: relative;}#sk-container-id-4 div.sk-item::before, #sk-container-id-4 div.sk-parallel-item::before {content: \"\";position: absolute;border-left: 1px solid gray;box-sizing: border-box;top: 0;bottom: 0;left: 50%;z-index: -1;}#sk-container-id-4 div.sk-parallel-item {display: flex;flex-direction: column;z-index: 1;position: relative;background-color: white;}#sk-container-id-4 div.sk-parallel-item:first-child::after {align-self: flex-end;width: 50%;}#sk-container-id-4 div.sk-parallel-item:last-child::after {align-self: flex-start;width: 50%;}#sk-container-id-4 div.sk-parallel-item:only-child::after {width: 0;}#sk-container-id-4 div.sk-dashed-wrapped {border: 1px dashed gray;margin: 0 0.4em 0.5em 0.4em;box-sizing: border-box;padding-bottom: 0.4em;background-color: white;}#sk-container-id-4 div.sk-label label {font-family: monospace;font-weight: bold;display: inline-block;line-height: 1.2em;}#sk-container-id-4 div.sk-label-container {text-align: center;}#sk-container-id-4 div.sk-container {/* jupyter's `normalize.less` sets `[hidden] { display: none; }` but bootstrap.min.css set `[hidden] { display: none !important; }` so we also need the `!important` here to be able to override the default hidden behavior on the sphinx rendered scikit-learn.org. See: https://github.com/scikit-learn/scikit-learn/issues/21755 */display: inline-block !important;position: relative;}#sk-container-id-4 div.sk-text-repr-fallback {display: none;}</style><div id=\"sk-container-id-4\" class=\"sk-top-container\"><div class=\"sk-text-repr-fallback\"><pre>DecisionTreeRegressor(criterion=&#x27;friedman_mse&#x27;, max_depth=7, min_samples_leaf=8,\n",
       "                      min_samples_split=5)</pre><b>In a Jupyter environment, please rerun this cell to show the HTML representation or trust the notebook. <br />On GitHub, the HTML representation is unable to render, please try loading this page with nbviewer.org.</b></div><div class=\"sk-container\" hidden><div class=\"sk-item\"><div class=\"sk-estimator sk-toggleable\"><input class=\"sk-toggleable__control sk-hidden--visually\" id=\"sk-estimator-id-6\" type=\"checkbox\" checked><label for=\"sk-estimator-id-6\" class=\"sk-toggleable__label sk-toggleable__label-arrow\">DecisionTreeRegressor</label><div class=\"sk-toggleable__content\"><pre>DecisionTreeRegressor(criterion=&#x27;friedman_mse&#x27;, max_depth=7, min_samples_leaf=8,\n",
       "                      min_samples_split=5)</pre></div></div></div></div></div>"
      ],
      "text/plain": [
       "DecisionTreeRegressor(criterion='friedman_mse', max_depth=7, min_samples_leaf=8,\n",
       "                      min_samples_split=5)"
      ]
     },
     "execution_count": 106,
     "metadata": {},
     "output_type": "execute_result"
    }
   ],
   "source": [
    "gscv_dt_mod.best_estimator_"
   ]
  },
  {
   "cell_type": "code",
   "execution_count": 107,
   "id": "437848d5-7428-4556-b10e-68d5fbbcd8de",
   "metadata": {},
   "outputs": [
    {
     "name": "stdout",
     "output_type": "stream",
     "text": [
      "Mean Squared error is: 186757813856.37808\n",
      "The r2 score is: 0.425348169429312\n"
     ]
    }
   ],
   "source": [
    "y_pred_new = gscv_dt_mod.predict(x_test)\n",
    "\n",
    "mse = mean_squared_error(y_test,y_pred_new)\n",
    "print(\"Mean Squared error is:\",mse)\n",
    "\n",
    "r2score = r2_score(y_test,y_pred_new)\n",
    "print(\"The r2 score is:\", r2score)"
   ]
  },
  {
   "cell_type": "code",
   "execution_count": 135,
   "id": "50fa8f38-7573-4682-ada5-fdd98fecf9cf",
   "metadata": {},
   "outputs": [],
   "source": [
    "#K-NearestNeighbour KNN"
   ]
  },
  {
   "cell_type": "code",
   "execution_count": 109,
   "id": "85d46a58-c756-4146-b18b-081aaa0203a4",
   "metadata": {},
   "outputs": [
    {
     "data": {
      "text/html": [
       "<style>#sk-container-id-5 {color: black;background-color: white;}#sk-container-id-5 pre{padding: 0;}#sk-container-id-5 div.sk-toggleable {background-color: white;}#sk-container-id-5 label.sk-toggleable__label {cursor: pointer;display: block;width: 100%;margin-bottom: 0;padding: 0.3em;box-sizing: border-box;text-align: center;}#sk-container-id-5 label.sk-toggleable__label-arrow:before {content: \"▸\";float: left;margin-right: 0.25em;color: #696969;}#sk-container-id-5 label.sk-toggleable__label-arrow:hover:before {color: black;}#sk-container-id-5 div.sk-estimator:hover label.sk-toggleable__label-arrow:before {color: black;}#sk-container-id-5 div.sk-toggleable__content {max-height: 0;max-width: 0;overflow: hidden;text-align: left;background-color: #f0f8ff;}#sk-container-id-5 div.sk-toggleable__content pre {margin: 0.2em;color: black;border-radius: 0.25em;background-color: #f0f8ff;}#sk-container-id-5 input.sk-toggleable__control:checked~div.sk-toggleable__content {max-height: 200px;max-width: 100%;overflow: auto;}#sk-container-id-5 input.sk-toggleable__control:checked~label.sk-toggleable__label-arrow:before {content: \"▾\";}#sk-container-id-5 div.sk-estimator input.sk-toggleable__control:checked~label.sk-toggleable__label {background-color: #d4ebff;}#sk-container-id-5 div.sk-label input.sk-toggleable__control:checked~label.sk-toggleable__label {background-color: #d4ebff;}#sk-container-id-5 input.sk-hidden--visually {border: 0;clip: rect(1px 1px 1px 1px);clip: rect(1px, 1px, 1px, 1px);height: 1px;margin: -1px;overflow: hidden;padding: 0;position: absolute;width: 1px;}#sk-container-id-5 div.sk-estimator {font-family: monospace;background-color: #f0f8ff;border: 1px dotted black;border-radius: 0.25em;box-sizing: border-box;margin-bottom: 0.5em;}#sk-container-id-5 div.sk-estimator:hover {background-color: #d4ebff;}#sk-container-id-5 div.sk-parallel-item::after {content: \"\";width: 100%;border-bottom: 1px solid gray;flex-grow: 1;}#sk-container-id-5 div.sk-label:hover label.sk-toggleable__label {background-color: #d4ebff;}#sk-container-id-5 div.sk-serial::before {content: \"\";position: absolute;border-left: 1px solid gray;box-sizing: border-box;top: 0;bottom: 0;left: 50%;z-index: 0;}#sk-container-id-5 div.sk-serial {display: flex;flex-direction: column;align-items: center;background-color: white;padding-right: 0.2em;padding-left: 0.2em;position: relative;}#sk-container-id-5 div.sk-item {position: relative;z-index: 1;}#sk-container-id-5 div.sk-parallel {display: flex;align-items: stretch;justify-content: center;background-color: white;position: relative;}#sk-container-id-5 div.sk-item::before, #sk-container-id-5 div.sk-parallel-item::before {content: \"\";position: absolute;border-left: 1px solid gray;box-sizing: border-box;top: 0;bottom: 0;left: 50%;z-index: -1;}#sk-container-id-5 div.sk-parallel-item {display: flex;flex-direction: column;z-index: 1;position: relative;background-color: white;}#sk-container-id-5 div.sk-parallel-item:first-child::after {align-self: flex-end;width: 50%;}#sk-container-id-5 div.sk-parallel-item:last-child::after {align-self: flex-start;width: 50%;}#sk-container-id-5 div.sk-parallel-item:only-child::after {width: 0;}#sk-container-id-5 div.sk-dashed-wrapped {border: 1px dashed gray;margin: 0 0.4em 0.5em 0.4em;box-sizing: border-box;padding-bottom: 0.4em;background-color: white;}#sk-container-id-5 div.sk-label label {font-family: monospace;font-weight: bold;display: inline-block;line-height: 1.2em;}#sk-container-id-5 div.sk-label-container {text-align: center;}#sk-container-id-5 div.sk-container {/* jupyter's `normalize.less` sets `[hidden] { display: none; }` but bootstrap.min.css set `[hidden] { display: none !important; }` so we also need the `!important` here to be able to override the default hidden behavior on the sphinx rendered scikit-learn.org. See: https://github.com/scikit-learn/scikit-learn/issues/21755 */display: inline-block !important;position: relative;}#sk-container-id-5 div.sk-text-repr-fallback {display: none;}</style><div id=\"sk-container-id-5\" class=\"sk-top-container\"><div class=\"sk-text-repr-fallback\"><pre>KNeighborsRegressor()</pre><b>In a Jupyter environment, please rerun this cell to show the HTML representation or trust the notebook. <br />On GitHub, the HTML representation is unable to render, please try loading this page with nbviewer.org.</b></div><div class=\"sk-container\" hidden><div class=\"sk-item\"><div class=\"sk-estimator sk-toggleable\"><input class=\"sk-toggleable__control sk-hidden--visually\" id=\"sk-estimator-id-7\" type=\"checkbox\" checked><label for=\"sk-estimator-id-7\" class=\"sk-toggleable__label sk-toggleable__label-arrow\">KNeighborsRegressor</label><div class=\"sk-toggleable__content\"><pre>KNeighborsRegressor()</pre></div></div></div></div></div>"
      ],
      "text/plain": [
       "KNeighborsRegressor()"
      ]
     },
     "execution_count": 109,
     "metadata": {},
     "output_type": "execute_result"
    }
   ],
   "source": [
    "knn_mod = KNeighborsRegressor()\n",
    "knn_mod.fit(x_train,y_train)"
   ]
  },
  {
   "cell_type": "code",
   "execution_count": 110,
   "id": "65766f4a-8a81-462a-a6a8-4643c7a78afd",
   "metadata": {},
   "outputs": [],
   "source": [
    "#Testing Data Evolution"
   ]
  },
  {
   "cell_type": "code",
   "execution_count": 111,
   "id": "db064940-8f64-4711-85d9-5b613a086174",
   "metadata": {},
   "outputs": [
    {
     "name": "stdout",
     "output_type": "stream",
     "text": [
      "Mean squared Error is: 221815829613.1385\n",
      "Mean Absolute error is: 470973.2790861266\n",
      "The r2 score is: 0.3174750233756142\n"
     ]
    }
   ],
   "source": [
    "y_pred = knn_mod.predict(x_test)\n",
    "\n",
    "mse = mean_squared_error(y_test,y_pred)\n",
    "print(\"Mean squared Error is:\",mse)\n",
    "\n",
    "mae = np.sqrt(mse)\n",
    "print(\"Mean Absolute error is:\", mae)\n",
    "\n",
    "r2score = r2_score(y_test,y_pred)\n",
    "print(\"The r2 score is:\", r2score)\n"
   ]
  },
  {
   "cell_type": "code",
   "execution_count": 112,
   "id": "07330ffb-7d91-4aa9-9192-f3958bb16d97",
   "metadata": {},
   "outputs": [],
   "source": [
    "#Training data analysis"
   ]
  },
  {
   "cell_type": "code",
   "execution_count": 113,
   "id": "3ea2e301-a594-416f-8ab9-b7423cd5aa58",
   "metadata": {},
   "outputs": [
    {
     "name": "stdout",
     "output_type": "stream",
     "text": [
      "Mean squared Error is: 144873047785.45547\n",
      "Mean Absolute error is: 380621.92236582417\n",
      "The r2 score is: 0.5463386974094889\n"
     ]
    }
   ],
   "source": [
    "y_pred_train = knn_mod.predict(x_train)\n",
    "\n",
    "mse = mean_squared_error(y_train,y_pred_train)\n",
    "print(\"Mean squared Error is:\",mse)\n",
    "\n",
    "mae = np.sqrt(mse)\n",
    "print(\"Mean Absolute error is:\", mae)\n",
    "\n",
    "r2score = r2_score(y_train,y_pred_train)\n",
    "print(\"The r2 score is:\", r2score)"
   ]
  },
  {
   "cell_type": "code",
   "execution_count": 114,
   "id": "f925959a-e74f-4a6d-8a83-d9f71d0235ca",
   "metadata": {},
   "outputs": [],
   "source": [
    "from sklearn.model_selection import GridSearchCV"
   ]
  },
  {
   "cell_type": "code",
   "execution_count": 115,
   "id": "02184d5f-2f43-47b4-9e91-22fda3ac2484",
   "metadata": {},
   "outputs": [
    {
     "data": {
      "text/html": [
       "<style>#sk-container-id-6 {color: black;background-color: white;}#sk-container-id-6 pre{padding: 0;}#sk-container-id-6 div.sk-toggleable {background-color: white;}#sk-container-id-6 label.sk-toggleable__label {cursor: pointer;display: block;width: 100%;margin-bottom: 0;padding: 0.3em;box-sizing: border-box;text-align: center;}#sk-container-id-6 label.sk-toggleable__label-arrow:before {content: \"▸\";float: left;margin-right: 0.25em;color: #696969;}#sk-container-id-6 label.sk-toggleable__label-arrow:hover:before {color: black;}#sk-container-id-6 div.sk-estimator:hover label.sk-toggleable__label-arrow:before {color: black;}#sk-container-id-6 div.sk-toggleable__content {max-height: 0;max-width: 0;overflow: hidden;text-align: left;background-color: #f0f8ff;}#sk-container-id-6 div.sk-toggleable__content pre {margin: 0.2em;color: black;border-radius: 0.25em;background-color: #f0f8ff;}#sk-container-id-6 input.sk-toggleable__control:checked~div.sk-toggleable__content {max-height: 200px;max-width: 100%;overflow: auto;}#sk-container-id-6 input.sk-toggleable__control:checked~label.sk-toggleable__label-arrow:before {content: \"▾\";}#sk-container-id-6 div.sk-estimator input.sk-toggleable__control:checked~label.sk-toggleable__label {background-color: #d4ebff;}#sk-container-id-6 div.sk-label input.sk-toggleable__control:checked~label.sk-toggleable__label {background-color: #d4ebff;}#sk-container-id-6 input.sk-hidden--visually {border: 0;clip: rect(1px 1px 1px 1px);clip: rect(1px, 1px, 1px, 1px);height: 1px;margin: -1px;overflow: hidden;padding: 0;position: absolute;width: 1px;}#sk-container-id-6 div.sk-estimator {font-family: monospace;background-color: #f0f8ff;border: 1px dotted black;border-radius: 0.25em;box-sizing: border-box;margin-bottom: 0.5em;}#sk-container-id-6 div.sk-estimator:hover {background-color: #d4ebff;}#sk-container-id-6 div.sk-parallel-item::after {content: \"\";width: 100%;border-bottom: 1px solid gray;flex-grow: 1;}#sk-container-id-6 div.sk-label:hover label.sk-toggleable__label {background-color: #d4ebff;}#sk-container-id-6 div.sk-serial::before {content: \"\";position: absolute;border-left: 1px solid gray;box-sizing: border-box;top: 0;bottom: 0;left: 50%;z-index: 0;}#sk-container-id-6 div.sk-serial {display: flex;flex-direction: column;align-items: center;background-color: white;padding-right: 0.2em;padding-left: 0.2em;position: relative;}#sk-container-id-6 div.sk-item {position: relative;z-index: 1;}#sk-container-id-6 div.sk-parallel {display: flex;align-items: stretch;justify-content: center;background-color: white;position: relative;}#sk-container-id-6 div.sk-item::before, #sk-container-id-6 div.sk-parallel-item::before {content: \"\";position: absolute;border-left: 1px solid gray;box-sizing: border-box;top: 0;bottom: 0;left: 50%;z-index: -1;}#sk-container-id-6 div.sk-parallel-item {display: flex;flex-direction: column;z-index: 1;position: relative;background-color: white;}#sk-container-id-6 div.sk-parallel-item:first-child::after {align-self: flex-end;width: 50%;}#sk-container-id-6 div.sk-parallel-item:last-child::after {align-self: flex-start;width: 50%;}#sk-container-id-6 div.sk-parallel-item:only-child::after {width: 0;}#sk-container-id-6 div.sk-dashed-wrapped {border: 1px dashed gray;margin: 0 0.4em 0.5em 0.4em;box-sizing: border-box;padding-bottom: 0.4em;background-color: white;}#sk-container-id-6 div.sk-label label {font-family: monospace;font-weight: bold;display: inline-block;line-height: 1.2em;}#sk-container-id-6 div.sk-label-container {text-align: center;}#sk-container-id-6 div.sk-container {/* jupyter's `normalize.less` sets `[hidden] { display: none; }` but bootstrap.min.css set `[hidden] { display: none !important; }` so we also need the `!important` here to be able to override the default hidden behavior on the sphinx rendered scikit-learn.org. See: https://github.com/scikit-learn/scikit-learn/issues/21755 */display: inline-block !important;position: relative;}#sk-container-id-6 div.sk-text-repr-fallback {display: none;}</style><div id=\"sk-container-id-6\" class=\"sk-top-container\"><div class=\"sk-text-repr-fallback\"><pre>GridSearchCV(cv=5, estimator=KNeighborsRegressor(),\n",
       "             param_grid={&#x27;n_neighbors&#x27;: array([ 5,  6,  7,  8,  9, 10, 11, 12, 13, 14, 15, 16, 17, 18, 19]),\n",
       "                         &#x27;p&#x27;: [2, 4]})</pre><b>In a Jupyter environment, please rerun this cell to show the HTML representation or trust the notebook. <br />On GitHub, the HTML representation is unable to render, please try loading this page with nbviewer.org.</b></div><div class=\"sk-container\" hidden><div class=\"sk-item sk-dashed-wrapped\"><div class=\"sk-label-container\"><div class=\"sk-label sk-toggleable\"><input class=\"sk-toggleable__control sk-hidden--visually\" id=\"sk-estimator-id-8\" type=\"checkbox\" ><label for=\"sk-estimator-id-8\" class=\"sk-toggleable__label sk-toggleable__label-arrow\">GridSearchCV</label><div class=\"sk-toggleable__content\"><pre>GridSearchCV(cv=5, estimator=KNeighborsRegressor(),\n",
       "             param_grid={&#x27;n_neighbors&#x27;: array([ 5,  6,  7,  8,  9, 10, 11, 12, 13, 14, 15, 16, 17, 18, 19]),\n",
       "                         &#x27;p&#x27;: [2, 4]})</pre></div></div></div><div class=\"sk-parallel\"><div class=\"sk-parallel-item\"><div class=\"sk-item\"><div class=\"sk-label-container\"><div class=\"sk-label sk-toggleable\"><input class=\"sk-toggleable__control sk-hidden--visually\" id=\"sk-estimator-id-9\" type=\"checkbox\" ><label for=\"sk-estimator-id-9\" class=\"sk-toggleable__label sk-toggleable__label-arrow\">estimator: KNeighborsRegressor</label><div class=\"sk-toggleable__content\"><pre>KNeighborsRegressor()</pre></div></div></div><div class=\"sk-serial\"><div class=\"sk-item\"><div class=\"sk-estimator sk-toggleable\"><input class=\"sk-toggleable__control sk-hidden--visually\" id=\"sk-estimator-id-10\" type=\"checkbox\" ><label for=\"sk-estimator-id-10\" class=\"sk-toggleable__label sk-toggleable__label-arrow\">KNeighborsRegressor</label><div class=\"sk-toggleable__content\"><pre>KNeighborsRegressor()</pre></div></div></div></div></div></div></div></div></div></div>"
      ],
      "text/plain": [
       "GridSearchCV(cv=5, estimator=KNeighborsRegressor(),\n",
       "             param_grid={'n_neighbors': array([ 5,  6,  7,  8,  9, 10, 11, 12, 13, 14, 15, 16, 17, 18, 19]),\n",
       "                         'p': [2, 4]})"
      ]
     },
     "execution_count": 115,
     "metadata": {},
     "output_type": "execute_result"
    }
   ],
   "source": [
    "knn_model = KNeighborsRegressor()\n",
    "hyp = {'p':[2,4],  # p - parameter(distance metric) 2 = manhattann distance, 4 = Eucledian distance\n",
    "       'n_neighbors' : np.arange(5,20)} \n",
    "gscv_knn_model = GridSearchCV(knn_model, hyp, cv=5) # cv= cross validation\n",
    "gscv_knn_model.fit(x_train,y_train)"
   ]
  },
  {
   "cell_type": "code",
   "execution_count": 116,
   "id": "10b43580-c965-4588-919d-3699794cbcf0",
   "metadata": {},
   "outputs": [],
   "source": [
    "from sklearn.model_selection import GridSearchCV"
   ]
  },
  {
   "cell_type": "code",
   "execution_count": 117,
   "id": "8924f9ff-4e53-4b46-88ac-28db27347696",
   "metadata": {},
   "outputs": [
    {
     "data": {
      "text/plain": [
       "{'n_neighbors': 13, 'p': 2}"
      ]
     },
     "execution_count": 117,
     "metadata": {},
     "output_type": "execute_result"
    }
   ],
   "source": [
    "gscv_knn_model.best_params_"
   ]
  },
  {
   "cell_type": "code",
   "execution_count": 118,
   "id": "1897580a-5e38-43e1-b50c-b1e0500c376b",
   "metadata": {},
   "outputs": [
    {
     "name": "stdout",
     "output_type": "stream",
     "text": [
      "Mean Squared error is: 214043501920.8786\n",
      "Mean Absolute error is: 462648.3566607349\n",
      "The r2 score is: 0.3413903940041607\n"
     ]
    }
   ],
   "source": [
    "y_pred_new = gscv_knn_model.predict(x_test)\n",
    "\n",
    "mse = mean_squared_error(y_test,y_pred_new)\n",
    "print(\"Mean Squared error is:\",mse)\n",
    "\n",
    "mae = np.sqrt(mse)\n",
    "print(\"Mean Absolute error is:\", mae)\n",
    "\n",
    "r2score = r2_score(y_test,y_pred_new)\n",
    "print(\"The r2 score is:\", r2score)"
   ]
  },
  {
   "cell_type": "code",
   "execution_count": 119,
   "id": "5cbdff3c-f762-420b-a664-9aac4fd21f09",
   "metadata": {},
   "outputs": [],
   "source": [
    "#RandomForestRegressor"
   ]
  },
  {
   "cell_type": "code",
   "execution_count": 120,
   "id": "e79dfa6c-55f4-4f31-9d22-6d839545c7a2",
   "metadata": {},
   "outputs": [],
   "source": [
    "from sklearn.ensemble import RandomForestRegressor\n",
    "from sklearn.model_selection import RandomizedSearchCV"
   ]
  },
  {
   "cell_type": "code",
   "execution_count": 121,
   "id": "3a2f1495-8ba0-4e12-be09-46e952b3bca7",
   "metadata": {},
   "outputs": [
    {
     "data": {
      "text/html": [
       "<style>#sk-container-id-7 {color: black;background-color: white;}#sk-container-id-7 pre{padding: 0;}#sk-container-id-7 div.sk-toggleable {background-color: white;}#sk-container-id-7 label.sk-toggleable__label {cursor: pointer;display: block;width: 100%;margin-bottom: 0;padding: 0.3em;box-sizing: border-box;text-align: center;}#sk-container-id-7 label.sk-toggleable__label-arrow:before {content: \"▸\";float: left;margin-right: 0.25em;color: #696969;}#sk-container-id-7 label.sk-toggleable__label-arrow:hover:before {color: black;}#sk-container-id-7 div.sk-estimator:hover label.sk-toggleable__label-arrow:before {color: black;}#sk-container-id-7 div.sk-toggleable__content {max-height: 0;max-width: 0;overflow: hidden;text-align: left;background-color: #f0f8ff;}#sk-container-id-7 div.sk-toggleable__content pre {margin: 0.2em;color: black;border-radius: 0.25em;background-color: #f0f8ff;}#sk-container-id-7 input.sk-toggleable__control:checked~div.sk-toggleable__content {max-height: 200px;max-width: 100%;overflow: auto;}#sk-container-id-7 input.sk-toggleable__control:checked~label.sk-toggleable__label-arrow:before {content: \"▾\";}#sk-container-id-7 div.sk-estimator input.sk-toggleable__control:checked~label.sk-toggleable__label {background-color: #d4ebff;}#sk-container-id-7 div.sk-label input.sk-toggleable__control:checked~label.sk-toggleable__label {background-color: #d4ebff;}#sk-container-id-7 input.sk-hidden--visually {border: 0;clip: rect(1px 1px 1px 1px);clip: rect(1px, 1px, 1px, 1px);height: 1px;margin: -1px;overflow: hidden;padding: 0;position: absolute;width: 1px;}#sk-container-id-7 div.sk-estimator {font-family: monospace;background-color: #f0f8ff;border: 1px dotted black;border-radius: 0.25em;box-sizing: border-box;margin-bottom: 0.5em;}#sk-container-id-7 div.sk-estimator:hover {background-color: #d4ebff;}#sk-container-id-7 div.sk-parallel-item::after {content: \"\";width: 100%;border-bottom: 1px solid gray;flex-grow: 1;}#sk-container-id-7 div.sk-label:hover label.sk-toggleable__label {background-color: #d4ebff;}#sk-container-id-7 div.sk-serial::before {content: \"\";position: absolute;border-left: 1px solid gray;box-sizing: border-box;top: 0;bottom: 0;left: 50%;z-index: 0;}#sk-container-id-7 div.sk-serial {display: flex;flex-direction: column;align-items: center;background-color: white;padding-right: 0.2em;padding-left: 0.2em;position: relative;}#sk-container-id-7 div.sk-item {position: relative;z-index: 1;}#sk-container-id-7 div.sk-parallel {display: flex;align-items: stretch;justify-content: center;background-color: white;position: relative;}#sk-container-id-7 div.sk-item::before, #sk-container-id-7 div.sk-parallel-item::before {content: \"\";position: absolute;border-left: 1px solid gray;box-sizing: border-box;top: 0;bottom: 0;left: 50%;z-index: -1;}#sk-container-id-7 div.sk-parallel-item {display: flex;flex-direction: column;z-index: 1;position: relative;background-color: white;}#sk-container-id-7 div.sk-parallel-item:first-child::after {align-self: flex-end;width: 50%;}#sk-container-id-7 div.sk-parallel-item:last-child::after {align-self: flex-start;width: 50%;}#sk-container-id-7 div.sk-parallel-item:only-child::after {width: 0;}#sk-container-id-7 div.sk-dashed-wrapped {border: 1px dashed gray;margin: 0 0.4em 0.5em 0.4em;box-sizing: border-box;padding-bottom: 0.4em;background-color: white;}#sk-container-id-7 div.sk-label label {font-family: monospace;font-weight: bold;display: inline-block;line-height: 1.2em;}#sk-container-id-7 div.sk-label-container {text-align: center;}#sk-container-id-7 div.sk-container {/* jupyter's `normalize.less` sets `[hidden] { display: none; }` but bootstrap.min.css set `[hidden] { display: none !important; }` so we also need the `!important` here to be able to override the default hidden behavior on the sphinx rendered scikit-learn.org. See: https://github.com/scikit-learn/scikit-learn/issues/21755 */display: inline-block !important;position: relative;}#sk-container-id-7 div.sk-text-repr-fallback {display: none;}</style><div id=\"sk-container-id-7\" class=\"sk-top-container\"><div class=\"sk-text-repr-fallback\"><pre>RandomForestRegressor()</pre><b>In a Jupyter environment, please rerun this cell to show the HTML representation or trust the notebook. <br />On GitHub, the HTML representation is unable to render, please try loading this page with nbviewer.org.</b></div><div class=\"sk-container\" hidden><div class=\"sk-item\"><div class=\"sk-estimator sk-toggleable\"><input class=\"sk-toggleable__control sk-hidden--visually\" id=\"sk-estimator-id-11\" type=\"checkbox\" checked><label for=\"sk-estimator-id-11\" class=\"sk-toggleable__label sk-toggleable__label-arrow\">RandomForestRegressor</label><div class=\"sk-toggleable__content\"><pre>RandomForestRegressor()</pre></div></div></div></div></div>"
      ],
      "text/plain": [
       "RandomForestRegressor()"
      ]
     },
     "execution_count": 121,
     "metadata": {},
     "output_type": "execute_result"
    }
   ],
   "source": [
    "rf_model = RandomForestRegressor()\n",
    "rf_model.fit(x_train,y_train)"
   ]
  },
  {
   "cell_type": "code",
   "execution_count": null,
   "id": "57f4de3c-e537-4b3d-a0c5-11a810d127b2",
   "metadata": {},
   "outputs": [],
   "source": [
    "#Testing Data Evolution"
   ]
  },
  {
   "cell_type": "code",
   "execution_count": 122,
   "id": "a41ad914-c7d2-4d04-bb4d-6af56c455783",
   "metadata": {},
   "outputs": [
    {
     "name": "stdout",
     "output_type": "stream",
     "text": [
      "Mean Squared error is : 177969339485.5902\n",
      "Mean Absolute error is: 421864.1244353331\n",
      "The r2 score is: 0.45239021270885393\n"
     ]
    }
   ],
   "source": [
    "y_pred = rf_model.predict(x_test)\n",
    "\n",
    "mse = mean_squared_error(y_test, y_pred)\n",
    "print(\"Mean Squared error is :\", mse)\n",
    "\n",
    "mae = np.sqrt(mse)\n",
    "print(\"Mean Absolute error is:\", mae)\n",
    "\n",
    "r2score = r2_score(y_test,y_pred)\n",
    "print(\"The r2 score is:\", r2score)\n"
   ]
  },
  {
   "cell_type": "code",
   "execution_count": 123,
   "id": "6ddc6325-b8a3-4d9b-809f-102fdf9345e1",
   "metadata": {
    "scrolled": true
   },
   "outputs": [
    {
     "name": "stdout",
     "output_type": "stream",
     "text": [
      "Mean Squared error is : 44105688063.64586\n",
      "Mean Absolute error is: 210013.54257201095\n",
      "The r2 score is: 0.86188567021634\n"
     ]
    }
   ],
   "source": [
    "#Training data analysis\n",
    "y_pred_train = rf_model.predict(x_train)\n",
    "\n",
    "mse = mean_squared_error(y_train, y_pred_train)\n",
    "print(\"Mean Squared error is :\", mse)\n",
    "\n",
    "mae = np.sqrt(mse)\n",
    "print(\"Mean Absolute error is:\", mae)\n",
    "\n",
    "r2score = r2_score(y_train,y_pred_train)\n",
    "print(\"The r2 score is:\", r2score)"
   ]
  },
  {
   "cell_type": "code",
   "execution_count": null,
   "id": "589e8490-1df3-482a-bc11-7569a55d4f8a",
   "metadata": {},
   "outputs": [],
   "source": [
    "#Decision Tree Regressor"
   ]
  },
  {
   "cell_type": "code",
   "execution_count": 124,
   "id": "12b00c71-f33e-4aa5-9741-975c504331dd",
   "metadata": {},
   "outputs": [],
   "source": [
    "dt_mod = DecisionTreeRegressor()"
   ]
  },
  {
   "cell_type": "code",
   "execution_count": 125,
   "id": "d71fbb09-af13-4c9c-889b-1e4f521be95b",
   "metadata": {},
   "outputs": [
    {
     "data": {
      "text/html": [
       "<style>#sk-container-id-8 {color: black;background-color: white;}#sk-container-id-8 pre{padding: 0;}#sk-container-id-8 div.sk-toggleable {background-color: white;}#sk-container-id-8 label.sk-toggleable__label {cursor: pointer;display: block;width: 100%;margin-bottom: 0;padding: 0.3em;box-sizing: border-box;text-align: center;}#sk-container-id-8 label.sk-toggleable__label-arrow:before {content: \"▸\";float: left;margin-right: 0.25em;color: #696969;}#sk-container-id-8 label.sk-toggleable__label-arrow:hover:before {color: black;}#sk-container-id-8 div.sk-estimator:hover label.sk-toggleable__label-arrow:before {color: black;}#sk-container-id-8 div.sk-toggleable__content {max-height: 0;max-width: 0;overflow: hidden;text-align: left;background-color: #f0f8ff;}#sk-container-id-8 div.sk-toggleable__content pre {margin: 0.2em;color: black;border-radius: 0.25em;background-color: #f0f8ff;}#sk-container-id-8 input.sk-toggleable__control:checked~div.sk-toggleable__content {max-height: 200px;max-width: 100%;overflow: auto;}#sk-container-id-8 input.sk-toggleable__control:checked~label.sk-toggleable__label-arrow:before {content: \"▾\";}#sk-container-id-8 div.sk-estimator input.sk-toggleable__control:checked~label.sk-toggleable__label {background-color: #d4ebff;}#sk-container-id-8 div.sk-label input.sk-toggleable__control:checked~label.sk-toggleable__label {background-color: #d4ebff;}#sk-container-id-8 input.sk-hidden--visually {border: 0;clip: rect(1px 1px 1px 1px);clip: rect(1px, 1px, 1px, 1px);height: 1px;margin: -1px;overflow: hidden;padding: 0;position: absolute;width: 1px;}#sk-container-id-8 div.sk-estimator {font-family: monospace;background-color: #f0f8ff;border: 1px dotted black;border-radius: 0.25em;box-sizing: border-box;margin-bottom: 0.5em;}#sk-container-id-8 div.sk-estimator:hover {background-color: #d4ebff;}#sk-container-id-8 div.sk-parallel-item::after {content: \"\";width: 100%;border-bottom: 1px solid gray;flex-grow: 1;}#sk-container-id-8 div.sk-label:hover label.sk-toggleable__label {background-color: #d4ebff;}#sk-container-id-8 div.sk-serial::before {content: \"\";position: absolute;border-left: 1px solid gray;box-sizing: border-box;top: 0;bottom: 0;left: 50%;z-index: 0;}#sk-container-id-8 div.sk-serial {display: flex;flex-direction: column;align-items: center;background-color: white;padding-right: 0.2em;padding-left: 0.2em;position: relative;}#sk-container-id-8 div.sk-item {position: relative;z-index: 1;}#sk-container-id-8 div.sk-parallel {display: flex;align-items: stretch;justify-content: center;background-color: white;position: relative;}#sk-container-id-8 div.sk-item::before, #sk-container-id-8 div.sk-parallel-item::before {content: \"\";position: absolute;border-left: 1px solid gray;box-sizing: border-box;top: 0;bottom: 0;left: 50%;z-index: -1;}#sk-container-id-8 div.sk-parallel-item {display: flex;flex-direction: column;z-index: 1;position: relative;background-color: white;}#sk-container-id-8 div.sk-parallel-item:first-child::after {align-self: flex-end;width: 50%;}#sk-container-id-8 div.sk-parallel-item:last-child::after {align-self: flex-start;width: 50%;}#sk-container-id-8 div.sk-parallel-item:only-child::after {width: 0;}#sk-container-id-8 div.sk-dashed-wrapped {border: 1px dashed gray;margin: 0 0.4em 0.5em 0.4em;box-sizing: border-box;padding-bottom: 0.4em;background-color: white;}#sk-container-id-8 div.sk-label label {font-family: monospace;font-weight: bold;display: inline-block;line-height: 1.2em;}#sk-container-id-8 div.sk-label-container {text-align: center;}#sk-container-id-8 div.sk-container {/* jupyter's `normalize.less` sets `[hidden] { display: none; }` but bootstrap.min.css set `[hidden] { display: none !important; }` so we also need the `!important` here to be able to override the default hidden behavior on the sphinx rendered scikit-learn.org. See: https://github.com/scikit-learn/scikit-learn/issues/21755 */display: inline-block !important;position: relative;}#sk-container-id-8 div.sk-text-repr-fallback {display: none;}</style><div id=\"sk-container-id-8\" class=\"sk-top-container\"><div class=\"sk-text-repr-fallback\"><pre>DecisionTreeRegressor()</pre><b>In a Jupyter environment, please rerun this cell to show the HTML representation or trust the notebook. <br />On GitHub, the HTML representation is unable to render, please try loading this page with nbviewer.org.</b></div><div class=\"sk-container\" hidden><div class=\"sk-item\"><div class=\"sk-estimator sk-toggleable\"><input class=\"sk-toggleable__control sk-hidden--visually\" id=\"sk-estimator-id-12\" type=\"checkbox\" checked><label for=\"sk-estimator-id-12\" class=\"sk-toggleable__label sk-toggleable__label-arrow\">DecisionTreeRegressor</label><div class=\"sk-toggleable__content\"><pre>DecisionTreeRegressor()</pre></div></div></div></div></div>"
      ],
      "text/plain": [
       "DecisionTreeRegressor()"
      ]
     },
     "execution_count": 125,
     "metadata": {},
     "output_type": "execute_result"
    }
   ],
   "source": [
    "dt_mod.fit(x_train,y_train)"
   ]
  },
  {
   "cell_type": "code",
   "execution_count": 126,
   "id": "93c5004d-354f-4673-9d73-2999654e00a9",
   "metadata": {},
   "outputs": [],
   "source": [
    "#Testing Data Evolution"
   ]
  },
  {
   "cell_type": "code",
   "execution_count": 127,
   "id": "1a3336de-c292-4981-b82a-72ffdc0620fb",
   "metadata": {},
   "outputs": [
    {
     "name": "stdout",
     "output_type": "stream",
     "text": [
      "Mean Squared error is : 302549492784.9459\n",
      "Mean Absolute error is: 550044.991600638\n",
      "The r2 score is: 0.06905839023792626\n"
     ]
    }
   ],
   "source": [
    "y_pred = dt_mod.predict(x_test)\n",
    "\n",
    "mse = mean_squared_error(y_test, y_pred)\n",
    "print(\"Mean Squared error is :\", mse)\n",
    "\n",
    "mae = np.sqrt(mse)\n",
    "print(\"Mean Absolute error is:\", mae)\n",
    "\n",
    "r2score = r2_score(y_test,y_pred)\n",
    "print(\"The r2 score is:\", r2score)\n"
   ]
  },
  {
   "cell_type": "code",
   "execution_count": null,
   "id": "02d65375-7f6b-4e2d-994f-8191ef283490",
   "metadata": {},
   "outputs": [],
   "source": [
    "#Training Data Evolution"
   ]
  },
  {
   "cell_type": "code",
   "execution_count": 128,
   "id": "810b00c9-da9f-4f98-9ae1-75a2e6433082",
   "metadata": {},
   "outputs": [
    {
     "name": "stdout",
     "output_type": "stream",
     "text": [
      "Mean Squared error is : 26098351062.256687\n",
      "Mean Absolute error is: 161549.8407992304\n",
      "The r2 score is: 0.9182745712929188\n"
     ]
    }
   ],
   "source": [
    "y_pred_train = dt_mod.predict(x_train)\n",
    "\n",
    "mse = mean_squared_error(y_train, y_pred_train)\n",
    "print(\"Mean Squared error is :\", mse)\n",
    "\n",
    "mae = np.sqrt(mse)\n",
    "print(\"Mean Absolute error is:\", mae)\n",
    "\n",
    "r2score = r2_score(y_train,y_pred_train)\n",
    "print(\"The r2 score is:\", r2score)\n"
   ]
  },
  {
   "cell_type": "code",
   "execution_count": 129,
   "id": "f2534c37-c0f3-461a-b376-648fa343b130",
   "metadata": {},
   "outputs": [],
   "source": [
    "hyp = {'criterion' : ['mse','friedman_mse','mae'],\n",
    "      'max_depth' : np.arange(2,10),\n",
    "      'min_samples_split': np.arange(5,15),\n",
    "      'min_samples_leaf': np.arange(5,20)}"
   ]
  },
  {
   "cell_type": "code",
   "execution_count": 131,
   "id": "9b987e52-3f26-4fe7-97bf-a09c22984217",
   "metadata": {},
   "outputs": [
    {
     "data": {
      "text/html": [
       "<style>#sk-container-id-10 {color: black;background-color: white;}#sk-container-id-10 pre{padding: 0;}#sk-container-id-10 div.sk-toggleable {background-color: white;}#sk-container-id-10 label.sk-toggleable__label {cursor: pointer;display: block;width: 100%;margin-bottom: 0;padding: 0.3em;box-sizing: border-box;text-align: center;}#sk-container-id-10 label.sk-toggleable__label-arrow:before {content: \"▸\";float: left;margin-right: 0.25em;color: #696969;}#sk-container-id-10 label.sk-toggleable__label-arrow:hover:before {color: black;}#sk-container-id-10 div.sk-estimator:hover label.sk-toggleable__label-arrow:before {color: black;}#sk-container-id-10 div.sk-toggleable__content {max-height: 0;max-width: 0;overflow: hidden;text-align: left;background-color: #f0f8ff;}#sk-container-id-10 div.sk-toggleable__content pre {margin: 0.2em;color: black;border-radius: 0.25em;background-color: #f0f8ff;}#sk-container-id-10 input.sk-toggleable__control:checked~div.sk-toggleable__content {max-height: 200px;max-width: 100%;overflow: auto;}#sk-container-id-10 input.sk-toggleable__control:checked~label.sk-toggleable__label-arrow:before {content: \"▾\";}#sk-container-id-10 div.sk-estimator input.sk-toggleable__control:checked~label.sk-toggleable__label {background-color: #d4ebff;}#sk-container-id-10 div.sk-label input.sk-toggleable__control:checked~label.sk-toggleable__label {background-color: #d4ebff;}#sk-container-id-10 input.sk-hidden--visually {border: 0;clip: rect(1px 1px 1px 1px);clip: rect(1px, 1px, 1px, 1px);height: 1px;margin: -1px;overflow: hidden;padding: 0;position: absolute;width: 1px;}#sk-container-id-10 div.sk-estimator {font-family: monospace;background-color: #f0f8ff;border: 1px dotted black;border-radius: 0.25em;box-sizing: border-box;margin-bottom: 0.5em;}#sk-container-id-10 div.sk-estimator:hover {background-color: #d4ebff;}#sk-container-id-10 div.sk-parallel-item::after {content: \"\";width: 100%;border-bottom: 1px solid gray;flex-grow: 1;}#sk-container-id-10 div.sk-label:hover label.sk-toggleable__label {background-color: #d4ebff;}#sk-container-id-10 div.sk-serial::before {content: \"\";position: absolute;border-left: 1px solid gray;box-sizing: border-box;top: 0;bottom: 0;left: 50%;z-index: 0;}#sk-container-id-10 div.sk-serial {display: flex;flex-direction: column;align-items: center;background-color: white;padding-right: 0.2em;padding-left: 0.2em;position: relative;}#sk-container-id-10 div.sk-item {position: relative;z-index: 1;}#sk-container-id-10 div.sk-parallel {display: flex;align-items: stretch;justify-content: center;background-color: white;position: relative;}#sk-container-id-10 div.sk-item::before, #sk-container-id-10 div.sk-parallel-item::before {content: \"\";position: absolute;border-left: 1px solid gray;box-sizing: border-box;top: 0;bottom: 0;left: 50%;z-index: -1;}#sk-container-id-10 div.sk-parallel-item {display: flex;flex-direction: column;z-index: 1;position: relative;background-color: white;}#sk-container-id-10 div.sk-parallel-item:first-child::after {align-self: flex-end;width: 50%;}#sk-container-id-10 div.sk-parallel-item:last-child::after {align-self: flex-start;width: 50%;}#sk-container-id-10 div.sk-parallel-item:only-child::after {width: 0;}#sk-container-id-10 div.sk-dashed-wrapped {border: 1px dashed gray;margin: 0 0.4em 0.5em 0.4em;box-sizing: border-box;padding-bottom: 0.4em;background-color: white;}#sk-container-id-10 div.sk-label label {font-family: monospace;font-weight: bold;display: inline-block;line-height: 1.2em;}#sk-container-id-10 div.sk-label-container {text-align: center;}#sk-container-id-10 div.sk-container {/* jupyter's `normalize.less` sets `[hidden] { display: none; }` but bootstrap.min.css set `[hidden] { display: none !important; }` so we also need the `!important` here to be able to override the default hidden behavior on the sphinx rendered scikit-learn.org. See: https://github.com/scikit-learn/scikit-learn/issues/21755 */display: inline-block !important;position: relative;}#sk-container-id-10 div.sk-text-repr-fallback {display: none;}</style><div id=\"sk-container-id-10\" class=\"sk-top-container\"><div class=\"sk-text-repr-fallback\"><pre>GridSearchCV(cv=5, estimator=DecisionTreeRegressor(),\n",
       "             param_grid={&#x27;criterion&#x27;: [&#x27;mse&#x27;, &#x27;friedman_mse&#x27;, &#x27;mae&#x27;],\n",
       "                         &#x27;max_depth&#x27;: array([2, 3, 4, 5, 6, 7, 8, 9]),\n",
       "                         &#x27;min_samples_leaf&#x27;: array([ 5,  6,  7,  8,  9, 10, 11, 12, 13, 14, 15, 16, 17, 18, 19]),\n",
       "                         &#x27;min_samples_split&#x27;: array([ 5,  6,  7,  8,  9, 10, 11, 12, 13, 14])})</pre><b>In a Jupyter environment, please rerun this cell to show the HTML representation or trust the notebook. <br />On GitHub, the HTML representation is unable to render, please try loading this page with nbviewer.org.</b></div><div class=\"sk-container\" hidden><div class=\"sk-item sk-dashed-wrapped\"><div class=\"sk-label-container\"><div class=\"sk-label sk-toggleable\"><input class=\"sk-toggleable__control sk-hidden--visually\" id=\"sk-estimator-id-16\" type=\"checkbox\" ><label for=\"sk-estimator-id-16\" class=\"sk-toggleable__label sk-toggleable__label-arrow\">GridSearchCV</label><div class=\"sk-toggleable__content\"><pre>GridSearchCV(cv=5, estimator=DecisionTreeRegressor(),\n",
       "             param_grid={&#x27;criterion&#x27;: [&#x27;mse&#x27;, &#x27;friedman_mse&#x27;, &#x27;mae&#x27;],\n",
       "                         &#x27;max_depth&#x27;: array([2, 3, 4, 5, 6, 7, 8, 9]),\n",
       "                         &#x27;min_samples_leaf&#x27;: array([ 5,  6,  7,  8,  9, 10, 11, 12, 13, 14, 15, 16, 17, 18, 19]),\n",
       "                         &#x27;min_samples_split&#x27;: array([ 5,  6,  7,  8,  9, 10, 11, 12, 13, 14])})</pre></div></div></div><div class=\"sk-parallel\"><div class=\"sk-parallel-item\"><div class=\"sk-item\"><div class=\"sk-label-container\"><div class=\"sk-label sk-toggleable\"><input class=\"sk-toggleable__control sk-hidden--visually\" id=\"sk-estimator-id-17\" type=\"checkbox\" ><label for=\"sk-estimator-id-17\" class=\"sk-toggleable__label sk-toggleable__label-arrow\">estimator: DecisionTreeRegressor</label><div class=\"sk-toggleable__content\"><pre>DecisionTreeRegressor()</pre></div></div></div><div class=\"sk-serial\"><div class=\"sk-item\"><div class=\"sk-estimator sk-toggleable\"><input class=\"sk-toggleable__control sk-hidden--visually\" id=\"sk-estimator-id-18\" type=\"checkbox\" ><label for=\"sk-estimator-id-18\" class=\"sk-toggleable__label sk-toggleable__label-arrow\">DecisionTreeRegressor</label><div class=\"sk-toggleable__content\"><pre>DecisionTreeRegressor()</pre></div></div></div></div></div></div></div></div></div></div>"
      ],
      "text/plain": [
       "GridSearchCV(cv=5, estimator=DecisionTreeRegressor(),\n",
       "             param_grid={'criterion': ['mse', 'friedman_mse', 'mae'],\n",
       "                         'max_depth': array([2, 3, 4, 5, 6, 7, 8, 9]),\n",
       "                         'min_samples_leaf': array([ 5,  6,  7,  8,  9, 10, 11, 12, 13, 14, 15, 16, 17, 18, 19]),\n",
       "                         'min_samples_split': array([ 5,  6,  7,  8,  9, 10, 11, 12, 13, 14])})"
      ]
     },
     "execution_count": 131,
     "metadata": {},
     "output_type": "execute_result"
    }
   ],
   "source": [
    "dt_mod = DecisionTreeRegressor()\n",
    "gscv_dt_mod = GridSearchCV(dt_mod, hyp, cv = 5)\n",
    "gscv_dt_mod.fit(x_train,y_train)"
   ]
  },
  {
   "cell_type": "code",
   "execution_count": 132,
   "id": "7a15d5a0-66d3-43bc-9863-c94badaa46f9",
   "metadata": {},
   "outputs": [
    {
     "data": {
      "text/html": [
       "<style>#sk-container-id-11 {color: black;background-color: white;}#sk-container-id-11 pre{padding: 0;}#sk-container-id-11 div.sk-toggleable {background-color: white;}#sk-container-id-11 label.sk-toggleable__label {cursor: pointer;display: block;width: 100%;margin-bottom: 0;padding: 0.3em;box-sizing: border-box;text-align: center;}#sk-container-id-11 label.sk-toggleable__label-arrow:before {content: \"▸\";float: left;margin-right: 0.25em;color: #696969;}#sk-container-id-11 label.sk-toggleable__label-arrow:hover:before {color: black;}#sk-container-id-11 div.sk-estimator:hover label.sk-toggleable__label-arrow:before {color: black;}#sk-container-id-11 div.sk-toggleable__content {max-height: 0;max-width: 0;overflow: hidden;text-align: left;background-color: #f0f8ff;}#sk-container-id-11 div.sk-toggleable__content pre {margin: 0.2em;color: black;border-radius: 0.25em;background-color: #f0f8ff;}#sk-container-id-11 input.sk-toggleable__control:checked~div.sk-toggleable__content {max-height: 200px;max-width: 100%;overflow: auto;}#sk-container-id-11 input.sk-toggleable__control:checked~label.sk-toggleable__label-arrow:before {content: \"▾\";}#sk-container-id-11 div.sk-estimator input.sk-toggleable__control:checked~label.sk-toggleable__label {background-color: #d4ebff;}#sk-container-id-11 div.sk-label input.sk-toggleable__control:checked~label.sk-toggleable__label {background-color: #d4ebff;}#sk-container-id-11 input.sk-hidden--visually {border: 0;clip: rect(1px 1px 1px 1px);clip: rect(1px, 1px, 1px, 1px);height: 1px;margin: -1px;overflow: hidden;padding: 0;position: absolute;width: 1px;}#sk-container-id-11 div.sk-estimator {font-family: monospace;background-color: #f0f8ff;border: 1px dotted black;border-radius: 0.25em;box-sizing: border-box;margin-bottom: 0.5em;}#sk-container-id-11 div.sk-estimator:hover {background-color: #d4ebff;}#sk-container-id-11 div.sk-parallel-item::after {content: \"\";width: 100%;border-bottom: 1px solid gray;flex-grow: 1;}#sk-container-id-11 div.sk-label:hover label.sk-toggleable__label {background-color: #d4ebff;}#sk-container-id-11 div.sk-serial::before {content: \"\";position: absolute;border-left: 1px solid gray;box-sizing: border-box;top: 0;bottom: 0;left: 50%;z-index: 0;}#sk-container-id-11 div.sk-serial {display: flex;flex-direction: column;align-items: center;background-color: white;padding-right: 0.2em;padding-left: 0.2em;position: relative;}#sk-container-id-11 div.sk-item {position: relative;z-index: 1;}#sk-container-id-11 div.sk-parallel {display: flex;align-items: stretch;justify-content: center;background-color: white;position: relative;}#sk-container-id-11 div.sk-item::before, #sk-container-id-11 div.sk-parallel-item::before {content: \"\";position: absolute;border-left: 1px solid gray;box-sizing: border-box;top: 0;bottom: 0;left: 50%;z-index: -1;}#sk-container-id-11 div.sk-parallel-item {display: flex;flex-direction: column;z-index: 1;position: relative;background-color: white;}#sk-container-id-11 div.sk-parallel-item:first-child::after {align-self: flex-end;width: 50%;}#sk-container-id-11 div.sk-parallel-item:last-child::after {align-self: flex-start;width: 50%;}#sk-container-id-11 div.sk-parallel-item:only-child::after {width: 0;}#sk-container-id-11 div.sk-dashed-wrapped {border: 1px dashed gray;margin: 0 0.4em 0.5em 0.4em;box-sizing: border-box;padding-bottom: 0.4em;background-color: white;}#sk-container-id-11 div.sk-label label {font-family: monospace;font-weight: bold;display: inline-block;line-height: 1.2em;}#sk-container-id-11 div.sk-label-container {text-align: center;}#sk-container-id-11 div.sk-container {/* jupyter's `normalize.less` sets `[hidden] { display: none; }` but bootstrap.min.css set `[hidden] { display: none !important; }` so we also need the `!important` here to be able to override the default hidden behavior on the sphinx rendered scikit-learn.org. See: https://github.com/scikit-learn/scikit-learn/issues/21755 */display: inline-block !important;position: relative;}#sk-container-id-11 div.sk-text-repr-fallback {display: none;}</style><div id=\"sk-container-id-11\" class=\"sk-top-container\"><div class=\"sk-text-repr-fallback\"><pre>DecisionTreeRegressor(criterion=&#x27;friedman_mse&#x27;, max_depth=7,\n",
       "                      min_samples_leaf=18, min_samples_split=5)</pre><b>In a Jupyter environment, please rerun this cell to show the HTML representation or trust the notebook. <br />On GitHub, the HTML representation is unable to render, please try loading this page with nbviewer.org.</b></div><div class=\"sk-container\" hidden><div class=\"sk-item\"><div class=\"sk-estimator sk-toggleable\"><input class=\"sk-toggleable__control sk-hidden--visually\" id=\"sk-estimator-id-19\" type=\"checkbox\" checked><label for=\"sk-estimator-id-19\" class=\"sk-toggleable__label sk-toggleable__label-arrow\">DecisionTreeRegressor</label><div class=\"sk-toggleable__content\"><pre>DecisionTreeRegressor(criterion=&#x27;friedman_mse&#x27;, max_depth=7,\n",
       "                      min_samples_leaf=18, min_samples_split=5)</pre></div></div></div></div></div>"
      ],
      "text/plain": [
       "DecisionTreeRegressor(criterion='friedman_mse', max_depth=7,\n",
       "                      min_samples_leaf=18, min_samples_split=5)"
      ]
     },
     "execution_count": 132,
     "metadata": {},
     "output_type": "execute_result"
    }
   ],
   "source": [
    "gscv_dt_mod.best_estimator_"
   ]
  },
  {
   "cell_type": "code",
   "execution_count": 133,
   "id": "f0716981-7eb7-4639-bcd4-4e2f4252e4eb",
   "metadata": {},
   "outputs": [
    {
     "name": "stdout",
     "output_type": "stream",
     "text": [
      "Mean Squared error is: 186829696731.35278\n",
      "The r2 score is: 0.4251269865784425\n"
     ]
    }
   ],
   "source": [
    "y_pred_new = gscv_dt_mod.predict(x_test)\n",
    "\n",
    "mse = mean_squared_error(y_test,y_pred_new)\n",
    "print(\"Mean Squared error is:\",mse)\n",
    "\n",
    "r2score = r2_score(y_test,y_pred_new)\n",
    "print(\"The r2 score is:\", r2score)"
   ]
  },
  {
   "cell_type": "markdown",
   "id": "84a217ba-876f-44f8-ada2-e86f81e6face",
   "metadata": {},
   "source": [
    "INTERPRETATION"
   ]
  },
  {
   "cell_type": "code",
   "execution_count": null,
   "id": "ad41095e-c7a0-499e-9f2f-5aa080cb0dd0",
   "metadata": {},
   "outputs": [],
   "source": [
    "From above dataset of Melbourne Housing we applied all possible models of Regression\n",
    "After applying \n",
    "Linear Regression we get accuracy = 0.236830\n",
    "KNN we get accuracy = 0.34139\n",
    "Decision Tree we get accuracy = 0.4253\n",
    "Random Forest we get accuracy = 0.86188\n",
    "So we get the conclusion that best accuracy score is 86% that is of Random Forest.\n"
   ]
  }
 ],
 "metadata": {
  "kernelspec": {
   "display_name": "Python 3 (ipykernel)",
   "language": "python",
   "name": "python3"
  },
  "language_info": {
   "codemirror_mode": {
    "name": "ipython",
    "version": 3
   },
   "file_extension": ".py",
   "mimetype": "text/x-python",
   "name": "python",
   "nbconvert_exporter": "python",
   "pygments_lexer": "ipython3",
   "version": "3.11.7"
  }
 },
 "nbformat": 4,
 "nbformat_minor": 5
}
